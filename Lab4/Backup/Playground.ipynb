{
 "cells": [
  {
   "cell_type": "code",
   "execution_count": 1,
   "metadata": {},
   "outputs": [],
   "source": [
    "import re\n",
    "import random"
   ]
  },
  {
   "cell_type": "code",
   "execution_count": 2,
   "metadata": {},
   "outputs": [],
   "source": [
    "def getCompileModel(tag):\n",
    "    return re.compile(\"<{}>(\\d+)</{}>\".format(tag,tag), re.IGNORECASE)"
   ]
  },
  {
   "cell_type": "code",
   "execution_count": 3,
   "metadata": {},
   "outputs": [],
   "source": [
    "arrSize=getCompileModel('Size')\n",
    "parity=getCompileModel('Parity')\n",
    "rowPattern = r\"<Row>(.*)</Row>\"\n",
    "numModel = getCompileModel('Number')\n",
    "totSize = getCompileModel('totSize')\n",
    "block = getCompileModel('block')"
   ]
  },
  {
   "cell_type": "code",
   "execution_count": 4,
   "metadata": {},
   "outputs": [
    {
     "data": {
      "text/plain": [
       "['45', '453']"
      ]
     },
     "execution_count": 4,
     "metadata": {},
     "output_type": "execute_result"
    }
   ],
   "source": [
    "re.findall(arrSize,\"<Size>45</Size><Size>453</Size>\")"
   ]
  },
  {
   "cell_type": "code",
   "execution_count": 5,
   "metadata": {},
   "outputs": [],
   "source": [
    "Mat = [[1,2],[3,4]]"
   ]
  },
  {
   "cell_type": "code",
   "execution_count": 6,
   "metadata": {},
   "outputs": [],
   "source": [
    "def encapsulateData(Mat):\n",
    "    totalString ='<Matrix>'\n",
    "    for row in Mat:\n",
    "        rowstring = '<Row>'\n",
    "        for number in row:\n",
    "            rowstring +=\"<Number>\"+str(number)+\"</Number>\" \n",
    "        rowstring +=\"</Row> \\n\"\n",
    "        totalString+=rowstring\n",
    "    return totalString+\"</Matrix>\""
   ]
  },
  {
   "cell_type": "code",
   "execution_count": 7,
   "metadata": {},
   "outputs": [],
   "source": [
    "totalString= encapsulateData(Mat)"
   ]
  },
  {
   "cell_type": "code",
   "execution_count": 8,
   "metadata": {},
   "outputs": [],
   "source": [
    "rows=re.findall(r\"<Row>(.*)</Row>\",totalString)"
   ]
  },
  {
   "cell_type": "code",
   "execution_count": 9,
   "metadata": {},
   "outputs": [
    {
     "name": "stdout",
     "output_type": "stream",
     "text": [
      "['1', '2']\n",
      "['3', '4']\n"
     ]
    }
   ],
   "source": [
    "for row in rows:\n",
    "    print(numModel.findall(row))"
   ]
  },
  {
   "cell_type": "code",
   "execution_count": 10,
   "metadata": {},
   "outputs": [],
   "source": [
    "def getRandomMatrix(size):\n",
    "    mat=[]\n",
    "    for i in range(size):\n",
    "        row=[]\n",
    "        for j in range(size):\n",
    "            row.append(random.randint(1,10))\n",
    "        mat.append(row)\n",
    "    return mat"
   ]
  },
  {
   "cell_type": "code",
   "execution_count": 11,
   "metadata": {},
   "outputs": [],
   "source": [
    "Mat=getRandomMatrix(20)"
   ]
  },
  {
   "cell_type": "code",
   "execution_count": 12,
   "metadata": {},
   "outputs": [
    {
     "data": {
      "text/plain": [
       "[[5, 9, 8, 3, 3, 5, 2, 7, 5, 1, 2, 7, 6, 9, 10, 10, 7, 5, 7, 1],\n",
       " [4, 2, 9, 10, 8, 3, 5, 7, 5, 1, 7, 7, 4, 5, 8, 3, 3, 9, 1, 8],\n",
       " [4, 5, 5, 8, 3, 6, 3, 4, 9, 7, 4, 9, 5, 6, 1, 3, 4, 2, 2, 5],\n",
       " [3, 8, 2, 4, 8, 9, 7, 5, 5, 7, 3, 7, 2, 1, 10, 10, 2, 2, 10, 5],\n",
       " [8, 1, 8, 1, 5, 4, 9, 6, 3, 6, 6, 4, 7, 8, 9, 2, 4, 10, 1, 6],\n",
       " [8, 10, 6, 10, 3, 9, 10, 2, 5, 4, 8, 10, 3, 1, 1, 8, 5, 7, 7, 4],\n",
       " [6, 6, 5, 4, 6, 2, 5, 8, 2, 7, 4, 2, 8, 6, 8, 10, 4, 8, 6, 5],\n",
       " [7, 1, 1, 1, 4, 8, 7, 3, 7, 6, 5, 4, 7, 9, 7, 4, 2, 6, 2, 8],\n",
       " [5, 8, 1, 5, 9, 10, 4, 3, 6, 5, 8, 7, 9, 5, 10, 10, 6, 2, 7, 4],\n",
       " [6, 1, 7, 10, 7, 9, 4, 3, 9, 3, 1, 4, 10, 2, 9, 4, 1, 9, 10, 3],\n",
       " [9, 5, 10, 8, 10, 2, 4, 1, 10, 9, 10, 9, 5, 3, 1, 6, 3, 8, 4, 1],\n",
       " [6, 10, 6, 3, 9, 4, 1, 10, 10, 3, 6, 7, 9, 3, 10, 9, 6, 6, 6, 5],\n",
       " [3, 2, 4, 3, 8, 1, 10, 4, 3, 5, 10, 9, 4, 6, 8, 6, 6, 9, 3, 7],\n",
       " [8, 2, 5, 4, 6, 10, 9, 1, 10, 8, 8, 2, 5, 8, 9, 10, 9, 9, 4, 6],\n",
       " [6, 6, 10, 5, 2, 2, 10, 7, 7, 8, 6, 10, 3, 2, 7, 4, 10, 5, 10, 8],\n",
       " [4, 4, 9, 9, 7, 2, 7, 7, 5, 2, 1, 1, 2, 1, 6, 2, 10, 6, 4, 9],\n",
       " [5, 7, 4, 7, 1, 4, 9, 5, 9, 8, 3, 3, 1, 10, 2, 6, 7, 3, 3, 5],\n",
       " [8, 9, 10, 1, 4, 5, 4, 7, 9, 2, 8, 7, 8, 9, 7, 3, 2, 9, 8, 10],\n",
       " [8, 7, 10, 1, 3, 10, 9, 8, 9, 4, 1, 1, 4, 2, 5, 6, 5, 2, 1, 8],\n",
       " [2, 4, 1, 3, 4, 8, 3, 4, 6, 6, 9, 3, 5, 2, 5, 1, 6, 7, 3, 5]]"
      ]
     },
     "execution_count": 12,
     "metadata": {},
     "output_type": "execute_result"
    }
   ],
   "source": [
    "Mat"
   ]
  },
  {
   "cell_type": "code",
   "execution_count": 13,
   "metadata": {},
   "outputs": [],
   "source": [
    "requiredString = encapsulateData(Mat)"
   ]
  },
  {
   "cell_type": "code",
   "execution_count": 14,
   "metadata": {},
   "outputs": [
    {
     "data": {
      "text/plain": [
       "7519"
      ]
     },
     "execution_count": 14,
     "metadata": {},
     "output_type": "execute_result"
    }
   ],
   "source": [
    "len(requiredString)"
   ]
  },
  {
   "cell_type": "code",
   "execution_count": 15,
   "metadata": {},
   "outputs": [],
   "source": [
    "totalChunks = len(requiredString)//1000\n",
    "if len(requiredString)%1000 !=0:\n",
    "    residualChunk = 1\n",
    "else:\n",
    "    residualChunk = 0"
   ]
  },
  {
   "cell_type": "code",
   "execution_count": 16,
   "metadata": {},
   "outputs": [
    {
     "data": {
      "text/plain": [
       "7"
      ]
     },
     "execution_count": 16,
     "metadata": {},
     "output_type": "execute_result"
    }
   ],
   "source": [
    "totalChunks"
   ]
  },
  {
   "cell_type": "code",
   "execution_count": 17,
   "metadata": {},
   "outputs": [
    {
     "data": {
      "text/plain": [
       "1"
      ]
     },
     "execution_count": 17,
     "metadata": {},
     "output_type": "execute_result"
    }
   ],
   "source": [
    "residualChunk"
   ]
  },
  {
   "cell_type": "code",
   "execution_count": 18,
   "metadata": {},
   "outputs": [
    {
     "data": {
      "text/plain": [
       "'er>10</Number><Number>2</Number><Number>5</Number><Number>4</Number><Number>8</Number><Number>10</Number><Number>3</Number><Number>1</Number><Number>1</Number><Number>8</Number><Number>5</Number><Number>7</Number><Number>7</Number><Number>4</Number></Row> \\n<Row><Number>6</Number><Number>6</Number><Number>5</Number><Number>4</Number><Number>6</Number><Number>2</Number><Number>5</Number><Number>8</Number><Number>2</Number><Number>7</Number><Number>4</Number><Number>2</Number><Number>8</Number><Number>6</Number><Number>8</Number><Number>10</Number><Number>4</Number><Number>8</Number><Number>6</Number><Number>5</Number></Row> \\n<Row><Number>7</Number><Number>1</Number><Number>1</Number><Number>1</Number><Number>4</Number><Number>8</Number><Number>7</Number><Number>3</Number><Number>7</Number><Number>6</Number><Number>5</Number><Number>4</Number><Number>7</Number><Number>9</Number><Number>7</Number><Number>4</Number><Number>2</Number><Number>6</Number><Number>2</Number><Number>8</Number></Ro'"
      ]
     },
     "execution_count": 18,
     "metadata": {},
     "output_type": "execute_result"
    }
   ],
   "source": [
    "requiredString[2000:3000]"
   ]
  },
  {
   "cell_type": "code",
   "execution_count": 19,
   "metadata": {},
   "outputs": [],
   "source": [
    "chunks=[]\n",
    "for chunkNumber in range(totalChunks):\n",
    "    chunks.append(\"<block>{}</block>\".format(chunkNumber)+requiredString[chunkNumber*1000 :(chunkNumber+1)*1000])"
   ]
  },
  {
   "cell_type": "code",
   "execution_count": 20,
   "metadata": {},
   "outputs": [],
   "source": [
    "chunks.append(\"<block>{}</block>\".format(totalChunks)+requiredString[totalChunks*1000:])"
   ]
  },
  {
   "cell_type": "code",
   "execution_count": 21,
   "metadata": {},
   "outputs": [],
   "source": [
    "chunks.insert(0,\"<totSize>{}</totSize>\".format(totalChunks+1))"
   ]
  },
  {
   "cell_type": "code",
   "execution_count": 22,
   "metadata": {},
   "outputs": [
    {
     "data": {
      "text/plain": [
       "9"
      ]
     },
     "execution_count": 22,
     "metadata": {},
     "output_type": "execute_result"
    }
   ],
   "source": [
    "len(chunks)"
   ]
  },
  {
   "cell_type": "code",
   "execution_count": 23,
   "metadata": {
    "scrolled": true
   },
   "outputs": [
    {
     "data": {
      "text/plain": [
       "['<totSize>8</totSize>',\n",
       " '<block>0</block><Matrix><Row><Number>5</Number><Number>9</Number><Number>8</Number><Number>3</Number><Number>3</Number><Number>5</Number><Number>2</Number><Number>7</Number><Number>5</Number><Number>1</Number><Number>2</Number><Number>7</Number><Number>6</Number><Number>9</Number><Number>10</Number><Number>10</Number><Number>7</Number><Number>5</Number><Number>7</Number><Number>1</Number></Row> \\n<Row><Number>4</Number><Number>2</Number><Number>9</Number><Number>10</Number><Number>8</Number><Number>3</Number><Number>5</Number><Number>7</Number><Number>5</Number><Number>1</Number><Number>7</Number><Number>7</Number><Number>4</Number><Number>5</Number><Number>8</Number><Number>3</Number><Number>3</Number><Number>9</Number><Number>1</Number><Number>8</Number></Row> \\n<Row><Number>4</Number><Number>5</Number><Number>5</Number><Number>8</Number><Number>3</Number><Number>6</Number><Number>3</Number><Number>4</Number><Number>9</Number><Number>7</Number><Number>4</Number><Number>9</Number><Number>5</Number><Num',\n",
       " '<block>1</block>ber>6</Number><Number>1</Number><Number>3</Number><Number>4</Number><Number>2</Number><Number>2</Number><Number>5</Number></Row> \\n<Row><Number>3</Number><Number>8</Number><Number>2</Number><Number>4</Number><Number>8</Number><Number>9</Number><Number>7</Number><Number>5</Number><Number>5</Number><Number>7</Number><Number>3</Number><Number>7</Number><Number>2</Number><Number>1</Number><Number>10</Number><Number>10</Number><Number>2</Number><Number>2</Number><Number>10</Number><Number>5</Number></Row> \\n<Row><Number>8</Number><Number>1</Number><Number>8</Number><Number>1</Number><Number>5</Number><Number>4</Number><Number>9</Number><Number>6</Number><Number>3</Number><Number>6</Number><Number>6</Number><Number>4</Number><Number>7</Number><Number>8</Number><Number>9</Number><Number>2</Number><Number>4</Number><Number>10</Number><Number>1</Number><Number>6</Number></Row> \\n<Row><Number>8</Number><Number>10</Number><Number>6</Number><Number>10</Number><Number>3</Number><Number>9</Number><Numb',\n",
       " '<block>2</block>er>10</Number><Number>2</Number><Number>5</Number><Number>4</Number><Number>8</Number><Number>10</Number><Number>3</Number><Number>1</Number><Number>1</Number><Number>8</Number><Number>5</Number><Number>7</Number><Number>7</Number><Number>4</Number></Row> \\n<Row><Number>6</Number><Number>6</Number><Number>5</Number><Number>4</Number><Number>6</Number><Number>2</Number><Number>5</Number><Number>8</Number><Number>2</Number><Number>7</Number><Number>4</Number><Number>2</Number><Number>8</Number><Number>6</Number><Number>8</Number><Number>10</Number><Number>4</Number><Number>8</Number><Number>6</Number><Number>5</Number></Row> \\n<Row><Number>7</Number><Number>1</Number><Number>1</Number><Number>1</Number><Number>4</Number><Number>8</Number><Number>7</Number><Number>3</Number><Number>7</Number><Number>6</Number><Number>5</Number><Number>4</Number><Number>7</Number><Number>9</Number><Number>7</Number><Number>4</Number><Number>2</Number><Number>6</Number><Number>2</Number><Number>8</Number></Ro',\n",
       " '<block>3</block>w> \\n<Row><Number>5</Number><Number>8</Number><Number>1</Number><Number>5</Number><Number>9</Number><Number>10</Number><Number>4</Number><Number>3</Number><Number>6</Number><Number>5</Number><Number>8</Number><Number>7</Number><Number>9</Number><Number>5</Number><Number>10</Number><Number>10</Number><Number>6</Number><Number>2</Number><Number>7</Number><Number>4</Number></Row> \\n<Row><Number>6</Number><Number>1</Number><Number>7</Number><Number>10</Number><Number>7</Number><Number>9</Number><Number>4</Number><Number>3</Number><Number>9</Number><Number>3</Number><Number>1</Number><Number>4</Number><Number>10</Number><Number>2</Number><Number>9</Number><Number>4</Number><Number>1</Number><Number>9</Number><Number>10</Number><Number>3</Number></Row> \\n<Row><Number>9</Number><Number>5</Number><Number>10</Number><Number>8</Number><Number>10</Number><Number>2</Number><Number>4</Number><Number>1</Number><Number>10</Number><Number>9</Number><Number>10</Number><Number>9</Number><Number>5</Number><',\n",
       " '<block>4</block>Number>3</Number><Number>1</Number><Number>6</Number><Number>3</Number><Number>8</Number><Number>4</Number><Number>1</Number></Row> \\n<Row><Number>6</Number><Number>10</Number><Number>6</Number><Number>3</Number><Number>9</Number><Number>4</Number><Number>1</Number><Number>10</Number><Number>10</Number><Number>3</Number><Number>6</Number><Number>7</Number><Number>9</Number><Number>3</Number><Number>10</Number><Number>9</Number><Number>6</Number><Number>6</Number><Number>6</Number><Number>5</Number></Row> \\n<Row><Number>3</Number><Number>2</Number><Number>4</Number><Number>3</Number><Number>8</Number><Number>1</Number><Number>10</Number><Number>4</Number><Number>3</Number><Number>5</Number><Number>10</Number><Number>9</Number><Number>4</Number><Number>6</Number><Number>8</Number><Number>6</Number><Number>6</Number><Number>9</Number><Number>3</Number><Number>7</Number></Row> \\n<Row><Number>8</Number><Number>2</Number><Number>5</Number><Number>4</Number><Number>6</Number><Number>10</Number><',\n",
       " '<block>5</block>Number>9</Number><Number>1</Number><Number>10</Number><Number>8</Number><Number>8</Number><Number>2</Number><Number>5</Number><Number>8</Number><Number>9</Number><Number>10</Number><Number>9</Number><Number>9</Number><Number>4</Number><Number>6</Number></Row> \\n<Row><Number>6</Number><Number>6</Number><Number>10</Number><Number>5</Number><Number>2</Number><Number>2</Number><Number>10</Number><Number>7</Number><Number>7</Number><Number>8</Number><Number>6</Number><Number>10</Number><Number>3</Number><Number>2</Number><Number>7</Number><Number>4</Number><Number>10</Number><Number>5</Number><Number>10</Number><Number>8</Number></Row> \\n<Row><Number>4</Number><Number>4</Number><Number>9</Number><Number>9</Number><Number>7</Number><Number>2</Number><Number>7</Number><Number>7</Number><Number>5</Number><Number>2</Number><Number>1</Number><Number>1</Number><Number>2</Number><Number>1</Number><Number>6</Number><Number>2</Number><Number>10</Number><Number>6</Number><Number>4</Number><Number>9</Nu',\n",
       " '<block>6</block>mber></Row> \\n<Row><Number>5</Number><Number>7</Number><Number>4</Number><Number>7</Number><Number>1</Number><Number>4</Number><Number>9</Number><Number>5</Number><Number>9</Number><Number>8</Number><Number>3</Number><Number>3</Number><Number>1</Number><Number>10</Number><Number>2</Number><Number>6</Number><Number>7</Number><Number>3</Number><Number>3</Number><Number>5</Number></Row> \\n<Row><Number>8</Number><Number>9</Number><Number>10</Number><Number>1</Number><Number>4</Number><Number>5</Number><Number>4</Number><Number>7</Number><Number>9</Number><Number>2</Number><Number>8</Number><Number>7</Number><Number>8</Number><Number>9</Number><Number>7</Number><Number>3</Number><Number>2</Number><Number>9</Number><Number>8</Number><Number>10</Number></Row> \\n<Row><Number>8</Number><Number>7</Number><Number>10</Number><Number>1</Number><Number>3</Number><Number>10</Number><Number>9</Number><Number>8</Number><Number>9</Number><Number>4</Number><Number>1</Number><Number>1</Number><Number>4</Numb',\n",
       " '<block>7</block>er><Number>2</Number><Number>5</Number><Number>6</Number><Number>5</Number><Number>2</Number><Number>1</Number><Number>8</Number></Row> \\n<Row><Number>2</Number><Number>4</Number><Number>1</Number><Number>3</Number><Number>4</Number><Number>8</Number><Number>3</Number><Number>4</Number><Number>6</Number><Number>6</Number><Number>9</Number><Number>3</Number><Number>5</Number><Number>2</Number><Number>5</Number><Number>1</Number><Number>6</Number><Number>7</Number><Number>3</Number><Number>5</Number></Row> \\n</Matrix>']"
      ]
     },
     "execution_count": 23,
     "metadata": {},
     "output_type": "execute_result"
    }
   ],
   "source": [
    "chunks"
   ]
  },
  {
   "cell_type": "code",
   "execution_count": 24,
   "metadata": {},
   "outputs": [],
   "source": [
    "getIterSize = int(totSize.findall(chunks[0])[0])"
   ]
  },
  {
   "cell_type": "code",
   "execution_count": 25,
   "metadata": {},
   "outputs": [],
   "source": [
    "dic={}"
   ]
  },
  {
   "cell_type": "code",
   "execution_count": 26,
   "metadata": {},
   "outputs": [],
   "source": [
    "for i in range(1,getIterSize+1):\n",
    "    key = int(block.findall(chunks[i])[0])\n",
    "    value = chunks[i][block.search(chunks[i]).span()[-1]:]\n",
    "    dic.update({key:value})"
   ]
  },
  {
   "cell_type": "code",
   "execution_count": 27,
   "metadata": {},
   "outputs": [
    {
     "data": {
      "text/plain": [
       "{0: '<Matrix><Row><Number>5</Number><Number>9</Number><Number>8</Number><Number>3</Number><Number>3</Number><Number>5</Number><Number>2</Number><Number>7</Number><Number>5</Number><Number>1</Number><Number>2</Number><Number>7</Number><Number>6</Number><Number>9</Number><Number>10</Number><Number>10</Number><Number>7</Number><Number>5</Number><Number>7</Number><Number>1</Number></Row> \\n<Row><Number>4</Number><Number>2</Number><Number>9</Number><Number>10</Number><Number>8</Number><Number>3</Number><Number>5</Number><Number>7</Number><Number>5</Number><Number>1</Number><Number>7</Number><Number>7</Number><Number>4</Number><Number>5</Number><Number>8</Number><Number>3</Number><Number>3</Number><Number>9</Number><Number>1</Number><Number>8</Number></Row> \\n<Row><Number>4</Number><Number>5</Number><Number>5</Number><Number>8</Number><Number>3</Number><Number>6</Number><Number>3</Number><Number>4</Number><Number>9</Number><Number>7</Number><Number>4</Number><Number>9</Number><Number>5</Number><Num',\n",
       " 1: 'ber>6</Number><Number>1</Number><Number>3</Number><Number>4</Number><Number>2</Number><Number>2</Number><Number>5</Number></Row> \\n<Row><Number>3</Number><Number>8</Number><Number>2</Number><Number>4</Number><Number>8</Number><Number>9</Number><Number>7</Number><Number>5</Number><Number>5</Number><Number>7</Number><Number>3</Number><Number>7</Number><Number>2</Number><Number>1</Number><Number>10</Number><Number>10</Number><Number>2</Number><Number>2</Number><Number>10</Number><Number>5</Number></Row> \\n<Row><Number>8</Number><Number>1</Number><Number>8</Number><Number>1</Number><Number>5</Number><Number>4</Number><Number>9</Number><Number>6</Number><Number>3</Number><Number>6</Number><Number>6</Number><Number>4</Number><Number>7</Number><Number>8</Number><Number>9</Number><Number>2</Number><Number>4</Number><Number>10</Number><Number>1</Number><Number>6</Number></Row> \\n<Row><Number>8</Number><Number>10</Number><Number>6</Number><Number>10</Number><Number>3</Number><Number>9</Number><Numb',\n",
       " 2: 'er>10</Number><Number>2</Number><Number>5</Number><Number>4</Number><Number>8</Number><Number>10</Number><Number>3</Number><Number>1</Number><Number>1</Number><Number>8</Number><Number>5</Number><Number>7</Number><Number>7</Number><Number>4</Number></Row> \\n<Row><Number>6</Number><Number>6</Number><Number>5</Number><Number>4</Number><Number>6</Number><Number>2</Number><Number>5</Number><Number>8</Number><Number>2</Number><Number>7</Number><Number>4</Number><Number>2</Number><Number>8</Number><Number>6</Number><Number>8</Number><Number>10</Number><Number>4</Number><Number>8</Number><Number>6</Number><Number>5</Number></Row> \\n<Row><Number>7</Number><Number>1</Number><Number>1</Number><Number>1</Number><Number>4</Number><Number>8</Number><Number>7</Number><Number>3</Number><Number>7</Number><Number>6</Number><Number>5</Number><Number>4</Number><Number>7</Number><Number>9</Number><Number>7</Number><Number>4</Number><Number>2</Number><Number>6</Number><Number>2</Number><Number>8</Number></Ro',\n",
       " 3: 'w> \\n<Row><Number>5</Number><Number>8</Number><Number>1</Number><Number>5</Number><Number>9</Number><Number>10</Number><Number>4</Number><Number>3</Number><Number>6</Number><Number>5</Number><Number>8</Number><Number>7</Number><Number>9</Number><Number>5</Number><Number>10</Number><Number>10</Number><Number>6</Number><Number>2</Number><Number>7</Number><Number>4</Number></Row> \\n<Row><Number>6</Number><Number>1</Number><Number>7</Number><Number>10</Number><Number>7</Number><Number>9</Number><Number>4</Number><Number>3</Number><Number>9</Number><Number>3</Number><Number>1</Number><Number>4</Number><Number>10</Number><Number>2</Number><Number>9</Number><Number>4</Number><Number>1</Number><Number>9</Number><Number>10</Number><Number>3</Number></Row> \\n<Row><Number>9</Number><Number>5</Number><Number>10</Number><Number>8</Number><Number>10</Number><Number>2</Number><Number>4</Number><Number>1</Number><Number>10</Number><Number>9</Number><Number>10</Number><Number>9</Number><Number>5</Number><',\n",
       " 4: 'Number>3</Number><Number>1</Number><Number>6</Number><Number>3</Number><Number>8</Number><Number>4</Number><Number>1</Number></Row> \\n<Row><Number>6</Number><Number>10</Number><Number>6</Number><Number>3</Number><Number>9</Number><Number>4</Number><Number>1</Number><Number>10</Number><Number>10</Number><Number>3</Number><Number>6</Number><Number>7</Number><Number>9</Number><Number>3</Number><Number>10</Number><Number>9</Number><Number>6</Number><Number>6</Number><Number>6</Number><Number>5</Number></Row> \\n<Row><Number>3</Number><Number>2</Number><Number>4</Number><Number>3</Number><Number>8</Number><Number>1</Number><Number>10</Number><Number>4</Number><Number>3</Number><Number>5</Number><Number>10</Number><Number>9</Number><Number>4</Number><Number>6</Number><Number>8</Number><Number>6</Number><Number>6</Number><Number>9</Number><Number>3</Number><Number>7</Number></Row> \\n<Row><Number>8</Number><Number>2</Number><Number>5</Number><Number>4</Number><Number>6</Number><Number>10</Number><',\n",
       " 5: 'Number>9</Number><Number>1</Number><Number>10</Number><Number>8</Number><Number>8</Number><Number>2</Number><Number>5</Number><Number>8</Number><Number>9</Number><Number>10</Number><Number>9</Number><Number>9</Number><Number>4</Number><Number>6</Number></Row> \\n<Row><Number>6</Number><Number>6</Number><Number>10</Number><Number>5</Number><Number>2</Number><Number>2</Number><Number>10</Number><Number>7</Number><Number>7</Number><Number>8</Number><Number>6</Number><Number>10</Number><Number>3</Number><Number>2</Number><Number>7</Number><Number>4</Number><Number>10</Number><Number>5</Number><Number>10</Number><Number>8</Number></Row> \\n<Row><Number>4</Number><Number>4</Number><Number>9</Number><Number>9</Number><Number>7</Number><Number>2</Number><Number>7</Number><Number>7</Number><Number>5</Number><Number>2</Number><Number>1</Number><Number>1</Number><Number>2</Number><Number>1</Number><Number>6</Number><Number>2</Number><Number>10</Number><Number>6</Number><Number>4</Number><Number>9</Nu',\n",
       " 6: 'mber></Row> \\n<Row><Number>5</Number><Number>7</Number><Number>4</Number><Number>7</Number><Number>1</Number><Number>4</Number><Number>9</Number><Number>5</Number><Number>9</Number><Number>8</Number><Number>3</Number><Number>3</Number><Number>1</Number><Number>10</Number><Number>2</Number><Number>6</Number><Number>7</Number><Number>3</Number><Number>3</Number><Number>5</Number></Row> \\n<Row><Number>8</Number><Number>9</Number><Number>10</Number><Number>1</Number><Number>4</Number><Number>5</Number><Number>4</Number><Number>7</Number><Number>9</Number><Number>2</Number><Number>8</Number><Number>7</Number><Number>8</Number><Number>9</Number><Number>7</Number><Number>3</Number><Number>2</Number><Number>9</Number><Number>8</Number><Number>10</Number></Row> \\n<Row><Number>8</Number><Number>7</Number><Number>10</Number><Number>1</Number><Number>3</Number><Number>10</Number><Number>9</Number><Number>8</Number><Number>9</Number><Number>4</Number><Number>1</Number><Number>1</Number><Number>4</Numb',\n",
       " 7: 'er><Number>2</Number><Number>5</Number><Number>6</Number><Number>5</Number><Number>2</Number><Number>1</Number><Number>8</Number></Row> \\n<Row><Number>2</Number><Number>4</Number><Number>1</Number><Number>3</Number><Number>4</Number><Number>8</Number><Number>3</Number><Number>4</Number><Number>6</Number><Number>6</Number><Number>9</Number><Number>3</Number><Number>5</Number><Number>2</Number><Number>5</Number><Number>1</Number><Number>6</Number><Number>7</Number><Number>3</Number><Number>5</Number></Row> \\n</Matrix>'}"
      ]
     },
     "execution_count": 27,
     "metadata": {},
     "output_type": "execute_result"
    }
   ],
   "source": [
    "dic"
   ]
  },
  {
   "cell_type": "code",
   "execution_count": 28,
   "metadata": {},
   "outputs": [
    {
     "data": {
      "text/plain": [
       "'<block>7</block>er><Number>2</Number><Number>5</Number><Number>6</Number><Number>5</Number><Number>2</Number><Number>1</Number><Number>8</Number></Row> \\n<Row><Number>2</Number><Number>4</Number><Number>1</Number><Number>3</Number><Number>4</Number><Number>8</Number><Number>3</Number><Number>4</Number><Number>6</Number><Number>6</Number><Number>9</Number><Number>3</Number><Number>5</Number><Number>2</Number><Number>5</Number><Number>1</Number><Number>6</Number><Number>7</Number><Number>3</Number><Number>5</Number></Row> \\n</Matrix>'"
      ]
     },
     "execution_count": 28,
     "metadata": {},
     "output_type": "execute_result"
    }
   ],
   "source": [
    "chunks[-1]"
   ]
  },
  {
   "cell_type": "code",
   "execution_count": 29,
   "metadata": {},
   "outputs": [
    {
     "data": {
      "text/plain": [
       "dict_values(['<Matrix><Row><Number>5</Number><Number>9</Number><Number>8</Number><Number>3</Number><Number>3</Number><Number>5</Number><Number>2</Number><Number>7</Number><Number>5</Number><Number>1</Number><Number>2</Number><Number>7</Number><Number>6</Number><Number>9</Number><Number>10</Number><Number>10</Number><Number>7</Number><Number>5</Number><Number>7</Number><Number>1</Number></Row> \\n<Row><Number>4</Number><Number>2</Number><Number>9</Number><Number>10</Number><Number>8</Number><Number>3</Number><Number>5</Number><Number>7</Number><Number>5</Number><Number>1</Number><Number>7</Number><Number>7</Number><Number>4</Number><Number>5</Number><Number>8</Number><Number>3</Number><Number>3</Number><Number>9</Number><Number>1</Number><Number>8</Number></Row> \\n<Row><Number>4</Number><Number>5</Number><Number>5</Number><Number>8</Number><Number>3</Number><Number>6</Number><Number>3</Number><Number>4</Number><Number>9</Number><Number>7</Number><Number>4</Number><Number>9</Number><Number>5</Number><Num', 'ber>6</Number><Number>1</Number><Number>3</Number><Number>4</Number><Number>2</Number><Number>2</Number><Number>5</Number></Row> \\n<Row><Number>3</Number><Number>8</Number><Number>2</Number><Number>4</Number><Number>8</Number><Number>9</Number><Number>7</Number><Number>5</Number><Number>5</Number><Number>7</Number><Number>3</Number><Number>7</Number><Number>2</Number><Number>1</Number><Number>10</Number><Number>10</Number><Number>2</Number><Number>2</Number><Number>10</Number><Number>5</Number></Row> \\n<Row><Number>8</Number><Number>1</Number><Number>8</Number><Number>1</Number><Number>5</Number><Number>4</Number><Number>9</Number><Number>6</Number><Number>3</Number><Number>6</Number><Number>6</Number><Number>4</Number><Number>7</Number><Number>8</Number><Number>9</Number><Number>2</Number><Number>4</Number><Number>10</Number><Number>1</Number><Number>6</Number></Row> \\n<Row><Number>8</Number><Number>10</Number><Number>6</Number><Number>10</Number><Number>3</Number><Number>9</Number><Numb', 'er>10</Number><Number>2</Number><Number>5</Number><Number>4</Number><Number>8</Number><Number>10</Number><Number>3</Number><Number>1</Number><Number>1</Number><Number>8</Number><Number>5</Number><Number>7</Number><Number>7</Number><Number>4</Number></Row> \\n<Row><Number>6</Number><Number>6</Number><Number>5</Number><Number>4</Number><Number>6</Number><Number>2</Number><Number>5</Number><Number>8</Number><Number>2</Number><Number>7</Number><Number>4</Number><Number>2</Number><Number>8</Number><Number>6</Number><Number>8</Number><Number>10</Number><Number>4</Number><Number>8</Number><Number>6</Number><Number>5</Number></Row> \\n<Row><Number>7</Number><Number>1</Number><Number>1</Number><Number>1</Number><Number>4</Number><Number>8</Number><Number>7</Number><Number>3</Number><Number>7</Number><Number>6</Number><Number>5</Number><Number>4</Number><Number>7</Number><Number>9</Number><Number>7</Number><Number>4</Number><Number>2</Number><Number>6</Number><Number>2</Number><Number>8</Number></Ro', 'w> \\n<Row><Number>5</Number><Number>8</Number><Number>1</Number><Number>5</Number><Number>9</Number><Number>10</Number><Number>4</Number><Number>3</Number><Number>6</Number><Number>5</Number><Number>8</Number><Number>7</Number><Number>9</Number><Number>5</Number><Number>10</Number><Number>10</Number><Number>6</Number><Number>2</Number><Number>7</Number><Number>4</Number></Row> \\n<Row><Number>6</Number><Number>1</Number><Number>7</Number><Number>10</Number><Number>7</Number><Number>9</Number><Number>4</Number><Number>3</Number><Number>9</Number><Number>3</Number><Number>1</Number><Number>4</Number><Number>10</Number><Number>2</Number><Number>9</Number><Number>4</Number><Number>1</Number><Number>9</Number><Number>10</Number><Number>3</Number></Row> \\n<Row><Number>9</Number><Number>5</Number><Number>10</Number><Number>8</Number><Number>10</Number><Number>2</Number><Number>4</Number><Number>1</Number><Number>10</Number><Number>9</Number><Number>10</Number><Number>9</Number><Number>5</Number><', 'Number>3</Number><Number>1</Number><Number>6</Number><Number>3</Number><Number>8</Number><Number>4</Number><Number>1</Number></Row> \\n<Row><Number>6</Number><Number>10</Number><Number>6</Number><Number>3</Number><Number>9</Number><Number>4</Number><Number>1</Number><Number>10</Number><Number>10</Number><Number>3</Number><Number>6</Number><Number>7</Number><Number>9</Number><Number>3</Number><Number>10</Number><Number>9</Number><Number>6</Number><Number>6</Number><Number>6</Number><Number>5</Number></Row> \\n<Row><Number>3</Number><Number>2</Number><Number>4</Number><Number>3</Number><Number>8</Number><Number>1</Number><Number>10</Number><Number>4</Number><Number>3</Number><Number>5</Number><Number>10</Number><Number>9</Number><Number>4</Number><Number>6</Number><Number>8</Number><Number>6</Number><Number>6</Number><Number>9</Number><Number>3</Number><Number>7</Number></Row> \\n<Row><Number>8</Number><Number>2</Number><Number>5</Number><Number>4</Number><Number>6</Number><Number>10</Number><', 'Number>9</Number><Number>1</Number><Number>10</Number><Number>8</Number><Number>8</Number><Number>2</Number><Number>5</Number><Number>8</Number><Number>9</Number><Number>10</Number><Number>9</Number><Number>9</Number><Number>4</Number><Number>6</Number></Row> \\n<Row><Number>6</Number><Number>6</Number><Number>10</Number><Number>5</Number><Number>2</Number><Number>2</Number><Number>10</Number><Number>7</Number><Number>7</Number><Number>8</Number><Number>6</Number><Number>10</Number><Number>3</Number><Number>2</Number><Number>7</Number><Number>4</Number><Number>10</Number><Number>5</Number><Number>10</Number><Number>8</Number></Row> \\n<Row><Number>4</Number><Number>4</Number><Number>9</Number><Number>9</Number><Number>7</Number><Number>2</Number><Number>7</Number><Number>7</Number><Number>5</Number><Number>2</Number><Number>1</Number><Number>1</Number><Number>2</Number><Number>1</Number><Number>6</Number><Number>2</Number><Number>10</Number><Number>6</Number><Number>4</Number><Number>9</Nu', 'mber></Row> \\n<Row><Number>5</Number><Number>7</Number><Number>4</Number><Number>7</Number><Number>1</Number><Number>4</Number><Number>9</Number><Number>5</Number><Number>9</Number><Number>8</Number><Number>3</Number><Number>3</Number><Number>1</Number><Number>10</Number><Number>2</Number><Number>6</Number><Number>7</Number><Number>3</Number><Number>3</Number><Number>5</Number></Row> \\n<Row><Number>8</Number><Number>9</Number><Number>10</Number><Number>1</Number><Number>4</Number><Number>5</Number><Number>4</Number><Number>7</Number><Number>9</Number><Number>2</Number><Number>8</Number><Number>7</Number><Number>8</Number><Number>9</Number><Number>7</Number><Number>3</Number><Number>2</Number><Number>9</Number><Number>8</Number><Number>10</Number></Row> \\n<Row><Number>8</Number><Number>7</Number><Number>10</Number><Number>1</Number><Number>3</Number><Number>10</Number><Number>9</Number><Number>8</Number><Number>9</Number><Number>4</Number><Number>1</Number><Number>1</Number><Number>4</Numb', 'er><Number>2</Number><Number>5</Number><Number>6</Number><Number>5</Number><Number>2</Number><Number>1</Number><Number>8</Number></Row> \\n<Row><Number>2</Number><Number>4</Number><Number>1</Number><Number>3</Number><Number>4</Number><Number>8</Number><Number>3</Number><Number>4</Number><Number>6</Number><Number>6</Number><Number>9</Number><Number>3</Number><Number>5</Number><Number>2</Number><Number>5</Number><Number>1</Number><Number>6</Number><Number>7</Number><Number>3</Number><Number>5</Number></Row> \\n</Matrix>'])"
      ]
     },
     "execution_count": 29,
     "metadata": {},
     "output_type": "execute_result"
    }
   ],
   "source": [
    "dic.values()"
   ]
  },
  {
   "cell_type": "code",
   "execution_count": 30,
   "metadata": {},
   "outputs": [],
   "source": [
    "retreivedString=''\n",
    "for chunk in dic.values():\n",
    "    retreivedString+=chunk"
   ]
  },
  {
   "cell_type": "code",
   "execution_count": 31,
   "metadata": {},
   "outputs": [
    {
     "data": {
      "text/plain": [
       "'<Matrix><Row><Number>5</Number><Number>9</Number><Number>8</Number><Number>3</Number><Number>3</Number><Number>5</Number><Number>2</Number><Number>7</Number><Number>5</Number><Number>1</Number><Number>2</Number><Number>7</Number><Number>6</Number><Number>9</Number><Number>10</Number><Number>10</Number><Number>7</Number><Number>5</Number><Number>7</Number><Number>1</Number></Row> \\n<Row><Number>4</Number><Number>2</Number><Number>9</Number><Number>10</Number><Number>8</Number><Number>3</Number><Number>5</Number><Number>7</Number><Number>5</Number><Number>1</Number><Number>7</Number><Number>7</Number><Number>4</Number><Number>5</Number><Number>8</Number><Number>3</Number><Number>3</Number><Number>9</Number><Number>1</Number><Number>8</Number></Row> \\n<Row><Number>4</Number><Number>5</Number><Number>5</Number><Number>8</Number><Number>3</Number><Number>6</Number><Number>3</Number><Number>4</Number><Number>9</Number><Number>7</Number><Number>4</Number><Number>9</Number><Number>5</Number><Number>6</Number><Number>1</Number><Number>3</Number><Number>4</Number><Number>2</Number><Number>2</Number><Number>5</Number></Row> \\n<Row><Number>3</Number><Number>8</Number><Number>2</Number><Number>4</Number><Number>8</Number><Number>9</Number><Number>7</Number><Number>5</Number><Number>5</Number><Number>7</Number><Number>3</Number><Number>7</Number><Number>2</Number><Number>1</Number><Number>10</Number><Number>10</Number><Number>2</Number><Number>2</Number><Number>10</Number><Number>5</Number></Row> \\n<Row><Number>8</Number><Number>1</Number><Number>8</Number><Number>1</Number><Number>5</Number><Number>4</Number><Number>9</Number><Number>6</Number><Number>3</Number><Number>6</Number><Number>6</Number><Number>4</Number><Number>7</Number><Number>8</Number><Number>9</Number><Number>2</Number><Number>4</Number><Number>10</Number><Number>1</Number><Number>6</Number></Row> \\n<Row><Number>8</Number><Number>10</Number><Number>6</Number><Number>10</Number><Number>3</Number><Number>9</Number><Number>10</Number><Number>2</Number><Number>5</Number><Number>4</Number><Number>8</Number><Number>10</Number><Number>3</Number><Number>1</Number><Number>1</Number><Number>8</Number><Number>5</Number><Number>7</Number><Number>7</Number><Number>4</Number></Row> \\n<Row><Number>6</Number><Number>6</Number><Number>5</Number><Number>4</Number><Number>6</Number><Number>2</Number><Number>5</Number><Number>8</Number><Number>2</Number><Number>7</Number><Number>4</Number><Number>2</Number><Number>8</Number><Number>6</Number><Number>8</Number><Number>10</Number><Number>4</Number><Number>8</Number><Number>6</Number><Number>5</Number></Row> \\n<Row><Number>7</Number><Number>1</Number><Number>1</Number><Number>1</Number><Number>4</Number><Number>8</Number><Number>7</Number><Number>3</Number><Number>7</Number><Number>6</Number><Number>5</Number><Number>4</Number><Number>7</Number><Number>9</Number><Number>7</Number><Number>4</Number><Number>2</Number><Number>6</Number><Number>2</Number><Number>8</Number></Row> \\n<Row><Number>5</Number><Number>8</Number><Number>1</Number><Number>5</Number><Number>9</Number><Number>10</Number><Number>4</Number><Number>3</Number><Number>6</Number><Number>5</Number><Number>8</Number><Number>7</Number><Number>9</Number><Number>5</Number><Number>10</Number><Number>10</Number><Number>6</Number><Number>2</Number><Number>7</Number><Number>4</Number></Row> \\n<Row><Number>6</Number><Number>1</Number><Number>7</Number><Number>10</Number><Number>7</Number><Number>9</Number><Number>4</Number><Number>3</Number><Number>9</Number><Number>3</Number><Number>1</Number><Number>4</Number><Number>10</Number><Number>2</Number><Number>9</Number><Number>4</Number><Number>1</Number><Number>9</Number><Number>10</Number><Number>3</Number></Row> \\n<Row><Number>9</Number><Number>5</Number><Number>10</Number><Number>8</Number><Number>10</Number><Number>2</Number><Number>4</Number><Number>1</Number><Number>10</Number><Number>9</Number><Number>10</Number><Number>9</Number><Number>5</Number><Number>3</Number><Number>1</Number><Number>6</Number><Number>3</Number><Number>8</Number><Number>4</Number><Number>1</Number></Row> \\n<Row><Number>6</Number><Number>10</Number><Number>6</Number><Number>3</Number><Number>9</Number><Number>4</Number><Number>1</Number><Number>10</Number><Number>10</Number><Number>3</Number><Number>6</Number><Number>7</Number><Number>9</Number><Number>3</Number><Number>10</Number><Number>9</Number><Number>6</Number><Number>6</Number><Number>6</Number><Number>5</Number></Row> \\n<Row><Number>3</Number><Number>2</Number><Number>4</Number><Number>3</Number><Number>8</Number><Number>1</Number><Number>10</Number><Number>4</Number><Number>3</Number><Number>5</Number><Number>10</Number><Number>9</Number><Number>4</Number><Number>6</Number><Number>8</Number><Number>6</Number><Number>6</Number><Number>9</Number><Number>3</Number><Number>7</Number></Row> \\n<Row><Number>8</Number><Number>2</Number><Number>5</Number><Number>4</Number><Number>6</Number><Number>10</Number><Number>9</Number><Number>1</Number><Number>10</Number><Number>8</Number><Number>8</Number><Number>2</Number><Number>5</Number><Number>8</Number><Number>9</Number><Number>10</Number><Number>9</Number><Number>9</Number><Number>4</Number><Number>6</Number></Row> \\n<Row><Number>6</Number><Number>6</Number><Number>10</Number><Number>5</Number><Number>2</Number><Number>2</Number><Number>10</Number><Number>7</Number><Number>7</Number><Number>8</Number><Number>6</Number><Number>10</Number><Number>3</Number><Number>2</Number><Number>7</Number><Number>4</Number><Number>10</Number><Number>5</Number><Number>10</Number><Number>8</Number></Row> \\n<Row><Number>4</Number><Number>4</Number><Number>9</Number><Number>9</Number><Number>7</Number><Number>2</Number><Number>7</Number><Number>7</Number><Number>5</Number><Number>2</Number><Number>1</Number><Number>1</Number><Number>2</Number><Number>1</Number><Number>6</Number><Number>2</Number><Number>10</Number><Number>6</Number><Number>4</Number><Number>9</Number></Row> \\n<Row><Number>5</Number><Number>7</Number><Number>4</Number><Number>7</Number><Number>1</Number><Number>4</Number><Number>9</Number><Number>5</Number><Number>9</Number><Number>8</Number><Number>3</Number><Number>3</Number><Number>1</Number><Number>10</Number><Number>2</Number><Number>6</Number><Number>7</Number><Number>3</Number><Number>3</Number><Number>5</Number></Row> \\n<Row><Number>8</Number><Number>9</Number><Number>10</Number><Number>1</Number><Number>4</Number><Number>5</Number><Number>4</Number><Number>7</Number><Number>9</Number><Number>2</Number><Number>8</Number><Number>7</Number><Number>8</Number><Number>9</Number><Number>7</Number><Number>3</Number><Number>2</Number><Number>9</Number><Number>8</Number><Number>10</Number></Row> \\n<Row><Number>8</Number><Number>7</Number><Number>10</Number><Number>1</Number><Number>3</Number><Number>10</Number><Number>9</Number><Number>8</Number><Number>9</Number><Number>4</Number><Number>1</Number><Number>1</Number><Number>4</Number><Number>2</Number><Number>5</Number><Number>6</Number><Number>5</Number><Number>2</Number><Number>1</Number><Number>8</Number></Row> \\n<Row><Number>2</Number><Number>4</Number><Number>1</Number><Number>3</Number><Number>4</Number><Number>8</Number><Number>3</Number><Number>4</Number><Number>6</Number><Number>6</Number><Number>9</Number><Number>3</Number><Number>5</Number><Number>2</Number><Number>5</Number><Number>1</Number><Number>6</Number><Number>7</Number><Number>3</Number><Number>5</Number></Row> \\n</Matrix>'"
      ]
     },
     "execution_count": 31,
     "metadata": {},
     "output_type": "execute_result"
    }
   ],
   "source": [
    "retreivedString"
   ]
  },
  {
   "cell_type": "code",
   "execution_count": 32,
   "metadata": {},
   "outputs": [],
   "source": [
    "retRows=re.findall(rowPattern,retreivedString)\n",
    "retMatrix=[]"
   ]
  },
  {
   "cell_type": "code",
   "execution_count": 33,
   "metadata": {},
   "outputs": [],
   "source": [
    "for row in retRows:\n",
    "    tempRow=[]\n",
    "    for number in numModel.findall(row):\n",
    "        tempRow.append(int(number))\n",
    "    retMatrix.append(tempRow)"
   ]
  },
  {
   "cell_type": "code",
   "execution_count": 34,
   "metadata": {},
   "outputs": [
    {
     "data": {
      "text/plain": [
       "[[5, 9, 8, 3, 3, 5, 2, 7, 5, 1, 2, 7, 6, 9, 10, 10, 7, 5, 7, 1],\n",
       " [4, 2, 9, 10, 8, 3, 5, 7, 5, 1, 7, 7, 4, 5, 8, 3, 3, 9, 1, 8],\n",
       " [4, 5, 5, 8, 3, 6, 3, 4, 9, 7, 4, 9, 5, 6, 1, 3, 4, 2, 2, 5],\n",
       " [3, 8, 2, 4, 8, 9, 7, 5, 5, 7, 3, 7, 2, 1, 10, 10, 2, 2, 10, 5],\n",
       " [8, 1, 8, 1, 5, 4, 9, 6, 3, 6, 6, 4, 7, 8, 9, 2, 4, 10, 1, 6],\n",
       " [8, 10, 6, 10, 3, 9, 10, 2, 5, 4, 8, 10, 3, 1, 1, 8, 5, 7, 7, 4],\n",
       " [6, 6, 5, 4, 6, 2, 5, 8, 2, 7, 4, 2, 8, 6, 8, 10, 4, 8, 6, 5],\n",
       " [7, 1, 1, 1, 4, 8, 7, 3, 7, 6, 5, 4, 7, 9, 7, 4, 2, 6, 2, 8],\n",
       " [5, 8, 1, 5, 9, 10, 4, 3, 6, 5, 8, 7, 9, 5, 10, 10, 6, 2, 7, 4],\n",
       " [6, 1, 7, 10, 7, 9, 4, 3, 9, 3, 1, 4, 10, 2, 9, 4, 1, 9, 10, 3],\n",
       " [9, 5, 10, 8, 10, 2, 4, 1, 10, 9, 10, 9, 5, 3, 1, 6, 3, 8, 4, 1],\n",
       " [6, 10, 6, 3, 9, 4, 1, 10, 10, 3, 6, 7, 9, 3, 10, 9, 6, 6, 6, 5],\n",
       " [3, 2, 4, 3, 8, 1, 10, 4, 3, 5, 10, 9, 4, 6, 8, 6, 6, 9, 3, 7],\n",
       " [8, 2, 5, 4, 6, 10, 9, 1, 10, 8, 8, 2, 5, 8, 9, 10, 9, 9, 4, 6],\n",
       " [6, 6, 10, 5, 2, 2, 10, 7, 7, 8, 6, 10, 3, 2, 7, 4, 10, 5, 10, 8],\n",
       " [4, 4, 9, 9, 7, 2, 7, 7, 5, 2, 1, 1, 2, 1, 6, 2, 10, 6, 4, 9],\n",
       " [5, 7, 4, 7, 1, 4, 9, 5, 9, 8, 3, 3, 1, 10, 2, 6, 7, 3, 3, 5],\n",
       " [8, 9, 10, 1, 4, 5, 4, 7, 9, 2, 8, 7, 8, 9, 7, 3, 2, 9, 8, 10],\n",
       " [8, 7, 10, 1, 3, 10, 9, 8, 9, 4, 1, 1, 4, 2, 5, 6, 5, 2, 1, 8],\n",
       " [2, 4, 1, 3, 4, 8, 3, 4, 6, 6, 9, 3, 5, 2, 5, 1, 6, 7, 3, 5]]"
      ]
     },
     "execution_count": 34,
     "metadata": {},
     "output_type": "execute_result"
    }
   ],
   "source": [
    "Mat"
   ]
  },
  {
   "cell_type": "code",
   "execution_count": 35,
   "metadata": {},
   "outputs": [
    {
     "data": {
      "text/plain": [
       "[[5, 9, 8, 3, 3, 5, 2, 7, 5, 1, 2, 7, 6, 9, 10, 10, 7, 5, 7, 1],\n",
       " [4, 2, 9, 10, 8, 3, 5, 7, 5, 1, 7, 7, 4, 5, 8, 3, 3, 9, 1, 8],\n",
       " [4, 5, 5, 8, 3, 6, 3, 4, 9, 7, 4, 9, 5, 6, 1, 3, 4, 2, 2, 5],\n",
       " [3, 8, 2, 4, 8, 9, 7, 5, 5, 7, 3, 7, 2, 1, 10, 10, 2, 2, 10, 5],\n",
       " [8, 1, 8, 1, 5, 4, 9, 6, 3, 6, 6, 4, 7, 8, 9, 2, 4, 10, 1, 6],\n",
       " [8, 10, 6, 10, 3, 9, 10, 2, 5, 4, 8, 10, 3, 1, 1, 8, 5, 7, 7, 4],\n",
       " [6, 6, 5, 4, 6, 2, 5, 8, 2, 7, 4, 2, 8, 6, 8, 10, 4, 8, 6, 5],\n",
       " [7, 1, 1, 1, 4, 8, 7, 3, 7, 6, 5, 4, 7, 9, 7, 4, 2, 6, 2, 8],\n",
       " [5, 8, 1, 5, 9, 10, 4, 3, 6, 5, 8, 7, 9, 5, 10, 10, 6, 2, 7, 4],\n",
       " [6, 1, 7, 10, 7, 9, 4, 3, 9, 3, 1, 4, 10, 2, 9, 4, 1, 9, 10, 3],\n",
       " [9, 5, 10, 8, 10, 2, 4, 1, 10, 9, 10, 9, 5, 3, 1, 6, 3, 8, 4, 1],\n",
       " [6, 10, 6, 3, 9, 4, 1, 10, 10, 3, 6, 7, 9, 3, 10, 9, 6, 6, 6, 5],\n",
       " [3, 2, 4, 3, 8, 1, 10, 4, 3, 5, 10, 9, 4, 6, 8, 6, 6, 9, 3, 7],\n",
       " [8, 2, 5, 4, 6, 10, 9, 1, 10, 8, 8, 2, 5, 8, 9, 10, 9, 9, 4, 6],\n",
       " [6, 6, 10, 5, 2, 2, 10, 7, 7, 8, 6, 10, 3, 2, 7, 4, 10, 5, 10, 8],\n",
       " [4, 4, 9, 9, 7, 2, 7, 7, 5, 2, 1, 1, 2, 1, 6, 2, 10, 6, 4, 9],\n",
       " [5, 7, 4, 7, 1, 4, 9, 5, 9, 8, 3, 3, 1, 10, 2, 6, 7, 3, 3, 5],\n",
       " [8, 9, 10, 1, 4, 5, 4, 7, 9, 2, 8, 7, 8, 9, 7, 3, 2, 9, 8, 10],\n",
       " [8, 7, 10, 1, 3, 10, 9, 8, 9, 4, 1, 1, 4, 2, 5, 6, 5, 2, 1, 8],\n",
       " [2, 4, 1, 3, 4, 8, 3, 4, 6, 6, 9, 3, 5, 2, 5, 1, 6, 7, 3, 5]]"
      ]
     },
     "execution_count": 35,
     "metadata": {},
     "output_type": "execute_result"
    }
   ],
   "source": [
    "retMatrix"
   ]
  },
  {
   "cell_type": "code",
   "execution_count": 36,
   "metadata": {},
   "outputs": [
    {
     "data": {
      "text/plain": [
       "True"
      ]
     },
     "execution_count": 36,
     "metadata": {},
     "output_type": "execute_result"
    }
   ],
   "source": [
    "Mat == retMatrix"
   ]
  },
  {
   "cell_type": "code",
   "execution_count": 37,
   "metadata": {},
   "outputs": [],
   "source": [
    "k=[[10, 4, 6, 1, 1, 1, 1, 6, 4, 7, 9, 9, 3, 5, 2, 10, 1, 8, 1, 3], [1, 3, 10, 4, 2, 5, 8, 9, 6, 3, 8, 3, 9, 10, 4, 5, 8, 1, 8, 4], [5, 1, 2, 3, 3, 6, 3, 2, 3, 3, 8, 2, 2, 8, 10, 10, 8, 3, 5, 1], [9, 2, 5, 1, 4, 7, 3, 8, 10, 3, 4, 8, 9, 7, 9, 5, 7, 8, 1, 10], [8, 6, 7, 1, 8, 4, 7, 10, 7, 1, 9, 3, 7, 8, 10, 7, 9, 5, 7, 8], [7, 5, 4, 8, 5, 5, 2, 5, 3, 8, 6, 5, 8, 5, 9, 1, 10, 9, 5, 9], [1, 8, 1, 7, 1, 6, 5, 9, 10, 9, 5, 2, 9, 2, 1, 3, 10, 10, 2, 3], [2, 7, 9, 2, 7, 7, 4, 5, 8, 9, 3, 9, 4, 6, 2, 9, 9, 10, 9, 1], [1, 7, 5, 8, 5, 4, 3, 2, 8, 2, 1, 9, 6, 6, 7, 6, 4, 6, 2, 5], [10, 3, 10, 2, 5, 9, 6, 2, 8, 2, 3, 8, 8, 10, 5, 4, 3, 4, 9, 8], [3, 9, 5, 1, 8, 10, 9, 10, 1, 10, 4, 6, 6, 2, 6, 8, 3, 8, 2, 8], [9, 5, 8, 6, 7, 7, 5, 6, 2, 5, 5, 7, 5, 8, 6, 3, 8, 9, 6, 9], [7, 7, 2, 6, 1, 7, 6, 5, 1, 8, 9, 7, 3, 9, 5, 5, 6, 7, 3, 7], [2, 7, 10, 6, 8, 4, 7, 3, 3, 3, 3, 7, 1, 9, 3, 9, 9, 1, 7, 8], [9, 5, 8, 9, 6, 3, 4, 3, 2, 9, 9, 8, 6, 6, 3, 9, 2, 3, 4, 6], [6, 8, 6, 3, 5, 7, 6, 4, 10, 2, 10, 6, 3, 9, 5, 4, 5, 5, 10, 9], [8, 8, 7, 1, 1, 9, 8, 1, 1, 7, 4, 9, 4, 8, 2, 1, 4, 8, 5, 1], [7, 2, 10, 8, 4, 6, 10, 9, 1, 9, 4, 4, 2, 9, 2, 1, 1, 4, 5, 7], [8, 5, 2, 6, 9, 10, 4, 9, 8, 5, 2, 5, 8, 6, 9, 4, 10, 7, 4, 10], [7, 3, 2, 10, 9, 4, 7, 1, 5, 5, 9, 5, 10, 2, 9, 10, 7, 7, 3, 7]]"
   ]
  },
  {
   "cell_type": "code",
   "execution_count": 38,
   "metadata": {},
   "outputs": [
    {
     "data": {
      "text/plain": [
       "[[10, 4, 6, 1, 1, 1, 1, 6, 4, 7, 9, 9, 3, 5, 2, 10, 1, 8, 1, 3],\n",
       " [1, 3, 10, 4, 2, 5, 8, 9, 6, 3, 8, 3, 9, 10, 4, 5, 8, 1, 8, 4],\n",
       " [5, 1, 2, 3, 3, 6, 3, 2, 3, 3, 8, 2, 2, 8, 10, 10, 8, 3, 5, 1],\n",
       " [9, 2, 5, 1, 4, 7, 3, 8, 10, 3, 4, 8, 9, 7, 9, 5, 7, 8, 1, 10],\n",
       " [8, 6, 7, 1, 8, 4, 7, 10, 7, 1, 9, 3, 7, 8, 10, 7, 9, 5, 7, 8],\n",
       " [7, 5, 4, 8, 5, 5, 2, 5, 3, 8, 6, 5, 8, 5, 9, 1, 10, 9, 5, 9],\n",
       " [1, 8, 1, 7, 1, 6, 5, 9, 10, 9, 5, 2, 9, 2, 1, 3, 10, 10, 2, 3],\n",
       " [2, 7, 9, 2, 7, 7, 4, 5, 8, 9, 3, 9, 4, 6, 2, 9, 9, 10, 9, 1],\n",
       " [1, 7, 5, 8, 5, 4, 3, 2, 8, 2, 1, 9, 6, 6, 7, 6, 4, 6, 2, 5],\n",
       " [10, 3, 10, 2, 5, 9, 6, 2, 8, 2, 3, 8, 8, 10, 5, 4, 3, 4, 9, 8],\n",
       " [3, 9, 5, 1, 8, 10, 9, 10, 1, 10, 4, 6, 6, 2, 6, 8, 3, 8, 2, 8],\n",
       " [9, 5, 8, 6, 7, 7, 5, 6, 2, 5, 5, 7, 5, 8, 6, 3, 8, 9, 6, 9],\n",
       " [7, 7, 2, 6, 1, 7, 6, 5, 1, 8, 9, 7, 3, 9, 5, 5, 6, 7, 3, 7],\n",
       " [2, 7, 10, 6, 8, 4, 7, 3, 3, 3, 3, 7, 1, 9, 3, 9, 9, 1, 7, 8],\n",
       " [9, 5, 8, 9, 6, 3, 4, 3, 2, 9, 9, 8, 6, 6, 3, 9, 2, 3, 4, 6],\n",
       " [6, 8, 6, 3, 5, 7, 6, 4, 10, 2, 10, 6, 3, 9, 5, 4, 5, 5, 10, 9],\n",
       " [8, 8, 7, 1, 1, 9, 8, 1, 1, 7, 4, 9, 4, 8, 2, 1, 4, 8, 5, 1],\n",
       " [7, 2, 10, 8, 4, 6, 10, 9, 1, 9, 4, 4, 2, 9, 2, 1, 1, 4, 5, 7],\n",
       " [8, 5, 2, 6, 9, 10, 4, 9, 8, 5, 2, 5, 8, 6, 9, 4, 10, 7, 4, 10],\n",
       " [7, 3, 2, 10, 9, 4, 7, 1, 5, 5, 9, 5, 10, 2, 9, 10, 7, 7, 3, 7]]"
      ]
     },
     "execution_count": 38,
     "metadata": {},
     "output_type": "execute_result"
    }
   ],
   "source": [
    "k"
   ]
  },
  {
   "cell_type": "code",
   "execution_count": 39,
   "metadata": {},
   "outputs": [
    {
     "data": {
      "text/plain": [
       "[[10, 4, 6, 1, 1, 1, 1, 6, 4, 7, 9, 9, 3, 5, 2, 10, 1, 8, 1, 3],\n",
       " [1, 3, 10, 4, 2, 5, 8, 9, 6, 3, 8, 3, 9, 10, 4, 5, 8, 1, 8, 4],\n",
       " [5, 1, 2, 3, 3, 6, 3, 2, 3, 3, 8, 2, 2, 8, 10, 10, 8, 3, 5, 1],\n",
       " [9, 2, 5, 1, 4, 7, 3, 8, 10, 3, 4, 8, 9, 7, 9, 5, 7, 8, 1, 10],\n",
       " [8, 6, 7, 1, 8, 4, 7, 10, 7, 1, 9, 3, 7, 8, 10, 7, 9, 5, 7, 8],\n",
       " [7, 5, 4, 8, 5, 5, 2, 5, 3, 8, 6, 5, 8, 5, 9, 1, 10, 9, 5, 9],\n",
       " [1, 8, 1, 7, 1, 6, 5, 9, 10, 9, 5, 2, 9, 2, 1, 3, 10, 10, 2, 3],\n",
       " [2, 7, 9, 2, 7, 7, 4, 5, 8, 9, 3, 9, 4, 6, 2, 9, 9, 10, 9, 1],\n",
       " [1, 7, 5, 8, 5, 4, 3, 2, 8, 2, 1, 9, 6, 6, 7, 6, 4, 6, 2, 5],\n",
       " [10, 3, 10, 2, 5, 9, 6, 2, 8, 2, 3, 8, 8, 10, 5, 4, 3, 4, 9, 8],\n",
       " [3, 9, 5, 1, 8, 10, 9, 10, 1, 10, 4, 6, 6, 2, 6, 8, 3, 8, 2, 8],\n",
       " [9, 5, 8, 6, 7, 7, 5, 6, 2, 5, 5, 7, 5, 8, 6, 3, 8, 9, 6, 9],\n",
       " [7, 7, 2, 6, 1, 7, 6, 5, 1, 8, 9, 7, 3, 9, 5, 5, 6, 7, 3, 7],\n",
       " [2, 7, 10, 6, 8, 4, 7, 3, 3, 3, 3, 7, 1, 9, 3, 9, 9, 1, 7, 8],\n",
       " [9, 5, 8, 9, 6, 3, 4, 3, 2, 9, 9, 8, 6, 6, 3, 9, 2, 3, 4, 6],\n",
       " [6, 8, 6, 3, 5, 7, 6, 4, 10, 2, 10, 6, 3, 9, 5, 4, 5, 5, 10, 9]]"
      ]
     },
     "execution_count": 39,
     "metadata": {},
     "output_type": "execute_result"
    }
   ],
   "source": [
    "[[10, 4, 6, 1, 1, 1, 1, 6, 4, 7, 9, 9, 3, 5, 2, 10, 1, 8, 1, 3], [1, 3, 10, 4, 2, 5, 8, 9, 6, 3, 8, 3, 9, 10, 4, 5, 8, 1, 8, 4], [5, 1, 2, 3, 3, 6, 3, 2, 3, 3, 8, 2, 2, 8, 10, 10, 8, 3, 5, 1], [9, 2, 5, 1, 4, 7, 3, 8, 10, 3, 4, 8, 9, 7, 9, 5, 7, 8, 1, 10], [8, 6, 7, 1, 8, 4, 7, 10, 7, 1, 9, 3, 7, 8, 10, 7, 9, 5, 7, 8], [7, 5, 4, 8, 5, 5, 2, 5, 3, 8, 6, 5, 8, 5, 9, 1, 10, 9, 5, 9], [1, 8, 1, 7, 1, 6, 5, 9, 10, 9, 5, 2, 9, 2, 1, 3, 10, 10, 2, 3], [2, 7, 9, 2, 7, 7, 4, 5, 8, 9, 3, 9, 4, 6, 2, 9, 9, 10, 9, 1], [1, 7, 5, 8, 5, 4, 3, 2, 8, 2, 1, 9, 6, 6, 7, 6, 4, 6, 2, 5], [10, 3, 10, 2, 5, 9, 6, 2, 8, 2, 3, 8, 8, 10, 5, 4, 3, 4, 9, 8], [3, 9, 5, 1, 8, 10, 9, 10, 1, 10, 4, 6, 6, 2, 6, 8, 3, 8, 2, 8], [9, 5, 8, 6, 7, 7, 5, 6, 2, 5, 5, 7, 5, 8, 6, 3, 8, 9, 6, 9], [7, 7, 2, 6, 1, 7, 6, 5, 1, 8, 9, 7, 3, 9, 5, 5, 6, 7, 3, 7], [2, 7, 10, 6, 8, 4, 7, 3, 3, 3, 3, 7, 1, 9, 3, 9, 9, 1, 7, 8], [9, 5, 8, 9, 6, 3, 4, 3, 2, 9, 9, 8, 6, 6, 3, 9, 2, 3, 4, 6], [6, 8, 6, 3, 5, 7, 6, 4, 10, 2, 10, 6, 3, 9, 5, 4, 5, 5, 10, 9]]"
   ]
  },
  {
   "cell_type": "code",
   "execution_count": 40,
   "metadata": {},
   "outputs": [
    {
     "data": {
      "text/plain": [
       "{0: '<Matrix><Row><Number>10</Number><Number>4</Number><Number>6</Number><Number>1</Number><Number>1</Number><Number>1</Number><Number>1</Number><Number>6</Number><Number>4</Number><Number>7</Number><Number>9</Number><Number>9</Number><Number>3</Number><Number>5</Number><Number>2</Number><Number>10</Number><Number>1</Number><Number>8</Number><Number>1</Number><Number>3</Number></Row> \\n<Row><Number>1</Number><Number>3</Number><Number>10</Number><Number>4</Number><Number>2</Number><Number>5</Number><Number>8</Number><Number>9</Number><Number>6</Number><Number>3</Number><Number>8</Number><Number>3</Number><Number>9</Number><Number>10</Number><Number>4</Number><Number>5</Number><Number>8</Number><Number>1</Number><Number>8</Number><Number>4</Number></Row> \\n<Row><Number>5</Number><Number>1</Number><Number>2</Number><Number>3</Number><Number>3</Number><Number>6</Number><Number>3</Number><Number>2</Number><Number>3</Number><Number>3</Number><Number>8</Number><Number>2</Number><Number>2</Number><Nu',\n",
       " 1: 'mber>8</Number><Number>10</Number><Number>10</Number><Number>8</Number><Number>3</Number><Number>5</Number><Number>1</Number></Row> \\n<Row><Number>9</Number><Number>2</Number><Number>5</Number><Number>1</Number><Number>4</Number><Number>7</Number><Number>3</Number><Number>8</Number><Number>10</Number><Number>3</Number><Number>4</Number><Number>8</Number><Number>9</Number><Number>7</Number><Number>9</Number><Number>5</Number><Number>7</Number><Number>8</Number><Number>1</Number><Number>10</Number></Row> \\n<Row><Number>8</Number><Number>6</Number><Number>7</Number><Number>1</Number><Number>8</Number><Number>4</Number><Number>7</Number><Number>10</Number><Number>7</Number><Number>1</Number><Number>9</Number><Number>3</Number><Number>7</Number><Number>8</Number><Number>10</Number><Number>7</Number><Number>9</Number><Number>5</Number><Number>7</Number><Number>8</Number></Row> \\n<Row><Number>7</Number><Number>5</Number><Number>4</Number><Number>8</Number><Number>5</Number><Number>5</Number><Num',\n",
       " 2: 'ber>2</Number><Number>5</Number><Number>3</Number><Number>8</Number><Number>6</Number><Number>5</Number><Number>8</Number><Number>5</Number><Number>9</Number><Number>1</Number><Number>10</Number><Number>9</Number><Number>5</Number><Number>9</Number></Row> \\n<Row><Number>1</Number><Number>8</Number><Number>1</Number><Number>7</Number><Number>1</Number><Number>6</Number><Number>5</Number><Number>9</Number><Number>10</Number><Number>9</Number><Number>5</Number><Number>2</Number><Number>9</Number><Number>2</Number><Number>1</Number><Number>3</Number><Number>10</Number><Number>10</Number><Number>2</Number><Number>3</Number></Row> \\n<Row><Number>2</Number><Number>7</Number><Number>9</Number><Number>2</Number><Number>7</Number><Number>7</Number><Number>4</Number><Number>5</Number><Number>8</Number><Number>9</Number><Number>3</Number><Number>9</Number><Number>4</Number><Number>6</Number><Number>2</Number><Number>9</Number><Number>9</Number><Number>10</Number><Number>9</Number><Number>1</Number><',\n",
       " 3: '/Row> \\n<Row><Number>1</Number><Number>7</Number><Number>5</Number><Number>8</Number><Number>5</Number><Number>4</Number><Number>3</Number><Number>2</Number><Number>8</Number><Number>2</Number><Number>1</Number><Number>9</Number><Number>6</Number><Number>6</Number><Number>7</Number><Number>6</Number><Number>4</Number><Number>6</Number><Number>2</Number><Number>5</Number></Row> \\n<Row><Number>10</Number><Number>3</Number><Number>10</Number><Number>2</Number><Number>5</Number><Number>9</Number><Number>6</Number><Number>2</Number><Number>8</Number><Number>2</Number><Number>3</Number><Number>8</Number><Number>8</Number><Number>10</Number><Number>5</Number><Number>4</Number><Number>3</Number><Number>4</Number><Number>9</Number><Number>8</Number></Row> \\n<Row><Number>3</Number><Number>9</Number><Number>5</Number><Number>1</Number><Number>8</Number><Number>10</Number><Number>9</Number><Number>10</Number><Number>1</Number><Number>10</Number><Number>4</Number><Number>6</Number><Number>6</Number><N',\n",
       " 4: 'umber>2</Number><Number>6</Number><Number>8</Number><Number>3</Number><Number>8</Number><Number>2</Number><Number>8</Number></Row> \\n<Row><Number>9</Number><Number>5</Number><Number>8</Number><Number>6</Number><Number>7</Number><Number>7</Number><Number>5</Number><Number>6</Number><Number>2</Number><Number>5</Number><Number>5</Number><Number>7</Number><Number>5</Number><Number>8</Number><Number>6</Number><Number>3</Number><Number>8</Number><Number>9</Number><Number>6</Number><Number>9</Number></Row> \\n<Row><Number>7</Number><Number>7</Number><Number>2</Number><Number>6</Number><Number>1</Number><Number>7</Number><Number>6</Number><Number>5</Number><Number>1</Number><Number>8</Number><Number>9</Number><Number>7</Number><Number>3</Number><Number>9</Number><Number>5</Number><Number>5</Number><Number>6</Number><Number>7</Number><Number>3</Number><Number>7</Number></Row> \\n<Row><Number>2</Number><Number>7</Number><Number>10</Number><Number>6</Number><Number>8</Number><Number>4</Number><Number>',\n",
       " 5: '7</Number><Number>3</Number><Number>3</Number><Number>3</Number><Number>3</Number><Number>7</Number><Number>1</Number><Number>9</Number><Number>3</Number><Number>9</Number><Number>9</Number><Number>1</Number><Number>7</Number><Number>8</Number></Row> \\n<Row><Number>9</Number><Number>5</Number><Number>8</Number><Number>9</Number><Number>6</Number><Number>3</Number><Number>4</Number><Number>3</Number><Number>2</Number><Number>9</Number><Number>9</Number><Number>8</Number><Number>6</Number><Number>6</Number><Number>3</Number><Number>9</Number><Number>2</Number><Number>3</Number><Number>4</Number><Number>6</Number></Row> \\n<Row><Number>6</Number><Number>8</Number><Number>6</Number><Number>3</Number><Number>5</Number><Number>7</Number><Number>6</Number><Number>4</Number><Number>10</Number><Number>2</Number><Number>10</Number><Number>6</Number><Number>3</Number><Number>9</Number><Number>5</Number><Number>4</Number><Number>5</Number><Number>5</Number><Number>10</Number><Number>9</Number></Row> '}"
      ]
     },
     "execution_count": 40,
     "metadata": {},
     "output_type": "execute_result"
    }
   ],
   "source": [
    "{0: '<Matrix><Row><Number>10</Number><Number>4</Number><Number>6</Number><Number>1</Number><Number>1</Number><Number>1</Number><Number>1</Number><Number>6</Number><Number>4</Number><Number>7</Number><Number>9</Number><Number>9</Number><Number>3</Number><Number>5</Number><Number>2</Number><Number>10</Number><Number>1</Number><Number>8</Number><Number>1</Number><Number>3</Number></Row> \\n<Row><Number>1</Number><Number>3</Number><Number>10</Number><Number>4</Number><Number>2</Number><Number>5</Number><Number>8</Number><Number>9</Number><Number>6</Number><Number>3</Number><Number>8</Number><Number>3</Number><Number>9</Number><Number>10</Number><Number>4</Number><Number>5</Number><Number>8</Number><Number>1</Number><Number>8</Number><Number>4</Number></Row> \\n<Row><Number>5</Number><Number>1</Number><Number>2</Number><Number>3</Number><Number>3</Number><Number>6</Number><Number>3</Number><Number>2</Number><Number>3</Number><Number>3</Number><Number>8</Number><Number>2</Number><Number>2</Number><Nu', 1: 'mber>8</Number><Number>10</Number><Number>10</Number><Number>8</Number><Number>3</Number><Number>5</Number><Number>1</Number></Row> \\n<Row><Number>9</Number><Number>2</Number><Number>5</Number><Number>1</Number><Number>4</Number><Number>7</Number><Number>3</Number><Number>8</Number><Number>10</Number><Number>3</Number><Number>4</Number><Number>8</Number><Number>9</Number><Number>7</Number><Number>9</Number><Number>5</Number><Number>7</Number><Number>8</Number><Number>1</Number><Number>10</Number></Row> \\n<Row><Number>8</Number><Number>6</Number><Number>7</Number><Number>1</Number><Number>8</Number><Number>4</Number><Number>7</Number><Number>10</Number><Number>7</Number><Number>1</Number><Number>9</Number><Number>3</Number><Number>7</Number><Number>8</Number><Number>10</Number><Number>7</Number><Number>9</Number><Number>5</Number><Number>7</Number><Number>8</Number></Row> \\n<Row><Number>7</Number><Number>5</Number><Number>4</Number><Number>8</Number><Number>5</Number><Number>5</Number><Num', 2: 'ber>2</Number><Number>5</Number><Number>3</Number><Number>8</Number><Number>6</Number><Number>5</Number><Number>8</Number><Number>5</Number><Number>9</Number><Number>1</Number><Number>10</Number><Number>9</Number><Number>5</Number><Number>9</Number></Row> \\n<Row><Number>1</Number><Number>8</Number><Number>1</Number><Number>7</Number><Number>1</Number><Number>6</Number><Number>5</Number><Number>9</Number><Number>10</Number><Number>9</Number><Number>5</Number><Number>2</Number><Number>9</Number><Number>2</Number><Number>1</Number><Number>3</Number><Number>10</Number><Number>10</Number><Number>2</Number><Number>3</Number></Row> \\n<Row><Number>2</Number><Number>7</Number><Number>9</Number><Number>2</Number><Number>7</Number><Number>7</Number><Number>4</Number><Number>5</Number><Number>8</Number><Number>9</Number><Number>3</Number><Number>9</Number><Number>4</Number><Number>6</Number><Number>2</Number><Number>9</Number><Number>9</Number><Number>10</Number><Number>9</Number><Number>1</Number><', 3: '/Row> \\n<Row><Number>1</Number><Number>7</Number><Number>5</Number><Number>8</Number><Number>5</Number><Number>4</Number><Number>3</Number><Number>2</Number><Number>8</Number><Number>2</Number><Number>1</Number><Number>9</Number><Number>6</Number><Number>6</Number><Number>7</Number><Number>6</Number><Number>4</Number><Number>6</Number><Number>2</Number><Number>5</Number></Row> \\n<Row><Number>10</Number><Number>3</Number><Number>10</Number><Number>2</Number><Number>5</Number><Number>9</Number><Number>6</Number><Number>2</Number><Number>8</Number><Number>2</Number><Number>3</Number><Number>8</Number><Number>8</Number><Number>10</Number><Number>5</Number><Number>4</Number><Number>3</Number><Number>4</Number><Number>9</Number><Number>8</Number></Row> \\n<Row><Number>3</Number><Number>9</Number><Number>5</Number><Number>1</Number><Number>8</Number><Number>10</Number><Number>9</Number><Number>10</Number><Number>1</Number><Number>10</Number><Number>4</Number><Number>6</Number><Number>6</Number><N', 4: 'umber>2</Number><Number>6</Number><Number>8</Number><Number>3</Number><Number>8</Number><Number>2</Number><Number>8</Number></Row> \\n<Row><Number>9</Number><Number>5</Number><Number>8</Number><Number>6</Number><Number>7</Number><Number>7</Number><Number>5</Number><Number>6</Number><Number>2</Number><Number>5</Number><Number>5</Number><Number>7</Number><Number>5</Number><Number>8</Number><Number>6</Number><Number>3</Number><Number>8</Number><Number>9</Number><Number>6</Number><Number>9</Number></Row> \\n<Row><Number>7</Number><Number>7</Number><Number>2</Number><Number>6</Number><Number>1</Number><Number>7</Number><Number>6</Number><Number>5</Number><Number>1</Number><Number>8</Number><Number>9</Number><Number>7</Number><Number>3</Number><Number>9</Number><Number>5</Number><Number>5</Number><Number>6</Number><Number>7</Number><Number>3</Number><Number>7</Number></Row> \\n<Row><Number>2</Number><Number>7</Number><Number>10</Number><Number>6</Number><Number>8</Number><Number>4</Number><Number>', 5: '7</Number><Number>3</Number><Number>3</Number><Number>3</Number><Number>3</Number><Number>7</Number><Number>1</Number><Number>9</Number><Number>3</Number><Number>9</Number><Number>9</Number><Number>1</Number><Number>7</Number><Number>8</Number></Row> \\n<Row><Number>9</Number><Number>5</Number><Number>8</Number><Number>9</Number><Number>6</Number><Number>3</Number><Number>4</Number><Number>3</Number><Number>2</Number><Number>9</Number><Number>9</Number><Number>8</Number><Number>6</Number><Number>6</Number><Number>3</Number><Number>9</Number><Number>2</Number><Number>3</Number><Number>4</Number><Number>6</Number></Row> \\n<Row><Number>6</Number><Number>8</Number><Number>6</Number><Number>3</Number><Number>5</Number><Number>7</Number><Number>6</Number><Number>4</Number><Number>10</Number><Number>2</Number><Number>10</Number><Number>6</Number><Number>3</Number><Number>9</Number><Number>5</Number><Number>4</Number><Number>5</Number><Number>5</Number><Number>10</Number><Number>9</Number></Row> '}"
   ]
  },
  {
   "cell_type": "code",
   "execution_count": 41,
   "metadata": {},
   "outputs": [],
   "source": [
    "l=[[6, 1, 10, 1, 5, 1, 4, 3, 5, 4, 5, 6, 9, 1, 2, 3, 1, 4, 8, 7], [5, 10, 9, 2, 3, 6, 2, 2, 10, 4, 5, 6, 8, 9, 7, 2, 5, 3, 10, 4], [9, 10, 4, 4, 10, 3, 9, 5, 10, 1, 9, 8, 3, 3, 6, 7, 8, 8, 7, 7], [10, 10, 7, 10, 7, 1, 5, 8, 9, 9, 9, 4, 7, 3, 7, 10, 10, 7, 4, 3], [10, 4, 10, 7, 9, 5, 8, 3, 6, 3, 8, 8, 4, 2, 1, 2, 5, 6, 10, 9], [3, 4, 4, 4, 6, 2, 10, 8, 5, 8, 4, 7, 7, 1, 9, 10, 7, 8, 9, 1], [10, 3, 2, 2, 7, 6, 1, 9, 6, 7, 10, 3, 9, 10, 10, 1, 10, 8, 5, 7], [7, 9, 10, 4, 9, 10, 10, 3, 8, 6, 2, 1, 3, 4, 10, 8, 3, 7, 7, 8], [9, 7, 1, 8, 7, 9, 1, 4, 9, 1, 5, 9, 4, 8, 6, 6, 2, 3, 7, 8], [5, 3, 10, 10, 4, 9, 4, 6, 1, 8, 7, 8, 9, 4, 6, 6, 9, 3, 2, 3], [2, 5, 6, 3, 4, 3, 3, 9, 2, 1, 4, 10, 2, 2, 10, 6, 10, 5, 7, 5], [7, 1, 2, 8, 6, 3, 6, 5, 8, 7, 8, 4, 1, 9, 5, 4, 6, 7, 7, 10], [5, 9, 4, 2, 8, 2, 5, 9, 2, 4, 4, 9, 10, 7, 3, 1, 8, 1, 9, 2], [7, 8, 10, 5, 1, 4, 2, 10, 1, 10, 1, 8, 8, 3, 7, 5, 1, 7, 8, 2], [5, 2, 4, 4, 1, 1, 10, 8, 10, 9, 8, 10, 6, 4, 5, 6, 8, 7, 5, 2], [8, 5, 5, 2, 2, 3, 3, 10, 7, 3, 4, 2, 9, 2, 6, 2, 4, 3, 2, 1], [3, 7, 6, 7, 4, 4, 3, 10, 4, 4, 2, 8, 4, 1, 6, 2, 2, 6, 2, 9], [4, 3, 4, 2, 2, 6, 2, 3, 6, 7, 8, 2, 6, 2, 10, 10, 4, 7, 7, 8], [3, 1, 4, 9, 10, 3, 7, 4, 9, 3, 4, 5, 6, 10, 1, 10, 6, 8, 2, 3], [4, 9, 4, 5, 7, 5, 7, 5, 5, 10, 1, 5, 2, 3, 5, 8, 3, 2, 10, 9]]\n"
   ]
  },
  {
   "cell_type": "code",
   "execution_count": 42,
   "metadata": {},
   "outputs": [],
   "source": [
    "k=[[6, 1, 10, 1, 5, 1, 4, 3, 5, 4, 5, 6, 9, 1, 2, 3, 1, 4, 8, 7], [5, 10, 9, 2, 3, 6, 2, 2, 10, 4, 5, 6, 8, 9, 7, 2, 5, 3, 10, 4], [9, 10, 4, 4, 10, 3, 9, 5, 10, 1, 9, 8, 3, 3, 6, 7, 8, 8, 7, 7], [10, 10, 7, 10, 7, 1, 5, 8, 9, 9, 9, 4, 7, 3, 7, 10, 10, 7, 4, 3], [10, 4, 10, 7, 9, 5, 8, 3, 6, 3, 8, 8, 4, 2, 1, 2, 5, 6, 10, 9], [3, 4, 4, 4, 6, 2, 10, 8, 5, 8, 4, 7, 7, 1, 9, 10, 7, 8, 9, 1], [10, 3, 2, 2, 7, 6, 1, 9, 6, 7, 10, 3, 9, 10, 10, 1, 10, 8, 5, 7], [7, 9, 10, 4, 9, 10, 10, 3, 8, 6, 2, 1, 3, 4, 10, 8, 3, 7, 7, 8], [9, 7, 1, 8, 7, 9, 1, 4, 9, 1, 5, 9, 4, 8, 6, 6, 2, 3, 7, 8], [5, 3, 10, 10, 4, 9, 4, 6, 1, 8, 7, 8, 9, 4, 6, 6, 9, 3, 2, 3], [2, 5, 6, 3, 4, 3, 3, 9, 2, 1, 4, 10, 2, 2, 10, 6, 10, 5, 7, 5], [7, 1, 2, 8, 6, 3, 6, 5, 8, 7, 8, 4, 1, 9, 5, 4, 6, 7, 7, 10], [5, 9, 4, 2, 8, 2, 5, 9, 2, 4, 4, 9, 10, 7, 3, 1, 8, 1, 9, 2], [7, 8, 10, 5, 1, 4, 2, 10, 1, 10, 1, 8, 8, 3, 7, 5, 1, 7, 8, 2], [5, 2, 4, 4, 1, 1, 10, 8, 10, 9, 8, 10, 6, 4, 5, 6, 8, 7, 5, 2], [8, 5, 5, 2, 2, 3, 3, 10, 7, 3, 4, 2, 9, 2, 6, 2, 4, 3, 2, 1], [3, 7, 6, 7, 4, 4, 3, 10, 4, 4, 2, 8, 4, 1, 6, 2, 2, 6, 2, 9], [4, 3, 4, 2, 2, 6, 2, 3, 6, 7, 8, 2, 6, 2, 10, 10, 4, 7, 7, 8], [3, 1, 4, 9, 10, 3, 7, 4, 9, 3, 4, 5, 6, 10, 1, 10, 6, 8, 2, 3], [4, 9, 4, 5, 7, 5, 7, 5, 5, 10, 1, 5, 2, 3, 5, 8, 3, 2, 10, 9]]"
   ]
  },
  {
   "cell_type": "code",
   "execution_count": 43,
   "metadata": {},
   "outputs": [
    {
     "data": {
      "text/plain": [
       "True"
      ]
     },
     "execution_count": 43,
     "metadata": {},
     "output_type": "execute_result"
    }
   ],
   "source": [
    "l==k"
   ]
  },
  {
   "cell_type": "code",
   "execution_count": 44,
   "metadata": {},
   "outputs": [
    {
     "data": {
      "text/plain": [
       "[[6, 1, 10, 1, 5, 1, 4, 3, 5, 4, 5, 6, 9, 1, 2, 3, 1, 4, 8, 7],\n",
       " [5, 10, 9, 2, 3, 6, 2, 2, 10, 4, 5, 6, 8, 9, 7, 2, 5, 3, 10, 4],\n",
       " [9, 10, 4, 4, 10, 3, 9, 5, 10, 1, 9, 8, 3, 3, 6, 7, 8, 8, 7, 7],\n",
       " [10, 10, 7, 10, 7, 1, 5, 8, 9, 9, 9, 4, 7, 3, 7, 10, 10, 7, 4, 3],\n",
       " [10, 4, 10, 7, 9, 5, 8, 3, 6, 3, 8, 8, 4, 2, 1, 2, 5, 6, 10, 9],\n",
       " [3, 4, 4, 4, 6, 2, 10, 8, 5, 8, 4, 7, 7, 1, 9, 10, 7, 8, 9, 1],\n",
       " [10, 3, 2, 2, 7, 6, 1, 9, 6, 7, 10, 3, 9, 10, 10, 1, 10, 8, 5, 7],\n",
       " [7, 9, 10, 4, 9, 10, 10, 3, 8, 6, 2, 1, 3, 4, 10, 8, 3, 7, 7, 8],\n",
       " [9, 7, 1, 8, 7, 9, 1, 4, 9, 1, 5, 9, 4, 8, 6, 6, 2, 3, 7, 8],\n",
       " [5, 3, 10, 10, 4, 9, 4, 6, 1, 8, 7, 8, 9, 4, 6, 6, 9, 3, 2, 3],\n",
       " [2, 5, 6, 3, 4, 3, 3, 9, 2, 1, 4, 10, 2, 2, 10, 6, 10, 5, 7, 5],\n",
       " [7, 1, 2, 8, 6, 3, 6, 5, 8, 7, 8, 4, 1, 9, 5, 4, 6, 7, 7, 10],\n",
       " [5, 9, 4, 2, 8, 2, 5, 9, 2, 4, 4, 9, 10, 7, 3, 1, 8, 1, 9, 2],\n",
       " [7, 8, 10, 5, 1, 4, 2, 10, 1, 10, 1, 8, 8, 3, 7, 5, 1, 7, 8, 2],\n",
       " [5, 2, 4, 4, 1, 1, 10, 8, 10, 9, 8, 10, 6, 4, 5, 6, 8, 7, 5, 2],\n",
       " [8, 5, 5, 2, 2, 3, 3, 10, 7, 3, 4, 2, 9, 2, 6, 2, 4, 3, 2, 1],\n",
       " [3, 7, 6, 7, 4, 4, 3, 10, 4, 4, 2, 8, 4, 1, 6, 2, 2, 6, 2, 9],\n",
       " [4, 3, 4, 2, 2, 6, 2, 3, 6, 7, 8, 2, 6, 2, 10, 10, 4, 7, 7, 8],\n",
       " [3, 1, 4, 9, 10, 3, 7, 4, 9, 3, 4, 5, 6, 10, 1, 10, 6, 8, 2, 3],\n",
       " [4, 9, 4, 5, 7, 5, 7, 5, 5, 10, 1, 5, 2, 3, 5, 8, 3, 2, 10, 9]]"
      ]
     },
     "execution_count": 44,
     "metadata": {},
     "output_type": "execute_result"
    }
   ],
   "source": [
    "l"
   ]
  },
  {
   "cell_type": "code",
   "execution_count": 45,
   "metadata": {},
   "outputs": [],
   "source": [
    "def getParity(number):\n",
    "    if bin(number).count('1')==1:\n",
    "        return 1\n",
    "    else:\n",
    "        return 0"
   ]
  },
  {
   "cell_type": "code",
   "execution_count": 46,
   "metadata": {},
   "outputs": [],
   "source": [
    "def getParityMatrix(mat):\n",
    "    parMat =[]\n",
    "    for row in mat:\n",
    "        tempRow=[]\n",
    "        for number in row:\n",
    "            tempRow.append(getParity(int(number)))\n",
    "        parMat.append(tempRow)\n",
    "    return parMat\n",
    "    "
   ]
  },
  {
   "cell_type": "code",
   "execution_count": 47,
   "metadata": {},
   "outputs": [],
   "source": [
    "parL=getParityMatrix(l)"
   ]
  },
  {
   "cell_type": "code",
   "execution_count": 48,
   "metadata": {},
   "outputs": [],
   "source": [
    "parK=getParityMatrix(k)"
   ]
  },
  {
   "cell_type": "code",
   "execution_count": 49,
   "metadata": {},
   "outputs": [
    {
     "data": {
      "text/plain": [
       "True"
      ]
     },
     "execution_count": 49,
     "metadata": {},
     "output_type": "execute_result"
    }
   ],
   "source": [
    "getParityMatrix(k) == getParityMatrix(l)"
   ]
  },
  {
   "cell_type": "code",
   "execution_count": 50,
   "metadata": {},
   "outputs": [
    {
     "data": {
      "text/plain": [
       "True"
      ]
     },
     "execution_count": 50,
     "metadata": {},
     "output_type": "execute_result"
    }
   ],
   "source": [
    "parK == parL"
   ]
  },
  {
   "cell_type": "code",
   "execution_count": 51,
   "metadata": {},
   "outputs": [],
   "source": [
    "parK[5][5] =0"
   ]
  },
  {
   "cell_type": "code",
   "execution_count": 52,
   "metadata": {},
   "outputs": [
    {
     "name": "stdout",
     "output_type": "stream",
     "text": [
      "5 5\n"
     ]
    }
   ],
   "source": [
    "for i in range(len(parK)):\n",
    "    for j in range(len(parK)):\n",
    "        if(parK[i][j] != parL[i][j]):\n",
    "            print(i,j)\n",
    "            "
   ]
  },
  {
   "cell_type": "code",
   "execution_count": 53,
   "metadata": {},
   "outputs": [],
   "source": [
    "def encapsulateParityMatrix(parMat):\n",
    "    requiredString = \"<Matrix>\"\n",
    "    for row in parMat:\n",
    "        requiredString+=\"<Row>\"\n",
    "        for digit in row:\n",
    "            requiredString+=\"<Parity>{}</Parity>\".format(digit)\n",
    "        requiredString+=\"</Row>\"\n",
    "    return requiredString"
   ]
  },
  {
   "cell_type": "code",
   "execution_count": 54,
   "metadata": {},
   "outputs": [
    {
     "data": {
      "text/plain": [
       "'<Matrix><Row><Parity>0</Parity><Parity>1</Parity><Parity>0</Parity><Parity>1</Parity><Parity>0</Parity><Parity>1</Parity><Parity>1</Parity><Parity>0</Parity><Parity>0</Parity><Parity>1</Parity><Parity>0</Parity><Parity>0</Parity><Parity>0</Parity><Parity>1</Parity><Parity>1</Parity><Parity>0</Parity><Parity>1</Parity><Parity>1</Parity><Parity>1</Parity><Parity>0</Parity></Row><Row><Parity>0</Parity><Parity>0</Parity><Parity>0</Parity><Parity>1</Parity><Parity>0</Parity><Parity>0</Parity><Parity>1</Parity><Parity>1</Parity><Parity>0</Parity><Parity>1</Parity><Parity>0</Parity><Parity>0</Parity><Parity>1</Parity><Parity>0</Parity><Parity>0</Parity><Parity>1</Parity><Parity>0</Parity><Parity>0</Parity><Parity>0</Parity><Parity>1</Parity></Row><Row><Parity>0</Parity><Parity>0</Parity><Parity>1</Parity><Parity>1</Parity><Parity>0</Parity><Parity>0</Parity><Parity>0</Parity><Parity>0</Parity><Parity>0</Parity><Parity>1</Parity><Parity>0</Parity><Parity>1</Parity><Parity>0</Parity><Parity>0</Parity><Parity>0</Parity><Parity>0</Parity><Parity>1</Parity><Parity>1</Parity><Parity>0</Parity><Parity>0</Parity></Row><Row><Parity>0</Parity><Parity>0</Parity><Parity>0</Parity><Parity>0</Parity><Parity>0</Parity><Parity>1</Parity><Parity>0</Parity><Parity>1</Parity><Parity>0</Parity><Parity>0</Parity><Parity>0</Parity><Parity>1</Parity><Parity>0</Parity><Parity>0</Parity><Parity>0</Parity><Parity>0</Parity><Parity>0</Parity><Parity>0</Parity><Parity>1</Parity><Parity>0</Parity></Row><Row><Parity>0</Parity><Parity>1</Parity><Parity>0</Parity><Parity>0</Parity><Parity>0</Parity><Parity>0</Parity><Parity>1</Parity><Parity>0</Parity><Parity>0</Parity><Parity>0</Parity><Parity>1</Parity><Parity>1</Parity><Parity>1</Parity><Parity>1</Parity><Parity>1</Parity><Parity>1</Parity><Parity>0</Parity><Parity>0</Parity><Parity>0</Parity><Parity>0</Parity></Row><Row><Parity>0</Parity><Parity>1</Parity><Parity>1</Parity><Parity>1</Parity><Parity>0</Parity><Parity>0</Parity><Parity>0</Parity><Parity>1</Parity><Parity>0</Parity><Parity>1</Parity><Parity>1</Parity><Parity>0</Parity><Parity>0</Parity><Parity>1</Parity><Parity>0</Parity><Parity>0</Parity><Parity>0</Parity><Parity>1</Parity><Parity>0</Parity><Parity>1</Parity></Row><Row><Parity>0</Parity><Parity>0</Parity><Parity>1</Parity><Parity>1</Parity><Parity>0</Parity><Parity>0</Parity><Parity>1</Parity><Parity>0</Parity><Parity>0</Parity><Parity>0</Parity><Parity>0</Parity><Parity>0</Parity><Parity>0</Parity><Parity>0</Parity><Parity>0</Parity><Parity>1</Parity><Parity>0</Parity><Parity>1</Parity><Parity>0</Parity><Parity>0</Parity></Row><Row><Parity>0</Parity><Parity>0</Parity><Parity>0</Parity><Parity>1</Parity><Parity>0</Parity><Parity>0</Parity><Parity>0</Parity><Parity>0</Parity><Parity>1</Parity><Parity>0</Parity><Parity>1</Parity><Parity>1</Parity><Parity>0</Parity><Parity>1</Parity><Parity>0</Parity><Parity>1</Parity><Parity>0</Parity><Parity>0</Parity><Parity>0</Parity><Parity>1</Parity></Row><Row><Parity>0</Parity><Parity>0</Parity><Parity>1</Parity><Parity>1</Parity><Parity>0</Parity><Parity>0</Parity><Parity>1</Parity><Parity>1</Parity><Parity>0</Parity><Parity>1</Parity><Parity>0</Parity><Parity>0</Parity><Parity>1</Parity><Parity>1</Parity><Parity>0</Parity><Parity>0</Parity><Parity>1</Parity><Parity>0</Parity><Parity>0</Parity><Parity>1</Parity></Row><Row><Parity>0</Parity><Parity>0</Parity><Parity>0</Parity><Parity>0</Parity><Parity>1</Parity><Parity>0</Parity><Parity>1</Parity><Parity>0</Parity><Parity>1</Parity><Parity>1</Parity><Parity>0</Parity><Parity>1</Parity><Parity>0</Parity><Parity>1</Parity><Parity>0</Parity><Parity>0</Parity><Parity>0</Parity><Parity>0</Parity><Parity>1</Parity><Parity>0</Parity></Row><Row><Parity>1</Parity><Parity>0</Parity><Parity>0</Parity><Parity>0</Parity><Parity>1</Parity><Parity>0</Parity><Parity>0</Parity><Parity>0</Parity><Parity>1</Parity><Parity>1</Parity><Parity>1</Parity><Parity>0</Parity><Parity>1</Parity><Parity>1</Parity><Parity>0</Parity><Parity>0</Parity><Parity>0</Parity><Parity>0</Parity><Parity>0</Parity><Parity>0</Parity></Row><Row><Parity>0</Parity><Parity>1</Parity><Parity>1</Parity><Parity>1</Parity><Parity>0</Parity><Parity>0</Parity><Parity>0</Parity><Parity>0</Parity><Parity>1</Parity><Parity>0</Parity><Parity>1</Parity><Parity>1</Parity><Parity>1</Parity><Parity>0</Parity><Parity>0</Parity><Parity>1</Parity><Parity>0</Parity><Parity>0</Parity><Parity>0</Parity><Parity>0</Parity></Row><Row><Parity>0</Parity><Parity>0</Parity><Parity>1</Parity><Parity>1</Parity><Parity>1</Parity><Parity>1</Parity><Parity>0</Parity><Parity>0</Parity><Parity>1</Parity><Parity>1</Parity><Parity>1</Parity><Parity>0</Parity><Parity>0</Parity><Parity>0</Parity><Parity>0</Parity><Parity>1</Parity><Parity>1</Parity><Parity>1</Parity><Parity>0</Parity><Parity>1</Parity></Row><Row><Parity>0</Parity><Parity>1</Parity><Parity>0</Parity><Parity>0</Parity><Parity>1</Parity><Parity>1</Parity><Parity>1</Parity><Parity>0</Parity><Parity>1</Parity><Parity>0</Parity><Parity>1</Parity><Parity>1</Parity><Parity>1</Parity><Parity>0</Parity><Parity>0</Parity><Parity>0</Parity><Parity>1</Parity><Parity>0</Parity><Parity>1</Parity><Parity>1</Parity></Row><Row><Parity>0</Parity><Parity>1</Parity><Parity>1</Parity><Parity>1</Parity><Parity>1</Parity><Parity>1</Parity><Parity>0</Parity><Parity>1</Parity><Parity>0</Parity><Parity>0</Parity><Parity>1</Parity><Parity>0</Parity><Parity>0</Parity><Parity>1</Parity><Parity>0</Parity><Parity>0</Parity><Parity>1</Parity><Parity>0</Parity><Parity>0</Parity><Parity>1</Parity></Row><Row><Parity>1</Parity><Parity>0</Parity><Parity>0</Parity><Parity>1</Parity><Parity>1</Parity><Parity>0</Parity><Parity>0</Parity><Parity>0</Parity><Parity>0</Parity><Parity>0</Parity><Parity>1</Parity><Parity>1</Parity><Parity>0</Parity><Parity>1</Parity><Parity>0</Parity><Parity>1</Parity><Parity>1</Parity><Parity>0</Parity><Parity>1</Parity><Parity>1</Parity></Row><Row><Parity>0</Parity><Parity>0</Parity><Parity>0</Parity><Parity>0</Parity><Parity>1</Parity><Parity>1</Parity><Parity>0</Parity><Parity>0</Parity><Parity>1</Parity><Parity>1</Parity><Parity>1</Parity><Parity>1</Parity><Parity>1</Parity><Parity>1</Parity><Parity>0</Parity><Parity>1</Parity><Parity>1</Parity><Parity>0</Parity><Parity>1</Parity><Parity>0</Parity></Row><Row><Parity>1</Parity><Parity>0</Parity><Parity>1</Parity><Parity>1</Parity><Parity>1</Parity><Parity>0</Parity><Parity>1</Parity><Parity>0</Parity><Parity>0</Parity><Parity>0</Parity><Parity>1</Parity><Parity>1</Parity><Parity>0</Parity><Parity>1</Parity><Parity>0</Parity><Parity>0</Parity><Parity>1</Parity><Parity>0</Parity><Parity>0</Parity><Parity>1</Parity></Row><Row><Parity>0</Parity><Parity>1</Parity><Parity>1</Parity><Parity>0</Parity><Parity>0</Parity><Parity>0</Parity><Parity>0</Parity><Parity>1</Parity><Parity>0</Parity><Parity>0</Parity><Parity>1</Parity><Parity>0</Parity><Parity>0</Parity><Parity>0</Parity><Parity>1</Parity><Parity>0</Parity><Parity>0</Parity><Parity>1</Parity><Parity>1</Parity><Parity>0</Parity></Row><Row><Parity>1</Parity><Parity>0</Parity><Parity>1</Parity><Parity>0</Parity><Parity>0</Parity><Parity>0</Parity><Parity>0</Parity><Parity>0</Parity><Parity>0</Parity><Parity>0</Parity><Parity>1</Parity><Parity>0</Parity><Parity>1</Parity><Parity>0</Parity><Parity>0</Parity><Parity>1</Parity><Parity>0</Parity><Parity>1</Parity><Parity>0</Parity><Parity>0</Parity></Row>'"
      ]
     },
     "execution_count": 54,
     "metadata": {},
     "output_type": "execute_result"
    }
   ],
   "source": [
    "encapsulateParityMatrix(parK)"
   ]
  },
  {
   "cell_type": "code",
   "execution_count": 55,
   "metadata": {},
   "outputs": [],
   "source": [
    "k=[[1, 0, 0, 1, 0, 0, 1, 0, 0, 0, 0, 1, 1, 0, 1, 0, 0, 1, 0, 1], [1, 0, 1, 1, 0, 0, 0, 0, 1, 1, 1, 0, 1, 0, 1, 0, 0, 0, 0, 1], [0, 1, 0, 0, 1, 0, 0, 0, 1, 0, 1, 0, 0, 1, 1, 0, 0, 0, 1, 0], [0, 1, 0, 0, 0, 0, 0, 1, 0, 0, 0, 0, 0, 1, 0, 1, 0, 0, 1, 1], [1, 0, 0, 1, 1, 1, 0, 1, 1, 0, 1, 0, 0, 0, 0, 0, 0, 0, 1, 1], [0, 0, 1, 0, 1, 1, 0, 0, 0, 1, 1, 1, 1, 0, 0, 1, 0, 0, 1, 0], [0, 1, 0, 0, 0, 0, 1, 0, 0, 0, 1, 1, 1, 1, 1, 1, 1, 0, 0, 0], [0, 0, 0, 1, 1, 0, 0, 1, 1, 1, 1, 0, 0, 0, 0, 0, 1, 1, 0, 0], [0, 0, 1, 0, 1, 1, 1, 0, 1, 1, 0, 0, 0, 0, 0, 1, 0, 0, 1, 0], [0, 1, 1, 0, 0, 0, 0, 1, 0, 0, 1, 0, 1, 0, 0, 0, 0, 0, 0, 1], [1, 1, 0, 0, 0, 0, 1, 1, 0, 1, 0, 1, 0, 1, 0, 0, 1, 1, 0, 0], [0, 0, 0, 0, 0, 0, 0, 1, 0, 1, 0, 1, 0, 1, 0, 0, 0, 0, 0, 1], [0, 1, 0, 1, 1, 0, 0, 1, 0, 0, 1, 1, 0, 1, 0, 1, 0, 0, 0, 0], [0, 1, 0, 0, 1, 0, 0, 0, 0, 0, 1, 1, 1, 1, 0, 1, 0, 0, 1, 0], [1, 0, 1, 0, 0, 0, 0, 0, 0, 1, 0, 0, 0, 0, 0, 0, 1, 1, 1, 0], [1, 0, 0, 1, 0, 1, 1, 1, 0, 0, 0, 1, 0, 1, 0, 1, 0, 0, 0, 0], [0, 0, 0, 1, 1, 1, 1, 1, 0, 1, 0, 0, 1, 0, 1, 1, 1, 0, 0, 1], [0, 0, 0, 1, 1, 1, 1, 0, 1, 0, 0, 0, 0, 1, 0, 1, 0, 1, 1, 0], [0, 0, 0, 0, 0, 0, 1, 0, 0, 1, 0, 1, 0, 1, 0, 0, 0, 1, 0, 0], [0, 0, 0, 1, 1, 0, 0, 1, 0, 0, 0, 0, 0, 0, 1, 0, 1, 1, 0, 1]]\n",
    "l=[[1, 0, 0, 1, 0, 0, 1, 0, 0, 0, 0, 1, 1, 0, 1, 0, 0, 1, 0, 1, 1, 0, 1, 1, 0, 0, 0, 0, 1, 1, 1, 0, 1, 0, 1, 0, 0, 0, 0, 1, 0, 1, 0, 0, 1, 0, 0, 0, 1, 0, 1, 0, 0, 1, 1, 0, 0, 0, 1, 0, 0, 1, 0, 0, 0, 0, 0, 1, 0, 0, 0, 0, 0, 1, 0, 1, 0, 0, 1, 1, 1, 0, 0, 1, 1, 1, 0, 1, 1, 0, 1, 0, 0, 0, 0, 0, 0, 0, 1, 1, 0, 0, 1, 0, 1, 1, 0, 0, 0, 1, 1, 1, 1, 0, 0, 1, 0, 0, 1, 0, 0, 1, 0, 0, 0, 0, 1, 0, 0, 0, 1, 1, 1, 1, 1, 1, 1, 0, 0, 0, 0, 0, 0, 1, 1, 0, 0, 1, 1, 1, 1, 0, 0, 0, 0, 0, 1, 1, 0, 0, 0, 0, 1, 0, 1, 1, 1, 0, 1, 1, 0, 0, 0, 0, 0, 1, 0, 0, 1, 0, 0, 1, 1, 0, 0, 0, 0, 1, 0, 0, 1, 0, 1, 0, 0, 0, 0, 0, 0, 1, 1, 1, 0, 0, 0, 0, 1, 1, 0, 1, 0, 1, 0, 1, 0, 0, 1, 1, 0, 0, 0, 0, 0, 0, 0, 0, 0, 1, 0, 1, 0, 1, 0, 1, 0, 0, 0, 0, 0, 1, 0, 1, 0, 1, 1, 0, 0, 1, 0, 0, 1, 1, 0, 1, 0, 1, 0, 0, 0, 0, 0, 1, 0, 0, 1, 0, 0, 0, 0, 0, 1, 1, 1, 1, 0, 1, 0, 0, 1, 0, 1, 0, 1, 0, 0, 0, 0, 0, 0, 1, 0, 0, 0, 0, 0, 0, 1, 1, 1, 0, 1, 0, 0, 1, 0, 1, 1, 1, 0, 0, 0, 1, 0, 1, 0, 1, 0, 0, 0, 0, 0, 0, 0, 1, 1, 1, 1, 1, 0, 1, 0, 0, 1, 0, 1, 1, 1, 0, 0, 1, 0, 0, 0, 1, 1, 1, 1, 0, 1, 0, 0, 0, 0, 1, 0, 1, 0, 1, 1, 0, 0, 0, 0, 0, 0, 0, 1, 0, 0, 1, 0, 1, 0, 1, 0, 0, 0, 1, 0, 0, 0, 0, 0, 1, 1, 0, 0, 1, 0, 0, 0, 0, 0, 0, 1, 0, 1, 1, 0, 1]]\n",
    "       "
   ]
  },
  {
   "cell_type": "code",
   "execution_count": 56,
   "metadata": {},
   "outputs": [],
   "source": [
    "k= [[1, 1, 0, 1, 0, 0, 1, 0, 0, 1, 1, 1, 0, 0, 0, 0, 1, 0, 1, 0], [0, 0, 1, 0, 0, 0, 1, 0, 0, 1, 1, 1, 0, 0, 0, 1, 0, 0, 1, 1], [0, 0, 1, 1, 1, 1, 0, 0, 0, 1, 1, 1, 1, 0, 1, 0, 1, 1, 0, 0], [0, 1, 0, 0, 1, 1, 0, 1, 0, 1, 0, 1, 0, 1, 0, 0, 0, 0, 1, 0], [1, 1, 0, 0, 0, 1, 0, 0, 1, 0, 0, 0, 0, 1, 1, 0, 1, 1, 1, 1], [1, 1, 0, 0, 0, 1, 1, 0, 0, 0, 0, 1, 0, 1, 0, 1, 0, 0, 1, 0], [1, 0, 1, 0, 1, 0, 0, 1, 0, 1, 0, 0, 0, 1, 1, 1, 0, 0, 1, 1], [1, 0, 0, 1, 0, 0, 0, 1, 0, 0, 0, 0, 0, 1, 1, 1, 0, 0, 0, 0], [0, 0, 1, 0, 1, 0, 0, 1, 0, 0, 0, 1, 0, 0, 0, 0, 1, 0, 0, 0], [1, 1, 0, 1, 0, 0, 1, 0, 0, 0, 0, 1, 0, 1, 0, 1, 0, 1, 0, 1], [0, 0, 0, 0, 0, 0, 1, 0, 0, 0, 0, 1, 0, 0, 1, 0, 0, 1, 0, 0], [1, 1, 0, 1, 1, 0, 1, 1, 0, 0, 1, 1, 1, 0, 0, 1, 1, 0, 1, 1], [0, 1, 0, 0, 1, 1, 0, 1, 1, 1, 0, 1, 0, 0, 0, 1, 0, 0, 0, 1], [1, 0, 0, 0, 0, 0, 1, 1, 0, 0, 1, 0, 0, 1, 1, 0, 1, 0, 0, 1], [1, 0, 1, 1, 1, 1, 0, 0, 0, 1, 0, 0, 0, 0, 1, 0, 0, 0, 0, 0], [0, 0, 1, 0, 0, 0, 0, 0, 0, 1, 0, 1, 1, 0, 1, 1, 1, 1, 1, 0], [0, 1, 1, 0, 0, 1, 0, 0, 0, 0, 1, 0, 0, 0, 1, 0, 1, 1, 0, 0], [0, 0, 1, 0, 0, 0, 0, 0, 0, 0, 0, 0, 0, 1, 0, 1, 1, 1, 1, 1], [1, 0, 1, 1, 1, 1, 0, 0, 0, 0, 0, 1, 1, 1, 0, 1, 0, 0, 0, 1], [0, 0, 0, 1, 0, 1, 1, 0, 1, 0, 0, 1, 1, 1, 1, 1, 1, 1, 1, 0]]\n",
    "l = [[1, 1, 0, 1, 0, 0, 1, 0, 0, 1, 1, 1, 0, 0, 0, 0, 1, 0, 1, 0], [0, 0, 1, 0, 0, 0, 1, 0, 0, 1, 1, 1, 0, 0, 0, 1, 0, 0, 1, 1], [0, 0, 1, 1, 1, 1, 0, 0, 0, 1, 1, 1, 1, 0, 1, 0, 1, 1, 0, 0], [0, 1, 0, 0, 1, 1, 0, 1, 0, 1, 0, 1, 0, 1, 0, 0, 0, 0, 1, 0], [1, 1, 0, 0, 0, 1, 0, 0, 1, 0, 0, 0, 0, 1, 1, 0, 1, 1, 1, 1], [1, 1, 0, 0, 0, 1, 1, 0, 0, 0, 0, 1, 0, 1, 0, 1, 0, 0, 1, 0], [1, 0, 1, 0, 1, 0, 0, 1, 0, 1, 0, 0, 0, 1, 1, 1, 0, 0, 1, 1], [1, 0, 0, 1, 0, 0, 0, 1, 0, 0, 0, 0, 0, 1, 1, 1, 0, 0, 0, 0], [0, 0, 1, 0, 1, 0, 0, 1, 0, 0, 0, 1, 0, 0, 0, 0, 1, 0, 0, 0], [1, 1, 0, 1, 0, 0, 1, 0, 0, 0, 0, 1, 0, 1, 0, 1, 0, 1, 0, 1], [0, 0, 0, 0, 0, 0, 1, 0, 0, 0, 0, 1, 0, 0, 1, 0, 0, 1, 0, 0], [1, 1, 0, 1, 1, 0, 1, 1, 0, 0, 1, 1, 1, 0, 0, 1, 1, 0, 1, 1], [0, 1, 0, 0, 1, 1, 0, 1, 1, 1, 0, 1, 0, 0, 0, 1, 0, 0, 0, 1], [1, 0, 0, 0, 0, 0, 1, 1, 0, 0, 1, 0, 0, 1, 1, 0, 1, 0, 0, 1], [1, 0, 1, 1, 1, 1, 0, 0, 0, 1, 0, 0, 0, 0, 1, 0, 0, 0, 0, 0], [0, 0, 1, 0, 0, 0, 0, 0, 0, 1, 0, 1, 1, 0, 1, 1, 1, 1, 1, 0], [0, 1, 1, 0, 0, 1, 0, 0, 0, 0, 1, 0, 0, 0, 1, 0, 1, 1, 0, 0], [0, 0, 1, 0, 0, 0, 0, 0, 0, 0, 0, 0, 0, 1, 0, 1, 1, 1, 1, 1], [1, 0, 1, 1, 1, 1, 0, 0, 0, 0, 0, 1, 1, 1, 0, 1, 0, 0, 0, 1], [0, 0, 0, 1, 0, 1, 1, 0, 1, 0, 0, 1, 1, 1, 1, 1, 1, 1, 1, 0]]"
   ]
  },
  {
   "cell_type": "code",
   "execution_count": 57,
   "metadata": {},
   "outputs": [],
   "source": [
    "k=[[1, 0, 0, 1, 0, 0, 0, 0, 0, 0, 0, 0, 1, 1, 0, 0, 0, 0, 0, 0], [0, 0, 1, 0, 0, 1, 1, 0, 0, 1, 1, 0, 0, 0, 1, 1, 0, 0, 1, 0], [0, 1, 1, 1, 1, 0, 0, 0, 0, 1, 1, 1, 0, 1, 1, 0, 0, 0, 0, 0], [0, 0, 0, 1, 1, 1, 1, 1, 1, 0, 1, 0, 0, 0, 0, 0, 1, 0, 0, 1], [0, 1, 0, 0, 0, 0, 0, 0, 0, 0, 0, 1, 1, 0, 0, 0, 0, 0, 0, 1], [1, 0, 1, 0, 1, 1, 0, 1, 0, 1, 0, 0, 0, 0, 0, 1, 1, 0, 1, 1], [0, 0, 0, 0, 1, 0, 0, 0, 1, 1, 0, 0, 0, 1, 0, 1, 0, 1, 0, 0], [1, 1, 1, 0, 0, 0, 0, 1, 0, 0, 1, 1, 0, 1, 1, 0, 0, 1, 0, 0], [0, 0, 1, 0, 1, 0, 0, 0, 1, 1, 0, 0, 0, 0, 1, 0, 0, 0, 1, 1], [1, 1, 0, 1, 0, 1, 1, 0, 1, 1, 1, 1, 0, 0, 0, 0, 1, 0, 1, 0], [0, 0, 0, 0, 1, 0, 0, 0, 0, 1, 0, 0, 0, 0, 0, 0, 1, 1, 1, 1], [0, 1, 0, 1, 1, 0, 0, 1, 0, 0, 0, 0, 1, 1, 1, 0, 1, 0, 0, 1], [0, 1, 1, 1, 0, 1, 0, 0, 0, 1, 0, 0, 0, 1, 1, 1, 1, 0, 1, 0], [1, 1, 0, 1, 0, 1, 0, 0, 0, 0, 1, 1, 0, 0, 1, 0, 0, 0, 1, 0], [1, 0, 1, 0, 0, 0, 0, 1, 1, 0, 0, 0, 1, 1, 0, 1, 0, 0, 1, 1], [1, 1, 1, 0, 0, 0, 0, 0, 0, 1, 0, 0, 1, 1, 0, 0, 0, 0, 0, 0], [0, 1, 0, 0, 1, 1, 0, 1, 0, 0, 0, 0, 0, 1, 0, 1, 1, 1, 1, 1]]"
   ]
  },
  {
   "cell_type": "code",
   "execution_count": 58,
   "metadata": {},
   "outputs": [
    {
     "data": {
      "text/plain": [
       "[[1, 0, 0, 1, 0, 0, 0, 0, 0, 0, 0, 0, 1, 1, 0, 0, 0, 0, 0, 0],\n",
       " [0, 0, 1, 0, 0, 1, 1, 0, 0, 1, 1, 0, 0, 0, 1, 1, 0, 0, 1, 0],\n",
       " [0, 1, 1, 1, 1, 0, 0, 0, 0, 1, 1, 1, 0, 1, 1, 0, 0, 0, 0, 0],\n",
       " [0, 0, 0, 1, 1, 1, 1, 1, 1, 0, 1, 0, 0, 0, 0, 0, 1, 0, 0, 1],\n",
       " [0, 1, 0, 0, 0, 0, 0, 0, 0, 0, 0, 1, 1, 0, 0, 0, 0, 0, 0, 1],\n",
       " [1, 0, 1, 0, 1, 1, 0, 1, 0, 1, 0, 0, 0, 0, 0, 1, 1, 0, 1, 1],\n",
       " [0, 0, 0, 0, 1, 0, 0, 0, 1, 1, 0, 0, 0, 1, 0, 1, 0, 1, 0, 0],\n",
       " [1, 1, 1, 0, 0, 0, 0, 1, 0, 0, 1, 1, 0, 1, 1, 0, 0, 1, 0, 0],\n",
       " [0, 0, 1, 0, 1, 0, 0, 0, 1, 1, 0, 0, 0, 0, 1, 0, 0, 0, 1, 1],\n",
       " [1, 1, 0, 1, 0, 1, 1, 0, 1, 1, 1, 1, 0, 0, 0, 0, 1, 0, 1, 0],\n",
       " [0, 0, 0, 0, 1, 0, 0, 0, 0, 1, 0, 0, 0, 0, 0, 0, 1, 1, 1, 1],\n",
       " [0, 1, 0, 1, 1, 0, 0, 1, 0, 0, 0, 0, 1, 1, 1, 0, 1, 0, 0, 1],\n",
       " [0, 1, 1, 1, 0, 1, 0, 0, 0, 1, 0, 0, 0, 1, 1, 1, 1, 0, 1, 0],\n",
       " [1, 1, 0, 1, 0, 1, 0, 0, 0, 0, 1, 1, 0, 0, 1, 0, 0, 0, 1, 0],\n",
       " [1, 0, 1, 0, 0, 0, 0, 1, 1, 0, 0, 0, 1, 1, 0, 1, 0, 0, 1, 1],\n",
       " [1, 1, 1, 0, 0, 0, 0, 0, 0, 1, 0, 0, 1, 1, 0, 0, 0, 0, 0, 0],\n",
       " [0, 1, 0, 0, 1, 1, 0, 1, 0, 0, 0, 0, 0, 1, 0, 1, 1, 1, 1, 1]]"
      ]
     },
     "execution_count": 58,
     "metadata": {},
     "output_type": "execute_result"
    }
   ],
   "source": [
    "k"
   ]
  },
  {
   "cell_type": "code",
   "execution_count": 59,
   "metadata": {},
   "outputs": [],
   "source": [
    "l=[[1, 0, 0, 1, 0, 0, 0, 0, 0, 0, 0, 0, 1, 1, 0, 0, 0, 0, 0, 0], [0, 0, 1, 0, 0, 0, 1, 0, 0, 1, 1, 0, 0, 0, 1, 1, 0, 0, 1, 0], [0, 1, 1, 1, 1, 0, 0, 0, 0, 1, 1, 1, 0, 1, 1, 0, 0, 0, 0, 0], [0, 0, 0, 1, 1, 1, 1, 1, 1, 0, 1, 0, 0, 0, 0, 0, 1, 0, 0, 1], [0, 1, 0, 0, 0, 0, 0, 0, 0, 0, 0, 1, 1, 0, 0, 0, 0, 0, 0, 1], [1, 0, 1, 0, 1, 1, 0, 1, 0, 1, 0, 0, 0, 0, 0, 1, 1, 0, 1, 1], [0, 0, 0, 0, 1, 0, 0, 0, 1, 1, 0, 0, 0, 1, 0, 1, 0, 1, 0, 0], [1, 1, 1, 0, 0, 0, 0, 1, 0, 0, 1, 1, 0, 1, 1, 0, 0, 1, 0, 0], [0, 0, 1, 0, 1, 0, 0, 0, 1, 1, 0, 0, 0, 0, 1, 0, 0, 0, 1, 1], [1, 1, 0, 1, 0, 1, 1, 0, 1, 1, 1, 1, 0, 0, 0, 0, 1, 0, 1, 0], [0, 0, 0, 0, 1, 0, 0, 0, 0, 1, 0, 0, 0, 0, 0, 0, 1, 1, 1, 1], [0, 1, 0, 1, 1, 0, 0, 1, 0, 0, 0, 0, 1, 1, 1, 0, 1, 0, 0, 1], [0, 1, 1, 1, 0, 0, 0, 0, 0, 1, 0, 0, 0, 1, 1, 1, 1, 0, 1, 0], [1, 1, 0, 1, 0, 1, 0, 0, 0, 0, 1, 1, 0, 0, 1, 0, 0, 0, 1, 0], [1, 0, 1, 0, 0, 0, 0, 1, 1, 0, 0, 0, 1, 1, 0, 1, 0, 0, 1, 1], [1, 1, 1, 0, 0, 0, 0, 0, 0, 1, 0, 0, 1, 1, 0, 0, 0, 0, 0, 0], [0, 1, 0, 0, 1, 1, 0, 1, 0, 0, 0, 0, 0, 1, 0, 1, 1, 1, 1, 1]]"
   ]
  },
  {
   "cell_type": "code",
   "execution_count": 60,
   "metadata": {},
   "outputs": [
    {
     "data": {
      "text/plain": [
       "[[1, 0, 0, 1, 0, 0, 0, 0, 0, 0, 0, 0, 1, 1, 0, 0, 0, 0, 0, 0],\n",
       " [0, 0, 1, 0, 0, 0, 1, 0, 0, 1, 1, 0, 0, 0, 1, 1, 0, 0, 1, 0],\n",
       " [0, 1, 1, 1, 1, 0, 0, 0, 0, 1, 1, 1, 0, 1, 1, 0, 0, 0, 0, 0],\n",
       " [0, 0, 0, 1, 1, 1, 1, 1, 1, 0, 1, 0, 0, 0, 0, 0, 1, 0, 0, 1],\n",
       " [0, 1, 0, 0, 0, 0, 0, 0, 0, 0, 0, 1, 1, 0, 0, 0, 0, 0, 0, 1],\n",
       " [1, 0, 1, 0, 1, 1, 0, 1, 0, 1, 0, 0, 0, 0, 0, 1, 1, 0, 1, 1],\n",
       " [0, 0, 0, 0, 1, 0, 0, 0, 1, 1, 0, 0, 0, 1, 0, 1, 0, 1, 0, 0],\n",
       " [1, 1, 1, 0, 0, 0, 0, 1, 0, 0, 1, 1, 0, 1, 1, 0, 0, 1, 0, 0],\n",
       " [0, 0, 1, 0, 1, 0, 0, 0, 1, 1, 0, 0, 0, 0, 1, 0, 0, 0, 1, 1],\n",
       " [1, 1, 0, 1, 0, 1, 1, 0, 1, 1, 1, 1, 0, 0, 0, 0, 1, 0, 1, 0],\n",
       " [0, 0, 0, 0, 1, 0, 0, 0, 0, 1, 0, 0, 0, 0, 0, 0, 1, 1, 1, 1],\n",
       " [0, 1, 0, 1, 1, 0, 0, 1, 0, 0, 0, 0, 1, 1, 1, 0, 1, 0, 0, 1],\n",
       " [0, 1, 1, 1, 0, 0, 0, 0, 0, 1, 0, 0, 0, 1, 1, 1, 1, 0, 1, 0],\n",
       " [1, 1, 0, 1, 0, 1, 0, 0, 0, 0, 1, 1, 0, 0, 1, 0, 0, 0, 1, 0],\n",
       " [1, 0, 1, 0, 0, 0, 0, 1, 1, 0, 0, 0, 1, 1, 0, 1, 0, 0, 1, 1],\n",
       " [1, 1, 1, 0, 0, 0, 0, 0, 0, 1, 0, 0, 1, 1, 0, 0, 0, 0, 0, 0],\n",
       " [0, 1, 0, 0, 1, 1, 0, 1, 0, 0, 0, 0, 0, 1, 0, 1, 1, 1, 1, 1]]"
      ]
     },
     "execution_count": 60,
     "metadata": {},
     "output_type": "execute_result"
    }
   ],
   "source": [
    "l"
   ]
  },
  {
   "cell_type": "code",
   "execution_count": 61,
   "metadata": {},
   "outputs": [
    {
     "name": "stdout",
     "output_type": "stream",
     "text": [
      "1 5\n",
      "12 5\n"
     ]
    }
   ],
   "source": [
    "for i in range(len(l)):\n",
    "    for j in range(len(l)):\n",
    "        if(l[i][j] != k[i][j]):\n",
    "            print(i,j)"
   ]
  },
  {
   "cell_type": "code",
   "execution_count": 66,
   "metadata": {},
   "outputs": [],
   "source": [
    "s=[[71, 66, 29, 40, 63, 5, 96, 85, 18, 79, 64, 36, 57, 59, 94, 68, 5, 91, 74, 95], [15, 73, 40, 29, 26, 82, 99, 56, 88, 80, 39, 45, 48, 84, 80, 64, 76, 94, 85, 21], [77, 79, 32, 90, 88, 7, 3, 50, 55, 40, 72, 33, 52, 78, 26, 60, 78, 98, 47, 32], [90, 14, 91, 66, 56, 56, 1, 41, 77, 19, 60, 99, 15, 61, 44, 51, 65, 67, 45, 55], [84, 59, 20, 66, 16, 11, 8, 25, 18, 45, 54, 60, 16, 20, 41, 54, 90, 61, 11, 23], [23, 94, 36, 39, 2, 89, 22, 82, 5, 3, 57, 62, 22, 47, 21, 66, 91, 35, 27, 25], [35, 41, 62, 4, 85, 7, 57, 92, 93, 85, 12, 31, 19, 55, 34, 96, 71, 44, 59, 32], [58, 83, 98, 18, 96, 63, 23, 85, 80, 63, 86, 41, 92, 67, 69, 11, 69, 75, 49, 97], [35, 31, 52, 34, 69, 49, 42, 3, 98, 70, 77, 58, 92, 78, 37, 23, 33, 26, 45, 10], [53, 11, 56, 30, 16, 1, 62, 89, 74, 6, 48, 96, 54, 2, 33, 44, 20, 6, 94, 96], [27, 39, 71, 29, 64, 72, 36, 11, 44, 74, 47, 39, 44, 44, 42, 19, 87, 42, 39, 67], [62, 74, 56, 64, 98, 16, 93, 41, 73, 34, 37, 20, 94, 90, 96, 39, 14, 19, 57, 80], [60, 32, 46, 98, 60, 20, 43, 1, 59, 35, 22, 75, 97, 36, 28, 18, 60, 88, 92, 6], [19, 24, 70, 70, 96, 53, 66, 72, 89, 30, 64, 74, 28, 54, 53, 8, 38, 46, 85, 43], [61, 21, 59, 78, 77, 70, 50, 32, 36, 4, 23, 79, 29, 80, 76, 76, 69, 4, 66, 17], [96, 35, 61, 54, 86, 89, 64, 11, 13, 46, 74, 42, 34, 81, 1, 72, 18, 44, 62, 58], [43, 13, 74, 26, 53, 52, 57, 3, 35, 41, 1, 11, 63, 62, 73, 74, 54, 24, 29, 90], [52, 88, 17, 67, 24, 57, 58, 51, 35, 58, 56, 84, 30, 2, 35, 5, 87, 95, 19, 70], [39, 80, 68, 70, 38, 11, 66, 76, 71, 99, 90, 28, 46, 39, 1, 3, 25, 3, 30, 54], [11, 67, 72, 61, 86, 89, 19, 38, 93, 62, 81, 84, 91, 33, 86, 84, 2, 95, 52, 93]]"
   ]
  },
  {
   "cell_type": "code",
   "execution_count": 67,
   "metadata": {},
   "outputs": [],
   "source": [
    "c=[[47, 26, 55, 56, 49, 35, 98, 10, 17, 3, 30, 91, 13, 81, 20, 62, 10, 28, 45, 74], [71, 69, 29, 53, 98, 78, 7, 100, 53, 80, 12, 13, 85, 82, 46, 26, 100, 63, 74, 46], [67, 2, 98, 22, 19, 47, 70, 99, 78, 13, 15, 82, 59, 83, 23, 29, 88, 87, 17, 58], [61, 100, 94, 69, 24, 55, 91, 57, 91, 99, 16, 33, 72, 30, 85, 26, 90, 64, 76, 18], [56, 62, 4, 24, 50, 24, 34, 81, 24, 58, 97, 37, 48, 46, 18, 46, 99, 83, 97, 46], [33, 81, 5, 86, 30, 28, 67, 46, 15, 45, 82, 1, 78, 53, 79, 30, 92, 43, 52, 79], [53, 12, 4, 71, 22, 44, 75, 93, 88, 30, 6, 13, 67, 52, 54, 24, 85, 94, 93, 4], [56, 7, 20, 71, 90, 14, 98, 78, 68, 17, 59, 67, 41, 72, 96, 72, 9, 25, 21, 93], [4, 90, 86, 52, 96, 90, 47, 52, 94, 5, 87, 11, 14, 34, 68, 60, 15, 78, 22, 14], [100, 80, 4, 54, 85, 81, 8, 76, 19, 16, 47, 98, 26, 7, 70, 85, 71, 53, 83, 42], [38, 31, 21, 69, 73, 62, 46, 85, 7, 12, 3, 5, 47, 45, 31, 31, 31, 3, 53, 62], [74, 6, 22, 91, 8, 33, 98, 85, 57, 93, 26, 83, 9, 38, 23, 74, 17, 73, 16, 82], [28, 81, 74, 82, 10, 83, 97, 24, 81, 71, 61, 53, 35, 71, 3, 54, 94, 65, 66, 5], [51, 63, 97, 60, 11, 26, 58, 95, 31, 39, 90, 30, 20, 60, 54, 97, 63, 68, 34, 51], [1, 6, 76, 96, 2, 93, 73, 83, 99, 42, 57, 24, 95, 52, 83, 38, 54, 75, 3, 67], [53, 58, 83, 66, 73, 56, 29, 40, 98, 28, 15, 88, 52, 49, 5, 79, 37, 94, 99, 1], [11, 7, 40, 50, 58, 13, 9, 28, 36, 36, 57, 60, 64, 62, 82, 45, 64, 12, 4, 22], [40, 54, 18, 26, 24, 82, 46, 33, 65, 90, 60, 75, 79, 40, 97, 66, 69, 16, 54, 77], [27, 74, 40, 60, 27, 59, 23, 1, 67, 64, 28, 45, 69, 73, 20, 49, 28, 86, 72, 99], [20, 66, 97, 54, 10, 64, 16, 40, 74, 76, 84, 15, 61, 85, 78, 96, 96, 70, 97, 58]]"
   ]
  },
  {
   "cell_type": "code",
   "execution_count": 70,
   "metadata": {},
   "outputs": [],
   "source": [
    "def common_elements(list1, list2):\n",
    "    return [element for element in list1 if element in list2]\n"
   ]
  },
  {
   "cell_type": "code",
   "execution_count": 72,
   "metadata": {},
   "outputs": [
    {
     "data": {
      "text/plain": [
       "[]"
      ]
     },
     "execution_count": 72,
     "metadata": {},
     "output_type": "execute_result"
    }
   ],
   "source": [
    "common_elements(c,s)"
   ]
  },
  {
   "cell_type": "code",
   "execution_count": null,
   "metadata": {},
   "outputs": [],
   "source": []
  },
  {
   "cell_type": "code",
   "execution_count": null,
   "metadata": {},
   "outputs": [],
   "source": []
  },
  {
   "cell_type": "code",
   "execution_count": null,
   "metadata": {},
   "outputs": [],
   "source": []
  }
 ],
 "metadata": {
  "kernelspec": {
   "display_name": "Python 3",
   "language": "python",
   "name": "python3"
  },
  "language_info": {
   "codemirror_mode": {
    "name": "ipython",
    "version": 3
   },
   "file_extension": ".py",
   "mimetype": "text/x-python",
   "name": "python",
   "nbconvert_exporter": "python",
   "pygments_lexer": "ipython3",
   "version": "3.6.4"
  }
 },
 "nbformat": 4,
 "nbformat_minor": 2
}

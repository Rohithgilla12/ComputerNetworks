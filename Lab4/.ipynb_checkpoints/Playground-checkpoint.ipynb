{
 "cells": [
  {
   "cell_type": "code",
   "execution_count": 1,
   "metadata": {},
   "outputs": [],
   "source": [
    "import re\n",
    "import random"
   ]
  },
  {
   "cell_type": "code",
   "execution_count": 2,
   "metadata": {},
   "outputs": [],
   "source": [
    "def getCompileModel(tag):\n",
    "    return re.compile(\"<{}>(\\d+)</{}>\".format(tag,tag), re.IGNORECASE)"
   ]
  },
  {
   "cell_type": "code",
   "execution_count": 3,
   "metadata": {},
   "outputs": [],
   "source": [
    "arrSize=getCompileModel('Size')\n",
    "parity=getCompileModel('Parity')\n",
    "rowPattern = r\"<Row>(.*)</Row>\"\n",
    "numModel = getCompileModel('Number')\n",
    "totSize = getCompileModel('totSize')\n",
    "block = getCompileModel('block')"
   ]
  },
  {
   "cell_type": "code",
   "execution_count": 4,
   "metadata": {},
   "outputs": [
    {
     "data": {
      "text/plain": [
       "['45', '453']"
      ]
     },
     "execution_count": 4,
     "metadata": {},
     "output_type": "execute_result"
    }
   ],
   "source": [
    "re.findall(arrSize,\"<Size>45</Size><Size>453</Size>\")"
   ]
  },
  {
   "cell_type": "code",
   "execution_count": 5,
   "metadata": {},
   "outputs": [],
   "source": [
    "Mat = [[1,2],[3,4]]"
   ]
  },
  {
   "cell_type": "code",
   "execution_count": 6,
   "metadata": {},
   "outputs": [],
   "source": [
    "def encapsulateData(Mat):\n",
    "    totalString ='<Matrix>'\n",
    "    for row in Mat:\n",
    "        rowstring = '<Row>'\n",
    "        for number in row:\n",
    "            rowstring +=\"<Number>\"+str(number)+\"</Number>\" \n",
    "        rowstring +=\"</Row> \\n\"\n",
    "        totalString+=rowstring\n",
    "    return totalString+\"</Matrix>\""
   ]
  },
  {
   "cell_type": "code",
   "execution_count": 7,
   "metadata": {},
   "outputs": [],
   "source": [
    "totalString= encapsulateData(Mat)"
   ]
  },
  {
   "cell_type": "code",
   "execution_count": 8,
   "metadata": {},
   "outputs": [],
   "source": [
    "rows=re.findall(r\"<Row>(.*)</Row>\",totalString)"
   ]
  },
  {
   "cell_type": "code",
   "execution_count": 9,
   "metadata": {},
   "outputs": [
    {
     "name": "stdout",
     "output_type": "stream",
     "text": [
      "['1', '2']\n",
      "['3', '4']\n"
     ]
    }
   ],
   "source": [
    "for row in rows:\n",
    "    print(numModel.findall(row))"
   ]
  },
  {
   "cell_type": "code",
   "execution_count": 10,
   "metadata": {},
   "outputs": [],
   "source": [
    "def getRandomMatrix(size):\n",
    "    mat=[]\n",
    "    for i in range(size):\n",
    "        row=[]\n",
    "        for j in range(size):\n",
    "            row.append(random.randint(1,10))\n",
    "        mat.append(row)\n",
    "    return mat"
   ]
  },
  {
   "cell_type": "code",
   "execution_count": 11,
   "metadata": {},
   "outputs": [],
   "source": [
    "Mat=getRandomMatrix(20)"
   ]
  },
  {
   "cell_type": "code",
   "execution_count": 12,
   "metadata": {},
   "outputs": [
    {
     "data": {
      "text/plain": [
       "[[8, 3, 5, 4, 8, 1, 5, 8, 6, 9, 7, 3, 2, 10, 5, 4, 8, 3, 8, 10],\n",
       " [8, 8, 5, 10, 4, 9, 10, 9, 3, 6, 2, 3, 2, 4, 10, 5, 6, 4, 2, 6],\n",
       " [9, 7, 2, 2, 7, 6, 8, 7, 10, 3, 8, 9, 9, 5, 9, 10, 6, 5, 3, 1],\n",
       " [5, 10, 7, 6, 2, 10, 10, 1, 6, 1, 5, 1, 8, 3, 3, 1, 6, 6, 10, 2],\n",
       " [2, 2, 3, 6, 1, 6, 10, 1, 8, 9, 10, 6, 1, 5, 8, 10, 9, 4, 5, 4],\n",
       " [8, 1, 8, 3, 5, 9, 5, 6, 1, 8, 2, 5, 1, 10, 9, 10, 10, 3, 8, 6],\n",
       " [1, 8, 10, 2, 2, 9, 6, 4, 6, 5, 4, 3, 7, 5, 7, 1, 2, 3, 10, 6],\n",
       " [2, 9, 8, 7, 2, 6, 9, 9, 10, 2, 7, 2, 1, 7, 7, 1, 8, 9, 4, 6],\n",
       " [3, 4, 5, 4, 10, 6, 4, 9, 4, 2, 5, 3, 4, 10, 9, 7, 5, 4, 9, 9],\n",
       " [4, 6, 9, 5, 4, 4, 6, 3, 1, 2, 4, 8, 8, 8, 8, 9, 6, 2, 10, 8],\n",
       " [10, 8, 3, 6, 8, 1, 9, 10, 1, 9, 4, 7, 2, 8, 3, 4, 3, 1, 8, 6],\n",
       " [3, 3, 2, 3, 8, 3, 9, 6, 9, 4, 2, 6, 10, 10, 8, 3, 10, 3, 5, 3],\n",
       " [10, 4, 6, 3, 3, 10, 4, 3, 1, 5, 7, 4, 6, 4, 8, 1, 7, 2, 7, 1],\n",
       " [4, 10, 4, 2, 2, 8, 5, 5, 3, 4, 3, 7, 6, 5, 7, 7, 10, 3, 6, 7],\n",
       " [3, 10, 5, 6, 10, 4, 5, 10, 8, 3, 4, 7, 2, 10, 1, 7, 8, 8, 10, 8],\n",
       " [10, 7, 4, 6, 2, 7, 5, 7, 5, 4, 8, 8, 10, 6, 1, 2, 9, 3, 8, 2],\n",
       " [3, 4, 3, 4, 8, 1, 5, 7, 6, 2, 10, 10, 2, 9, 4, 1, 5, 4, 6, 7],\n",
       " [3, 8, 9, 5, 9, 8, 7, 8, 7, 7, 4, 7, 2, 3, 9, 2, 9, 9, 3, 1],\n",
       " [5, 7, 1, 4, 1, 4, 10, 5, 5, 6, 6, 3, 5, 9, 1, 7, 8, 5, 9, 7],\n",
       " [5, 1, 9, 7, 7, 8, 7, 3, 8, 4, 9, 5, 8, 9, 5, 2, 7, 3, 5, 6]]"
      ]
     },
     "execution_count": 12,
     "metadata": {},
     "output_type": "execute_result"
    }
   ],
   "source": [
    "Mat"
   ]
  },
  {
   "cell_type": "code",
   "execution_count": 13,
   "metadata": {},
   "outputs": [],
   "source": [
    "requiredString = encapsulateData(Mat)"
   ]
  },
  {
   "cell_type": "code",
   "execution_count": 14,
   "metadata": {},
   "outputs": [
    {
     "data": {
      "text/plain": [
       "7519"
      ]
     },
     "execution_count": 14,
     "metadata": {},
     "output_type": "execute_result"
    }
   ],
   "source": [
    "len(requiredString)"
   ]
  },
  {
   "cell_type": "code",
   "execution_count": 15,
   "metadata": {},
   "outputs": [],
   "source": [
    "totalChunks = len(requiredString)//1000\n",
    "if len(requiredString)%1000 !=0:\n",
    "    residualChunk = 1\n",
    "else:\n",
    "    residualChunk = 0"
   ]
  },
  {
   "cell_type": "code",
   "execution_count": 16,
   "metadata": {},
   "outputs": [
    {
     "data": {
      "text/plain": [
       "7"
      ]
     },
     "execution_count": 16,
     "metadata": {},
     "output_type": "execute_result"
    }
   ],
   "source": [
    "totalChunks"
   ]
  },
  {
   "cell_type": "code",
   "execution_count": 17,
   "metadata": {},
   "outputs": [
    {
     "data": {
      "text/plain": [
       "1"
      ]
     },
     "execution_count": 17,
     "metadata": {},
     "output_type": "execute_result"
    }
   ],
   "source": [
    "residualChunk"
   ]
  },
  {
   "cell_type": "code",
   "execution_count": 18,
   "metadata": {},
   "outputs": [
    {
     "data": {
      "text/plain": [
       "'<Number>5</Number><Number>6</Number><Number>1</Number><Number>8</Number><Number>2</Number><Number>5</Number><Number>1</Number><Number>10</Number><Number>9</Number><Number>10</Number><Number>10</Number><Number>3</Number><Number>8</Number><Number>6</Number></Row> \\n<Row><Number>1</Number><Number>8</Number><Number>10</Number><Number>2</Number><Number>2</Number><Number>9</Number><Number>6</Number><Number>4</Number><Number>6</Number><Number>5</Number><Number>4</Number><Number>3</Number><Number>7</Number><Number>5</Number><Number>7</Number><Number>1</Number><Number>2</Number><Number>3</Number><Number>10</Number><Number>6</Number></Row> \\n<Row><Number>2</Number><Number>9</Number><Number>8</Number><Number>7</Number><Number>2</Number><Number>6</Number><Number>9</Number><Number>9</Number><Number>10</Number><Number>2</Number><Number>7</Number><Number>2</Number><Number>1</Number><Number>7</Number><Number>7</Number><Number>1</Number><Number>8</Number><Number>9</Number><Number>4</Number><Number>6</Num'"
      ]
     },
     "execution_count": 18,
     "metadata": {},
     "output_type": "execute_result"
    }
   ],
   "source": [
    "requiredString[2000:3000]"
   ]
  },
  {
   "cell_type": "code",
   "execution_count": 19,
   "metadata": {},
   "outputs": [],
   "source": [
    "chunks=[]\n",
    "for chunkNumber in range(totalChunks):\n",
    "    chunks.append(\"<block>{}</block>\".format(chunkNumber)+requiredString[chunkNumber*1000 :(chunkNumber+1)*1000])"
   ]
  },
  {
   "cell_type": "code",
   "execution_count": 20,
   "metadata": {},
   "outputs": [],
   "source": [
    "chunks.append(\"<block>{}</block>\".format(totalChunks)+requiredString[totalChunks*1000:])"
   ]
  },
  {
   "cell_type": "code",
   "execution_count": 21,
   "metadata": {},
   "outputs": [],
   "source": [
    "chunks.insert(0,\"<totSize>{}</totSize>\".format(totalChunks+1))"
   ]
  },
  {
   "cell_type": "code",
   "execution_count": 22,
   "metadata": {},
   "outputs": [
    {
     "data": {
      "text/plain": [
       "9"
      ]
     },
     "execution_count": 22,
     "metadata": {},
     "output_type": "execute_result"
    }
   ],
   "source": [
    "len(chunks)"
   ]
  },
  {
   "cell_type": "code",
   "execution_count": 23,
   "metadata": {
    "scrolled": true
   },
   "outputs": [
    {
     "data": {
      "text/plain": [
       "['<totSize>8</totSize>',\n",
       " '<block>0</block><Matrix><Row><Number>8</Number><Number>3</Number><Number>5</Number><Number>4</Number><Number>8</Number><Number>1</Number><Number>5</Number><Number>8</Number><Number>6</Number><Number>9</Number><Number>7</Number><Number>3</Number><Number>2</Number><Number>10</Number><Number>5</Number><Number>4</Number><Number>8</Number><Number>3</Number><Number>8</Number><Number>10</Number></Row> \\n<Row><Number>8</Number><Number>8</Number><Number>5</Number><Number>10</Number><Number>4</Number><Number>9</Number><Number>10</Number><Number>9</Number><Number>3</Number><Number>6</Number><Number>2</Number><Number>3</Number><Number>2</Number><Number>4</Number><Number>10</Number><Number>5</Number><Number>6</Number><Number>4</Number><Number>2</Number><Number>6</Number></Row> \\n<Row><Number>9</Number><Number>7</Number><Number>2</Number><Number>2</Number><Number>7</Number><Number>6</Number><Number>8</Number><Number>7</Number><Number>10</Number><Number>3</Number><Number>8</Number><Number>9</Number><Number>9</Number><',\n",
       " '<block>1</block>Number>5</Number><Number>9</Number><Number>10</Number><Number>6</Number><Number>5</Number><Number>3</Number><Number>1</Number></Row> \\n<Row><Number>5</Number><Number>10</Number><Number>7</Number><Number>6</Number><Number>2</Number><Number>10</Number><Number>10</Number><Number>1</Number><Number>6</Number><Number>1</Number><Number>5</Number><Number>1</Number><Number>8</Number><Number>3</Number><Number>3</Number><Number>1</Number><Number>6</Number><Number>6</Number><Number>10</Number><Number>2</Number></Row> \\n<Row><Number>2</Number><Number>2</Number><Number>3</Number><Number>6</Number><Number>1</Number><Number>6</Number><Number>10</Number><Number>1</Number><Number>8</Number><Number>9</Number><Number>10</Number><Number>6</Number><Number>1</Number><Number>5</Number><Number>8</Number><Number>10</Number><Number>9</Number><Number>4</Number><Number>5</Number><Number>4</Number></Row> \\n<Row><Number>8</Number><Number>1</Number><Number>8</Number><Number>3</Number><Number>5</Number><Number>9</Number>',\n",
       " '<block>2</block><Number>5</Number><Number>6</Number><Number>1</Number><Number>8</Number><Number>2</Number><Number>5</Number><Number>1</Number><Number>10</Number><Number>9</Number><Number>10</Number><Number>10</Number><Number>3</Number><Number>8</Number><Number>6</Number></Row> \\n<Row><Number>1</Number><Number>8</Number><Number>10</Number><Number>2</Number><Number>2</Number><Number>9</Number><Number>6</Number><Number>4</Number><Number>6</Number><Number>5</Number><Number>4</Number><Number>3</Number><Number>7</Number><Number>5</Number><Number>7</Number><Number>1</Number><Number>2</Number><Number>3</Number><Number>10</Number><Number>6</Number></Row> \\n<Row><Number>2</Number><Number>9</Number><Number>8</Number><Number>7</Number><Number>2</Number><Number>6</Number><Number>9</Number><Number>9</Number><Number>10</Number><Number>2</Number><Number>7</Number><Number>2</Number><Number>1</Number><Number>7</Number><Number>7</Number><Number>1</Number><Number>8</Number><Number>9</Number><Number>4</Number><Number>6</Num',\n",
       " '<block>3</block>ber></Row> \\n<Row><Number>3</Number><Number>4</Number><Number>5</Number><Number>4</Number><Number>10</Number><Number>6</Number><Number>4</Number><Number>9</Number><Number>4</Number><Number>2</Number><Number>5</Number><Number>3</Number><Number>4</Number><Number>10</Number><Number>9</Number><Number>7</Number><Number>5</Number><Number>4</Number><Number>9</Number><Number>9</Number></Row> \\n<Row><Number>4</Number><Number>6</Number><Number>9</Number><Number>5</Number><Number>4</Number><Number>4</Number><Number>6</Number><Number>3</Number><Number>1</Number><Number>2</Number><Number>4</Number><Number>8</Number><Number>8</Number><Number>8</Number><Number>8</Number><Number>9</Number><Number>6</Number><Number>2</Number><Number>10</Number><Number>8</Number></Row> \\n<Row><Number>10</Number><Number>8</Number><Number>3</Number><Number>6</Number><Number>8</Number><Number>1</Number><Number>9</Number><Number>10</Number><Number>1</Number><Number>9</Number><Number>4</Number><Number>7</Number><Number>2</Numbe',\n",
       " '<block>4</block>r><Number>8</Number><Number>3</Number><Number>4</Number><Number>3</Number><Number>1</Number><Number>8</Number><Number>6</Number></Row> \\n<Row><Number>3</Number><Number>3</Number><Number>2</Number><Number>3</Number><Number>8</Number><Number>3</Number><Number>9</Number><Number>6</Number><Number>9</Number><Number>4</Number><Number>2</Number><Number>6</Number><Number>10</Number><Number>10</Number><Number>8</Number><Number>3</Number><Number>10</Number><Number>3</Number><Number>5</Number><Number>3</Number></Row> \\n<Row><Number>10</Number><Number>4</Number><Number>6</Number><Number>3</Number><Number>3</Number><Number>10</Number><Number>4</Number><Number>3</Number><Number>1</Number><Number>5</Number><Number>7</Number><Number>4</Number><Number>6</Number><Number>4</Number><Number>8</Number><Number>1</Number><Number>7</Number><Number>2</Number><Number>7</Number><Number>1</Number></Row> \\n<Row><Number>4</Number><Number>10</Number><Number>4</Number><Number>2</Number><Number>2</Number><Number>8</Number',\n",
       " '<block>5</block>><Number>5</Number><Number>5</Number><Number>3</Number><Number>4</Number><Number>3</Number><Number>7</Number><Number>6</Number><Number>5</Number><Number>7</Number><Number>7</Number><Number>10</Number><Number>3</Number><Number>6</Number><Number>7</Number></Row> \\n<Row><Number>3</Number><Number>10</Number><Number>5</Number><Number>6</Number><Number>10</Number><Number>4</Number><Number>5</Number><Number>10</Number><Number>8</Number><Number>3</Number><Number>4</Number><Number>7</Number><Number>2</Number><Number>10</Number><Number>1</Number><Number>7</Number><Number>8</Number><Number>8</Number><Number>10</Number><Number>8</Number></Row> \\n<Row><Number>10</Number><Number>7</Number><Number>4</Number><Number>6</Number><Number>2</Number><Number>7</Number><Number>5</Number><Number>7</Number><Number>5</Number><Number>4</Number><Number>8</Number><Number>8</Number><Number>10</Number><Number>6</Number><Number>1</Number><Number>2</Number><Number>9</Number><Number>3</Number><Number>8</Number><Number>2</',\n",
       " '<block>6</block>Number></Row> \\n<Row><Number>3</Number><Number>4</Number><Number>3</Number><Number>4</Number><Number>8</Number><Number>1</Number><Number>5</Number><Number>7</Number><Number>6</Number><Number>2</Number><Number>10</Number><Number>10</Number><Number>2</Number><Number>9</Number><Number>4</Number><Number>1</Number><Number>5</Number><Number>4</Number><Number>6</Number><Number>7</Number></Row> \\n<Row><Number>3</Number><Number>8</Number><Number>9</Number><Number>5</Number><Number>9</Number><Number>8</Number><Number>7</Number><Number>8</Number><Number>7</Number><Number>7</Number><Number>4</Number><Number>7</Number><Number>2</Number><Number>3</Number><Number>9</Number><Number>2</Number><Number>9</Number><Number>9</Number><Number>3</Number><Number>1</Number></Row> \\n<Row><Number>5</Number><Number>7</Number><Number>1</Number><Number>4</Number><Number>1</Number><Number>4</Number><Number>10</Number><Number>5</Number><Number>5</Number><Number>6</Number><Number>6</Number><Number>3</Number><Number>5</Numb',\n",
       " '<block>7</block>er><Number>9</Number><Number>1</Number><Number>7</Number><Number>8</Number><Number>5</Number><Number>9</Number><Number>7</Number></Row> \\n<Row><Number>5</Number><Number>1</Number><Number>9</Number><Number>7</Number><Number>7</Number><Number>8</Number><Number>7</Number><Number>3</Number><Number>8</Number><Number>4</Number><Number>9</Number><Number>5</Number><Number>8</Number><Number>9</Number><Number>5</Number><Number>2</Number><Number>7</Number><Number>3</Number><Number>5</Number><Number>6</Number></Row> \\n</Matrix>']"
      ]
     },
     "execution_count": 23,
     "metadata": {},
     "output_type": "execute_result"
    }
   ],
   "source": [
    "chunks"
   ]
  },
  {
   "cell_type": "code",
   "execution_count": 24,
   "metadata": {},
   "outputs": [],
   "source": [
    "getIterSize = int(totSize.findall(chunks[0])[0])"
   ]
  },
  {
   "cell_type": "code",
   "execution_count": 26,
   "metadata": {},
   "outputs": [],
   "source": [
    "dic={}"
   ]
  },
  {
   "cell_type": "code",
   "execution_count": 27,
   "metadata": {},
   "outputs": [],
   "source": [
    "for i in range(1,getIterSize+1):\n",
    "    key = int(block.findall(chunks[i])[0])\n",
    "    value = chunks[i][block.search(chunks[i]).span()[-1]:]\n",
    "    dic.update({key:value})"
   ]
  },
  {
   "cell_type": "code",
   "execution_count": 257,
   "metadata": {},
   "outputs": [
    {
     "data": {
      "text/plain": [
       "{0: '<Matrix><Row><Number>3</Number><Number>10</Number><Number>1</Number><Number>10</Number><Number>6</Number><Number>10</Number><Number>4</Number><Number>9</Number><Number>8</Number><Number>1</Number><Number>6</Number><Number>6</Number><Number>3</Number><Number>7</Number><Number>1</Number><Number>2</Number><Number>4</Number><Number>6</Number><Number>9</Number><Number>4</Number></Row> \\n<Row><Number>4</Number><Number>10</Number><Number>2</Number><Number>9</Number><Number>8</Number><Number>4</Number><Number>6</Number><Number>6</Number><Number>2</Number><Number>4</Number><Number>10</Number><Number>10</Number><Number>5</Number><Number>4</Number><Number>10</Number><Number>1</Number><Number>1</Number><Number>7</Number><Number>6</Number><Number>6</Number></Row> \\n<Row><Number>7</Number><Number>1</Number><Number>5</Number><Number>1</Number><Number>1</Number><Number>9</Number><Number>4</Number><Number>2</Number><Number>3</Number><Number>10</Number><Number>5</Number><Number>10</Number><Number>1</Numbe',\n",
       " 1: 'r><Number>3</Number><Number>3</Number><Number>6</Number><Number>5</Number><Number>10</Number><Number>3</Number><Number>9</Number></Row> \\n<Row><Number>4</Number><Number>8</Number><Number>5</Number><Number>2</Number><Number>3</Number><Number>9</Number><Number>4</Number><Number>1</Number><Number>5</Number><Number>2</Number><Number>10</Number><Number>1</Number><Number>8</Number><Number>8</Number><Number>10</Number><Number>1</Number><Number>10</Number><Number>7</Number><Number>1</Number><Number>2</Number></Row> \\n<Row><Number>3</Number><Number>1</Number><Number>6</Number><Number>10</Number><Number>3</Number><Number>10</Number><Number>6</Number><Number>6</Number><Number>1</Number><Number>6</Number><Number>5</Number><Number>9</Number><Number>3</Number><Number>5</Number><Number>5</Number><Number>7</Number><Number>6</Number><Number>1</Number><Number>9</Number><Number>6</Number></Row> \\n<Row><Number>10</Number><Number>4</Number><Number>6</Number><Number>6</Number><Number>10</Number><Number>4</Numb',\n",
       " 2: 'er><Number>2</Number><Number>7</Number><Number>5</Number><Number>10</Number><Number>4</Number><Number>7</Number><Number>8</Number><Number>4</Number><Number>8</Number><Number>9</Number><Number>6</Number><Number>1</Number><Number>3</Number><Number>1</Number></Row> \\n<Row><Number>4</Number><Number>5</Number><Number>10</Number><Number>1</Number><Number>8</Number><Number>5</Number><Number>6</Number><Number>9</Number><Number>10</Number><Number>6</Number><Number>2</Number><Number>6</Number><Number>4</Number><Number>1</Number><Number>2</Number><Number>4</Number><Number>10</Number><Number>10</Number><Number>3</Number><Number>3</Number></Row> \\n<Row><Number>9</Number><Number>5</Number><Number>7</Number><Number>3</Number><Number>1</Number><Number>9</Number><Number>10</Number><Number>9</Number><Number>8</Number><Number>1</Number><Number>8</Number><Number>3</Number><Number>6</Number><Number>7</Number><Number>6</Number><Number>6</Number><Number>7</Number><Number>5</Number><Number>8</Number><Number>6</',\n",
       " 3: 'Number></Row> \\n<Row><Number>10</Number><Number>7</Number><Number>8</Number><Number>8</Number><Number>3</Number><Number>2</Number><Number>4</Number><Number>1</Number><Number>9</Number><Number>6</Number><Number>5</Number><Number>1</Number><Number>10</Number><Number>4</Number><Number>6</Number><Number>8</Number><Number>9</Number><Number>7</Number><Number>4</Number><Number>9</Number></Row> \\n<Row><Number>6</Number><Number>4</Number><Number>5</Number><Number>2</Number><Number>6</Number><Number>10</Number><Number>9</Number><Number>1</Number><Number>1</Number><Number>7</Number><Number>2</Number><Number>7</Number><Number>10</Number><Number>2</Number><Number>3</Number><Number>8</Number><Number>7</Number><Number>5</Number><Number>7</Number><Number>8</Number></Row> \\n<Row><Number>8</Number><Number>7</Number><Number>10</Number><Number>4</Number><Number>6</Number><Number>3</Number><Number>10</Number><Number>7</Number><Number>6</Number><Number>6</Number><Number>1</Number><Number>3</Number><Number>4</N',\n",
       " 4: 'umber><Number>5</Number><Number>1</Number><Number>10</Number><Number>6</Number><Number>7</Number><Number>9</Number><Number>6</Number></Row> \\n<Row><Number>10</Number><Number>8</Number><Number>9</Number><Number>1</Number><Number>5</Number><Number>10</Number><Number>10</Number><Number>5</Number><Number>6</Number><Number>3</Number><Number>1</Number><Number>7</Number><Number>1</Number><Number>9</Number><Number>4</Number><Number>1</Number><Number>9</Number><Number>6</Number><Number>7</Number><Number>3</Number></Row> \\n<Row><Number>3</Number><Number>2</Number><Number>2</Number><Number>3</Number><Number>3</Number><Number>10</Number><Number>1</Number><Number>1</Number><Number>2</Number><Number>9</Number><Number>5</Number><Number>7</Number><Number>7</Number><Number>6</Number><Number>3</Number><Number>1</Number><Number>4</Number><Number>4</Number><Number>2</Number><Number>4</Number></Row> \\n<Row><Number>7</Number><Number>6</Number><Number>9</Number><Number>9</Number><Number>1</Number><Number>7</Num',\n",
       " 5: 'ber><Number>5</Number><Number>8</Number><Number>6</Number><Number>5</Number><Number>2</Number><Number>10</Number><Number>9</Number><Number>9</Number><Number>9</Number><Number>6</Number><Number>6</Number><Number>3</Number><Number>9</Number><Number>5</Number></Row> \\n<Row><Number>3</Number><Number>6</Number><Number>5</Number><Number>7</Number><Number>10</Number><Number>6</Number><Number>1</Number><Number>8</Number><Number>7</Number><Number>3</Number><Number>6</Number><Number>4</Number><Number>10</Number><Number>10</Number><Number>8</Number><Number>4</Number><Number>4</Number><Number>6</Number><Number>6</Number><Number>10</Number></Row> \\n<Row><Number>6</Number><Number>7</Number><Number>7</Number><Number>4</Number><Number>6</Number><Number>4</Number><Number>10</Number><Number>8</Number><Number>7</Number><Number>2</Number><Number>6</Number><Number>2</Number><Number>8</Number><Number>5</Number><Number>10</Number><Number>9</Number><Number>1</Number><Number>10</Number><Number>7</Number><Number>',\n",
       " 6: '1</Number></Row> \\n<Row><Number>7</Number><Number>9</Number><Number>1</Number><Number>7</Number><Number>4</Number><Number>6</Number><Number>1</Number><Number>4</Number><Number>6</Number><Number>1</Number><Number>8</Number><Number>6</Number><Number>4</Number><Number>6</Number><Number>3</Number><Number>9</Number><Number>4</Number><Number>1</Number><Number>4</Number><Number>3</Number></Row> \\n<Row><Number>4</Number><Number>5</Number><Number>7</Number><Number>6</Number><Number>9</Number><Number>10</Number><Number>3</Number><Number>9</Number><Number>4</Number><Number>9</Number><Number>10</Number><Number>10</Number><Number>8</Number><Number>5</Number><Number>1</Number><Number>2</Number><Number>10</Number><Number>4</Number><Number>10</Number><Number>5</Number></Row> \\n<Row><Number>1</Number><Number>4</Number><Number>3</Number><Number>10</Number><Number>10</Number><Number>5</Number><Number>6</Number><Number>3</Number><Number>9</Number><Number>7</Number><Number>5</Number><Number>9</Number><Number>',\n",
       " 7: '1</Number><Number>5</Number><Number>7</Number><Number>6</Number><Number>3</Number><Number>10</Number><Number>10</Number><Number>3</Number></Row> \\n<Row><Number>7</Number><Number>9</Number><Number>8</Number><Number>3</Number><Number>1</Number><Number>3</Number><Number>4</Number><Number>10</Number><Number>10</Number><Number>1</Number><Number>3</Number><Number>8</Number><Number>9</Number><Number>10</Number><Number>6</Number><Number>10</Number><Number>5</Number><Number>10</Number><Number>9</Number><Number>8</Number></Row> \\n</Matrix>',\n",
       " 'g': 'h'}"
      ]
     },
     "execution_count": 257,
     "metadata": {},
     "output_type": "execute_result"
    }
   ],
   "source": [
    "dic"
   ]
  },
  {
   "cell_type": "code",
   "execution_count": 258,
   "metadata": {},
   "outputs": [
    {
     "data": {
      "text/plain": [
       "'<block>7</block>1</Number><Number>5</Number><Number>7</Number><Number>6</Number><Number>3</Number><Number>10</Number><Number>10</Number><Number>3</Number></Row> \\n<Row><Number>7</Number><Number>9</Number><Number>8</Number><Number>3</Number><Number>1</Number><Number>3</Number><Number>4</Number><Number>10</Number><Number>10</Number><Number>1</Number><Number>3</Number><Number>8</Number><Number>9</Number><Number>10</Number><Number>6</Number><Number>10</Number><Number>5</Number><Number>10</Number><Number>9</Number><Number>8</Number></Row> \\n</Matrix>'"
      ]
     },
     "execution_count": 258,
     "metadata": {},
     "output_type": "execute_result"
    }
   ],
   "source": [
    "chunks[-1]"
   ]
  },
  {
   "cell_type": "code",
   "execution_count": 260,
   "metadata": {},
   "outputs": [
    {
     "data": {
      "text/plain": [
       "dict_values(['h', '<Matrix><Row><Number>3</Number><Number>10</Number><Number>1</Number><Number>10</Number><Number>6</Number><Number>10</Number><Number>4</Number><Number>9</Number><Number>8</Number><Number>1</Number><Number>6</Number><Number>6</Number><Number>3</Number><Number>7</Number><Number>1</Number><Number>2</Number><Number>4</Number><Number>6</Number><Number>9</Number><Number>4</Number></Row> \\n<Row><Number>4</Number><Number>10</Number><Number>2</Number><Number>9</Number><Number>8</Number><Number>4</Number><Number>6</Number><Number>6</Number><Number>2</Number><Number>4</Number><Number>10</Number><Number>10</Number><Number>5</Number><Number>4</Number><Number>10</Number><Number>1</Number><Number>1</Number><Number>7</Number><Number>6</Number><Number>6</Number></Row> \\n<Row><Number>7</Number><Number>1</Number><Number>5</Number><Number>1</Number><Number>1</Number><Number>9</Number><Number>4</Number><Number>2</Number><Number>3</Number><Number>10</Number><Number>5</Number><Number>10</Number><Number>1</Numbe', 'r><Number>3</Number><Number>3</Number><Number>6</Number><Number>5</Number><Number>10</Number><Number>3</Number><Number>9</Number></Row> \\n<Row><Number>4</Number><Number>8</Number><Number>5</Number><Number>2</Number><Number>3</Number><Number>9</Number><Number>4</Number><Number>1</Number><Number>5</Number><Number>2</Number><Number>10</Number><Number>1</Number><Number>8</Number><Number>8</Number><Number>10</Number><Number>1</Number><Number>10</Number><Number>7</Number><Number>1</Number><Number>2</Number></Row> \\n<Row><Number>3</Number><Number>1</Number><Number>6</Number><Number>10</Number><Number>3</Number><Number>10</Number><Number>6</Number><Number>6</Number><Number>1</Number><Number>6</Number><Number>5</Number><Number>9</Number><Number>3</Number><Number>5</Number><Number>5</Number><Number>7</Number><Number>6</Number><Number>1</Number><Number>9</Number><Number>6</Number></Row> \\n<Row><Number>10</Number><Number>4</Number><Number>6</Number><Number>6</Number><Number>10</Number><Number>4</Numb', 'er><Number>2</Number><Number>7</Number><Number>5</Number><Number>10</Number><Number>4</Number><Number>7</Number><Number>8</Number><Number>4</Number><Number>8</Number><Number>9</Number><Number>6</Number><Number>1</Number><Number>3</Number><Number>1</Number></Row> \\n<Row><Number>4</Number><Number>5</Number><Number>10</Number><Number>1</Number><Number>8</Number><Number>5</Number><Number>6</Number><Number>9</Number><Number>10</Number><Number>6</Number><Number>2</Number><Number>6</Number><Number>4</Number><Number>1</Number><Number>2</Number><Number>4</Number><Number>10</Number><Number>10</Number><Number>3</Number><Number>3</Number></Row> \\n<Row><Number>9</Number><Number>5</Number><Number>7</Number><Number>3</Number><Number>1</Number><Number>9</Number><Number>10</Number><Number>9</Number><Number>8</Number><Number>1</Number><Number>8</Number><Number>3</Number><Number>6</Number><Number>7</Number><Number>6</Number><Number>6</Number><Number>7</Number><Number>5</Number><Number>8</Number><Number>6</', 'Number></Row> \\n<Row><Number>10</Number><Number>7</Number><Number>8</Number><Number>8</Number><Number>3</Number><Number>2</Number><Number>4</Number><Number>1</Number><Number>9</Number><Number>6</Number><Number>5</Number><Number>1</Number><Number>10</Number><Number>4</Number><Number>6</Number><Number>8</Number><Number>9</Number><Number>7</Number><Number>4</Number><Number>9</Number></Row> \\n<Row><Number>6</Number><Number>4</Number><Number>5</Number><Number>2</Number><Number>6</Number><Number>10</Number><Number>9</Number><Number>1</Number><Number>1</Number><Number>7</Number><Number>2</Number><Number>7</Number><Number>10</Number><Number>2</Number><Number>3</Number><Number>8</Number><Number>7</Number><Number>5</Number><Number>7</Number><Number>8</Number></Row> \\n<Row><Number>8</Number><Number>7</Number><Number>10</Number><Number>4</Number><Number>6</Number><Number>3</Number><Number>10</Number><Number>7</Number><Number>6</Number><Number>6</Number><Number>1</Number><Number>3</Number><Number>4</N', 'umber><Number>5</Number><Number>1</Number><Number>10</Number><Number>6</Number><Number>7</Number><Number>9</Number><Number>6</Number></Row> \\n<Row><Number>10</Number><Number>8</Number><Number>9</Number><Number>1</Number><Number>5</Number><Number>10</Number><Number>10</Number><Number>5</Number><Number>6</Number><Number>3</Number><Number>1</Number><Number>7</Number><Number>1</Number><Number>9</Number><Number>4</Number><Number>1</Number><Number>9</Number><Number>6</Number><Number>7</Number><Number>3</Number></Row> \\n<Row><Number>3</Number><Number>2</Number><Number>2</Number><Number>3</Number><Number>3</Number><Number>10</Number><Number>1</Number><Number>1</Number><Number>2</Number><Number>9</Number><Number>5</Number><Number>7</Number><Number>7</Number><Number>6</Number><Number>3</Number><Number>1</Number><Number>4</Number><Number>4</Number><Number>2</Number><Number>4</Number></Row> \\n<Row><Number>7</Number><Number>6</Number><Number>9</Number><Number>9</Number><Number>1</Number><Number>7</Num', 'ber><Number>5</Number><Number>8</Number><Number>6</Number><Number>5</Number><Number>2</Number><Number>10</Number><Number>9</Number><Number>9</Number><Number>9</Number><Number>6</Number><Number>6</Number><Number>3</Number><Number>9</Number><Number>5</Number></Row> \\n<Row><Number>3</Number><Number>6</Number><Number>5</Number><Number>7</Number><Number>10</Number><Number>6</Number><Number>1</Number><Number>8</Number><Number>7</Number><Number>3</Number><Number>6</Number><Number>4</Number><Number>10</Number><Number>10</Number><Number>8</Number><Number>4</Number><Number>4</Number><Number>6</Number><Number>6</Number><Number>10</Number></Row> \\n<Row><Number>6</Number><Number>7</Number><Number>7</Number><Number>4</Number><Number>6</Number><Number>4</Number><Number>10</Number><Number>8</Number><Number>7</Number><Number>2</Number><Number>6</Number><Number>2</Number><Number>8</Number><Number>5</Number><Number>10</Number><Number>9</Number><Number>1</Number><Number>10</Number><Number>7</Number><Number>', '1</Number></Row> \\n<Row><Number>7</Number><Number>9</Number><Number>1</Number><Number>7</Number><Number>4</Number><Number>6</Number><Number>1</Number><Number>4</Number><Number>6</Number><Number>1</Number><Number>8</Number><Number>6</Number><Number>4</Number><Number>6</Number><Number>3</Number><Number>9</Number><Number>4</Number><Number>1</Number><Number>4</Number><Number>3</Number></Row> \\n<Row><Number>4</Number><Number>5</Number><Number>7</Number><Number>6</Number><Number>9</Number><Number>10</Number><Number>3</Number><Number>9</Number><Number>4</Number><Number>9</Number><Number>10</Number><Number>10</Number><Number>8</Number><Number>5</Number><Number>1</Number><Number>2</Number><Number>10</Number><Number>4</Number><Number>10</Number><Number>5</Number></Row> \\n<Row><Number>1</Number><Number>4</Number><Number>3</Number><Number>10</Number><Number>10</Number><Number>5</Number><Number>6</Number><Number>3</Number><Number>9</Number><Number>7</Number><Number>5</Number><Number>9</Number><Number>', '1</Number><Number>5</Number><Number>7</Number><Number>6</Number><Number>3</Number><Number>10</Number><Number>10</Number><Number>3</Number></Row> \\n<Row><Number>7</Number><Number>9</Number><Number>8</Number><Number>3</Number><Number>1</Number><Number>3</Number><Number>4</Number><Number>10</Number><Number>10</Number><Number>1</Number><Number>3</Number><Number>8</Number><Number>9</Number><Number>10</Number><Number>6</Number><Number>10</Number><Number>5</Number><Number>10</Number><Number>9</Number><Number>8</Number></Row> \\n</Matrix>'])"
      ]
     },
     "execution_count": 260,
     "metadata": {},
     "output_type": "execute_result"
    }
   ],
   "source": [
    "dic.values()"
   ]
  },
  {
   "cell_type": "code",
   "execution_count": 267,
   "metadata": {},
   "outputs": [],
   "source": [
    "retreivedString=''\n",
    "for chunk in dic.values():\n",
    "    retreivedString+=chunk"
   ]
  },
  {
   "cell_type": "code",
   "execution_count": 269,
   "metadata": {},
   "outputs": [
    {
     "data": {
      "text/plain": [
       "'h<Matrix><Row><Number>3</Number><Number>10</Number><Number>1</Number><Number>10</Number><Number>6</Number><Number>10</Number><Number>4</Number><Number>9</Number><Number>8</Number><Number>1</Number><Number>6</Number><Number>6</Number><Number>3</Number><Number>7</Number><Number>1</Number><Number>2</Number><Number>4</Number><Number>6</Number><Number>9</Number><Number>4</Number></Row> \\n<Row><Number>4</Number><Number>10</Number><Number>2</Number><Number>9</Number><Number>8</Number><Number>4</Number><Number>6</Number><Number>6</Number><Number>2</Number><Number>4</Number><Number>10</Number><Number>10</Number><Number>5</Number><Number>4</Number><Number>10</Number><Number>1</Number><Number>1</Number><Number>7</Number><Number>6</Number><Number>6</Number></Row> \\n<Row><Number>7</Number><Number>1</Number><Number>5</Number><Number>1</Number><Number>1</Number><Number>9</Number><Number>4</Number><Number>2</Number><Number>3</Number><Number>10</Number><Number>5</Number><Number>10</Number><Number>1</Number><Number>3</Number><Number>3</Number><Number>6</Number><Number>5</Number><Number>10</Number><Number>3</Number><Number>9</Number></Row> \\n<Row><Number>4</Number><Number>8</Number><Number>5</Number><Number>2</Number><Number>3</Number><Number>9</Number><Number>4</Number><Number>1</Number><Number>5</Number><Number>2</Number><Number>10</Number><Number>1</Number><Number>8</Number><Number>8</Number><Number>10</Number><Number>1</Number><Number>10</Number><Number>7</Number><Number>1</Number><Number>2</Number></Row> \\n<Row><Number>3</Number><Number>1</Number><Number>6</Number><Number>10</Number><Number>3</Number><Number>10</Number><Number>6</Number><Number>6</Number><Number>1</Number><Number>6</Number><Number>5</Number><Number>9</Number><Number>3</Number><Number>5</Number><Number>5</Number><Number>7</Number><Number>6</Number><Number>1</Number><Number>9</Number><Number>6</Number></Row> \\n<Row><Number>10</Number><Number>4</Number><Number>6</Number><Number>6</Number><Number>10</Number><Number>4</Number><Number>2</Number><Number>7</Number><Number>5</Number><Number>10</Number><Number>4</Number><Number>7</Number><Number>8</Number><Number>4</Number><Number>8</Number><Number>9</Number><Number>6</Number><Number>1</Number><Number>3</Number><Number>1</Number></Row> \\n<Row><Number>4</Number><Number>5</Number><Number>10</Number><Number>1</Number><Number>8</Number><Number>5</Number><Number>6</Number><Number>9</Number><Number>10</Number><Number>6</Number><Number>2</Number><Number>6</Number><Number>4</Number><Number>1</Number><Number>2</Number><Number>4</Number><Number>10</Number><Number>10</Number><Number>3</Number><Number>3</Number></Row> \\n<Row><Number>9</Number><Number>5</Number><Number>7</Number><Number>3</Number><Number>1</Number><Number>9</Number><Number>10</Number><Number>9</Number><Number>8</Number><Number>1</Number><Number>8</Number><Number>3</Number><Number>6</Number><Number>7</Number><Number>6</Number><Number>6</Number><Number>7</Number><Number>5</Number><Number>8</Number><Number>6</Number></Row> \\n<Row><Number>10</Number><Number>7</Number><Number>8</Number><Number>8</Number><Number>3</Number><Number>2</Number><Number>4</Number><Number>1</Number><Number>9</Number><Number>6</Number><Number>5</Number><Number>1</Number><Number>10</Number><Number>4</Number><Number>6</Number><Number>8</Number><Number>9</Number><Number>7</Number><Number>4</Number><Number>9</Number></Row> \\n<Row><Number>6</Number><Number>4</Number><Number>5</Number><Number>2</Number><Number>6</Number><Number>10</Number><Number>9</Number><Number>1</Number><Number>1</Number><Number>7</Number><Number>2</Number><Number>7</Number><Number>10</Number><Number>2</Number><Number>3</Number><Number>8</Number><Number>7</Number><Number>5</Number><Number>7</Number><Number>8</Number></Row> \\n<Row><Number>8</Number><Number>7</Number><Number>10</Number><Number>4</Number><Number>6</Number><Number>3</Number><Number>10</Number><Number>7</Number><Number>6</Number><Number>6</Number><Number>1</Number><Number>3</Number><Number>4</Number><Number>5</Number><Number>1</Number><Number>10</Number><Number>6</Number><Number>7</Number><Number>9</Number><Number>6</Number></Row> \\n<Row><Number>10</Number><Number>8</Number><Number>9</Number><Number>1</Number><Number>5</Number><Number>10</Number><Number>10</Number><Number>5</Number><Number>6</Number><Number>3</Number><Number>1</Number><Number>7</Number><Number>1</Number><Number>9</Number><Number>4</Number><Number>1</Number><Number>9</Number><Number>6</Number><Number>7</Number><Number>3</Number></Row> \\n<Row><Number>3</Number><Number>2</Number><Number>2</Number><Number>3</Number><Number>3</Number><Number>10</Number><Number>1</Number><Number>1</Number><Number>2</Number><Number>9</Number><Number>5</Number><Number>7</Number><Number>7</Number><Number>6</Number><Number>3</Number><Number>1</Number><Number>4</Number><Number>4</Number><Number>2</Number><Number>4</Number></Row> \\n<Row><Number>7</Number><Number>6</Number><Number>9</Number><Number>9</Number><Number>1</Number><Number>7</Number><Number>5</Number><Number>8</Number><Number>6</Number><Number>5</Number><Number>2</Number><Number>10</Number><Number>9</Number><Number>9</Number><Number>9</Number><Number>6</Number><Number>6</Number><Number>3</Number><Number>9</Number><Number>5</Number></Row> \\n<Row><Number>3</Number><Number>6</Number><Number>5</Number><Number>7</Number><Number>10</Number><Number>6</Number><Number>1</Number><Number>8</Number><Number>7</Number><Number>3</Number><Number>6</Number><Number>4</Number><Number>10</Number><Number>10</Number><Number>8</Number><Number>4</Number><Number>4</Number><Number>6</Number><Number>6</Number><Number>10</Number></Row> \\n<Row><Number>6</Number><Number>7</Number><Number>7</Number><Number>4</Number><Number>6</Number><Number>4</Number><Number>10</Number><Number>8</Number><Number>7</Number><Number>2</Number><Number>6</Number><Number>2</Number><Number>8</Number><Number>5</Number><Number>10</Number><Number>9</Number><Number>1</Number><Number>10</Number><Number>7</Number><Number>1</Number></Row> \\n<Row><Number>7</Number><Number>9</Number><Number>1</Number><Number>7</Number><Number>4</Number><Number>6</Number><Number>1</Number><Number>4</Number><Number>6</Number><Number>1</Number><Number>8</Number><Number>6</Number><Number>4</Number><Number>6</Number><Number>3</Number><Number>9</Number><Number>4</Number><Number>1</Number><Number>4</Number><Number>3</Number></Row> \\n<Row><Number>4</Number><Number>5</Number><Number>7</Number><Number>6</Number><Number>9</Number><Number>10</Number><Number>3</Number><Number>9</Number><Number>4</Number><Number>9</Number><Number>10</Number><Number>10</Number><Number>8</Number><Number>5</Number><Number>1</Number><Number>2</Number><Number>10</Number><Number>4</Number><Number>10</Number><Number>5</Number></Row> \\n<Row><Number>1</Number><Number>4</Number><Number>3</Number><Number>10</Number><Number>10</Number><Number>5</Number><Number>6</Number><Number>3</Number><Number>9</Number><Number>7</Number><Number>5</Number><Number>9</Number><Number>1</Number><Number>5</Number><Number>7</Number><Number>6</Number><Number>3</Number><Number>10</Number><Number>10</Number><Number>3</Number></Row> \\n<Row><Number>7</Number><Number>9</Number><Number>8</Number><Number>3</Number><Number>1</Number><Number>3</Number><Number>4</Number><Number>10</Number><Number>10</Number><Number>1</Number><Number>3</Number><Number>8</Number><Number>9</Number><Number>10</Number><Number>6</Number><Number>10</Number><Number>5</Number><Number>10</Number><Number>9</Number><Number>8</Number></Row> \\n</Matrix>'"
      ]
     },
     "execution_count": 269,
     "metadata": {},
     "output_type": "execute_result"
    }
   ],
   "source": [
    "retreivedString"
   ]
  },
  {
   "cell_type": "code",
   "execution_count": 275,
   "metadata": {},
   "outputs": [],
   "source": [
    "retRows=re.findall(rowPattern,retreivedString)\n",
    "retMatrix=[]"
   ]
  },
  {
   "cell_type": "code",
   "execution_count": 279,
   "metadata": {},
   "outputs": [],
   "source": [
    "for row in retRows:\n",
    "    tempRow=[]\n",
    "    for number in numModel.findall(row):\n",
    "        tempRow.append(int(number))\n",
    "    retMatrix.append(tempRow)"
   ]
  },
  {
   "cell_type": "code",
   "execution_count": 280,
   "metadata": {},
   "outputs": [
    {
     "data": {
      "text/plain": [
       "[[3, 10, 1, 10, 6, 10, 4, 9, 8, 1, 6, 6, 3, 7, 1, 2, 4, 6, 9, 4],\n",
       " [4, 10, 2, 9, 8, 4, 6, 6, 2, 4, 10, 10, 5, 4, 10, 1, 1, 7, 6, 6],\n",
       " [7, 1, 5, 1, 1, 9, 4, 2, 3, 10, 5, 10, 1, 3, 3, 6, 5, 10, 3, 9],\n",
       " [4, 8, 5, 2, 3, 9, 4, 1, 5, 2, 10, 1, 8, 8, 10, 1, 10, 7, 1, 2],\n",
       " [3, 1, 6, 10, 3, 10, 6, 6, 1, 6, 5, 9, 3, 5, 5, 7, 6, 1, 9, 6],\n",
       " [10, 4, 6, 6, 10, 4, 2, 7, 5, 10, 4, 7, 8, 4, 8, 9, 6, 1, 3, 1],\n",
       " [4, 5, 10, 1, 8, 5, 6, 9, 10, 6, 2, 6, 4, 1, 2, 4, 10, 10, 3, 3],\n",
       " [9, 5, 7, 3, 1, 9, 10, 9, 8, 1, 8, 3, 6, 7, 6, 6, 7, 5, 8, 6],\n",
       " [10, 7, 8, 8, 3, 2, 4, 1, 9, 6, 5, 1, 10, 4, 6, 8, 9, 7, 4, 9],\n",
       " [6, 4, 5, 2, 6, 10, 9, 1, 1, 7, 2, 7, 10, 2, 3, 8, 7, 5, 7, 8],\n",
       " [8, 7, 10, 4, 6, 3, 10, 7, 6, 6, 1, 3, 4, 5, 1, 10, 6, 7, 9, 6],\n",
       " [10, 8, 9, 1, 5, 10, 10, 5, 6, 3, 1, 7, 1, 9, 4, 1, 9, 6, 7, 3],\n",
       " [3, 2, 2, 3, 3, 10, 1, 1, 2, 9, 5, 7, 7, 6, 3, 1, 4, 4, 2, 4],\n",
       " [7, 6, 9, 9, 1, 7, 5, 8, 6, 5, 2, 10, 9, 9, 9, 6, 6, 3, 9, 5],\n",
       " [3, 6, 5, 7, 10, 6, 1, 8, 7, 3, 6, 4, 10, 10, 8, 4, 4, 6, 6, 10],\n",
       " [6, 7, 7, 4, 6, 4, 10, 8, 7, 2, 6, 2, 8, 5, 10, 9, 1, 10, 7, 1],\n",
       " [7, 9, 1, 7, 4, 6, 1, 4, 6, 1, 8, 6, 4, 6, 3, 9, 4, 1, 4, 3],\n",
       " [4, 5, 7, 6, 9, 10, 3, 9, 4, 9, 10, 10, 8, 5, 1, 2, 10, 4, 10, 5],\n",
       " [1, 4, 3, 10, 10, 5, 6, 3, 9, 7, 5, 9, 1, 5, 7, 6, 3, 10, 10, 3],\n",
       " [7, 9, 8, 3, 1, 3, 4, 10, 10, 1, 3, 8, 9, 10, 6, 10, 5, 10, 9, 8]]"
      ]
     },
     "execution_count": 280,
     "metadata": {},
     "output_type": "execute_result"
    }
   ],
   "source": [
    "Mat"
   ]
  },
  {
   "cell_type": "code",
   "execution_count": 281,
   "metadata": {},
   "outputs": [
    {
     "data": {
      "text/plain": [
       "[[3, 10, 1, 10, 6, 10, 4, 9, 8, 1, 6, 6, 3, 7, 1, 2, 4, 6, 9, 4],\n",
       " [4, 10, 2, 9, 8, 4, 6, 6, 2, 4, 10, 10, 5, 4, 10, 1, 1, 7, 6, 6],\n",
       " [7, 1, 5, 1, 1, 9, 4, 2, 3, 10, 5, 10, 1, 3, 3, 6, 5, 10, 3, 9],\n",
       " [4, 8, 5, 2, 3, 9, 4, 1, 5, 2, 10, 1, 8, 8, 10, 1, 10, 7, 1, 2],\n",
       " [3, 1, 6, 10, 3, 10, 6, 6, 1, 6, 5, 9, 3, 5, 5, 7, 6, 1, 9, 6],\n",
       " [10, 4, 6, 6, 10, 4, 2, 7, 5, 10, 4, 7, 8, 4, 8, 9, 6, 1, 3, 1],\n",
       " [4, 5, 10, 1, 8, 5, 6, 9, 10, 6, 2, 6, 4, 1, 2, 4, 10, 10, 3, 3],\n",
       " [9, 5, 7, 3, 1, 9, 10, 9, 8, 1, 8, 3, 6, 7, 6, 6, 7, 5, 8, 6],\n",
       " [10, 7, 8, 8, 3, 2, 4, 1, 9, 6, 5, 1, 10, 4, 6, 8, 9, 7, 4, 9],\n",
       " [6, 4, 5, 2, 6, 10, 9, 1, 1, 7, 2, 7, 10, 2, 3, 8, 7, 5, 7, 8],\n",
       " [8, 7, 10, 4, 6, 3, 10, 7, 6, 6, 1, 3, 4, 5, 1, 10, 6, 7, 9, 6],\n",
       " [10, 8, 9, 1, 5, 10, 10, 5, 6, 3, 1, 7, 1, 9, 4, 1, 9, 6, 7, 3],\n",
       " [3, 2, 2, 3, 3, 10, 1, 1, 2, 9, 5, 7, 7, 6, 3, 1, 4, 4, 2, 4],\n",
       " [7, 6, 9, 9, 1, 7, 5, 8, 6, 5, 2, 10, 9, 9, 9, 6, 6, 3, 9, 5],\n",
       " [3, 6, 5, 7, 10, 6, 1, 8, 7, 3, 6, 4, 10, 10, 8, 4, 4, 6, 6, 10],\n",
       " [6, 7, 7, 4, 6, 4, 10, 8, 7, 2, 6, 2, 8, 5, 10, 9, 1, 10, 7, 1],\n",
       " [7, 9, 1, 7, 4, 6, 1, 4, 6, 1, 8, 6, 4, 6, 3, 9, 4, 1, 4, 3],\n",
       " [4, 5, 7, 6, 9, 10, 3, 9, 4, 9, 10, 10, 8, 5, 1, 2, 10, 4, 10, 5],\n",
       " [1, 4, 3, 10, 10, 5, 6, 3, 9, 7, 5, 9, 1, 5, 7, 6, 3, 10, 10, 3],\n",
       " [7, 9, 8, 3, 1, 3, 4, 10, 10, 1, 3, 8, 9, 10, 6, 10, 5, 10, 9, 8]]"
      ]
     },
     "execution_count": 281,
     "metadata": {},
     "output_type": "execute_result"
    }
   ],
   "source": [
    "retMatrix"
   ]
  },
  {
   "cell_type": "code",
   "execution_count": 282,
   "metadata": {},
   "outputs": [
    {
     "data": {
      "text/plain": [
       "True"
      ]
     },
     "execution_count": 282,
     "metadata": {},
     "output_type": "execute_result"
    }
   ],
   "source": [
    "Mat == retMatrix"
   ]
  },
  {
   "cell_type": "code",
   "execution_count": 29,
   "metadata": {},
   "outputs": [],
   "source": [
    "k=[[10, 4, 6, 1, 1, 1, 1, 6, 4, 7, 9, 9, 3, 5, 2, 10, 1, 8, 1, 3], [1, 3, 10, 4, 2, 5, 8, 9, 6, 3, 8, 3, 9, 10, 4, 5, 8, 1, 8, 4], [5, 1, 2, 3, 3, 6, 3, 2, 3, 3, 8, 2, 2, 8, 10, 10, 8, 3, 5, 1], [9, 2, 5, 1, 4, 7, 3, 8, 10, 3, 4, 8, 9, 7, 9, 5, 7, 8, 1, 10], [8, 6, 7, 1, 8, 4, 7, 10, 7, 1, 9, 3, 7, 8, 10, 7, 9, 5, 7, 8], [7, 5, 4, 8, 5, 5, 2, 5, 3, 8, 6, 5, 8, 5, 9, 1, 10, 9, 5, 9], [1, 8, 1, 7, 1, 6, 5, 9, 10, 9, 5, 2, 9, 2, 1, 3, 10, 10, 2, 3], [2, 7, 9, 2, 7, 7, 4, 5, 8, 9, 3, 9, 4, 6, 2, 9, 9, 10, 9, 1], [1, 7, 5, 8, 5, 4, 3, 2, 8, 2, 1, 9, 6, 6, 7, 6, 4, 6, 2, 5], [10, 3, 10, 2, 5, 9, 6, 2, 8, 2, 3, 8, 8, 10, 5, 4, 3, 4, 9, 8], [3, 9, 5, 1, 8, 10, 9, 10, 1, 10, 4, 6, 6, 2, 6, 8, 3, 8, 2, 8], [9, 5, 8, 6, 7, 7, 5, 6, 2, 5, 5, 7, 5, 8, 6, 3, 8, 9, 6, 9], [7, 7, 2, 6, 1, 7, 6, 5, 1, 8, 9, 7, 3, 9, 5, 5, 6, 7, 3, 7], [2, 7, 10, 6, 8, 4, 7, 3, 3, 3, 3, 7, 1, 9, 3, 9, 9, 1, 7, 8], [9, 5, 8, 9, 6, 3, 4, 3, 2, 9, 9, 8, 6, 6, 3, 9, 2, 3, 4, 6], [6, 8, 6, 3, 5, 7, 6, 4, 10, 2, 10, 6, 3, 9, 5, 4, 5, 5, 10, 9], [8, 8, 7, 1, 1, 9, 8, 1, 1, 7, 4, 9, 4, 8, 2, 1, 4, 8, 5, 1], [7, 2, 10, 8, 4, 6, 10, 9, 1, 9, 4, 4, 2, 9, 2, 1, 1, 4, 5, 7], [8, 5, 2, 6, 9, 10, 4, 9, 8, 5, 2, 5, 8, 6, 9, 4, 10, 7, 4, 10], [7, 3, 2, 10, 9, 4, 7, 1, 5, 5, 9, 5, 10, 2, 9, 10, 7, 7, 3, 7]]"
   ]
  },
  {
   "cell_type": "code",
   "execution_count": 30,
   "metadata": {},
   "outputs": [
    {
     "data": {
      "text/plain": [
       "[[10, 4, 6, 1, 1, 1, 1, 6, 4, 7, 9, 9, 3, 5, 2, 10, 1, 8, 1, 3],\n",
       " [1, 3, 10, 4, 2, 5, 8, 9, 6, 3, 8, 3, 9, 10, 4, 5, 8, 1, 8, 4],\n",
       " [5, 1, 2, 3, 3, 6, 3, 2, 3, 3, 8, 2, 2, 8, 10, 10, 8, 3, 5, 1],\n",
       " [9, 2, 5, 1, 4, 7, 3, 8, 10, 3, 4, 8, 9, 7, 9, 5, 7, 8, 1, 10],\n",
       " [8, 6, 7, 1, 8, 4, 7, 10, 7, 1, 9, 3, 7, 8, 10, 7, 9, 5, 7, 8],\n",
       " [7, 5, 4, 8, 5, 5, 2, 5, 3, 8, 6, 5, 8, 5, 9, 1, 10, 9, 5, 9],\n",
       " [1, 8, 1, 7, 1, 6, 5, 9, 10, 9, 5, 2, 9, 2, 1, 3, 10, 10, 2, 3],\n",
       " [2, 7, 9, 2, 7, 7, 4, 5, 8, 9, 3, 9, 4, 6, 2, 9, 9, 10, 9, 1],\n",
       " [1, 7, 5, 8, 5, 4, 3, 2, 8, 2, 1, 9, 6, 6, 7, 6, 4, 6, 2, 5],\n",
       " [10, 3, 10, 2, 5, 9, 6, 2, 8, 2, 3, 8, 8, 10, 5, 4, 3, 4, 9, 8],\n",
       " [3, 9, 5, 1, 8, 10, 9, 10, 1, 10, 4, 6, 6, 2, 6, 8, 3, 8, 2, 8],\n",
       " [9, 5, 8, 6, 7, 7, 5, 6, 2, 5, 5, 7, 5, 8, 6, 3, 8, 9, 6, 9],\n",
       " [7, 7, 2, 6, 1, 7, 6, 5, 1, 8, 9, 7, 3, 9, 5, 5, 6, 7, 3, 7],\n",
       " [2, 7, 10, 6, 8, 4, 7, 3, 3, 3, 3, 7, 1, 9, 3, 9, 9, 1, 7, 8],\n",
       " [9, 5, 8, 9, 6, 3, 4, 3, 2, 9, 9, 8, 6, 6, 3, 9, 2, 3, 4, 6],\n",
       " [6, 8, 6, 3, 5, 7, 6, 4, 10, 2, 10, 6, 3, 9, 5, 4, 5, 5, 10, 9],\n",
       " [8, 8, 7, 1, 1, 9, 8, 1, 1, 7, 4, 9, 4, 8, 2, 1, 4, 8, 5, 1],\n",
       " [7, 2, 10, 8, 4, 6, 10, 9, 1, 9, 4, 4, 2, 9, 2, 1, 1, 4, 5, 7],\n",
       " [8, 5, 2, 6, 9, 10, 4, 9, 8, 5, 2, 5, 8, 6, 9, 4, 10, 7, 4, 10],\n",
       " [7, 3, 2, 10, 9, 4, 7, 1, 5, 5, 9, 5, 10, 2, 9, 10, 7, 7, 3, 7]]"
      ]
     },
     "execution_count": 30,
     "metadata": {},
     "output_type": "execute_result"
    }
   ],
   "source": [
    "k"
   ]
  },
  {
   "cell_type": "code",
   "execution_count": 32,
   "metadata": {},
   "outputs": [
    {
     "data": {
      "text/plain": [
       "[[10, 4, 6, 1, 1, 1, 1, 6, 4, 7, 9, 9, 3, 5, 2, 10, 1, 8, 1, 3],\n",
       " [1, 3, 10, 4, 2, 5, 8, 9, 6, 3, 8, 3, 9, 10, 4, 5, 8, 1, 8, 4],\n",
       " [5, 1, 2, 3, 3, 6, 3, 2, 3, 3, 8, 2, 2, 8, 10, 10, 8, 3, 5, 1],\n",
       " [9, 2, 5, 1, 4, 7, 3, 8, 10, 3, 4, 8, 9, 7, 9, 5, 7, 8, 1, 10],\n",
       " [8, 6, 7, 1, 8, 4, 7, 10, 7, 1, 9, 3, 7, 8, 10, 7, 9, 5, 7, 8],\n",
       " [7, 5, 4, 8, 5, 5, 2, 5, 3, 8, 6, 5, 8, 5, 9, 1, 10, 9, 5, 9],\n",
       " [1, 8, 1, 7, 1, 6, 5, 9, 10, 9, 5, 2, 9, 2, 1, 3, 10, 10, 2, 3],\n",
       " [2, 7, 9, 2, 7, 7, 4, 5, 8, 9, 3, 9, 4, 6, 2, 9, 9, 10, 9, 1],\n",
       " [1, 7, 5, 8, 5, 4, 3, 2, 8, 2, 1, 9, 6, 6, 7, 6, 4, 6, 2, 5],\n",
       " [10, 3, 10, 2, 5, 9, 6, 2, 8, 2, 3, 8, 8, 10, 5, 4, 3, 4, 9, 8],\n",
       " [3, 9, 5, 1, 8, 10, 9, 10, 1, 10, 4, 6, 6, 2, 6, 8, 3, 8, 2, 8],\n",
       " [9, 5, 8, 6, 7, 7, 5, 6, 2, 5, 5, 7, 5, 8, 6, 3, 8, 9, 6, 9],\n",
       " [7, 7, 2, 6, 1, 7, 6, 5, 1, 8, 9, 7, 3, 9, 5, 5, 6, 7, 3, 7],\n",
       " [2, 7, 10, 6, 8, 4, 7, 3, 3, 3, 3, 7, 1, 9, 3, 9, 9, 1, 7, 8],\n",
       " [9, 5, 8, 9, 6, 3, 4, 3, 2, 9, 9, 8, 6, 6, 3, 9, 2, 3, 4, 6],\n",
       " [6, 8, 6, 3, 5, 7, 6, 4, 10, 2, 10, 6, 3, 9, 5, 4, 5, 5, 10, 9]]"
      ]
     },
     "execution_count": 32,
     "metadata": {},
     "output_type": "execute_result"
    }
   ],
   "source": [
    "[[10, 4, 6, 1, 1, 1, 1, 6, 4, 7, 9, 9, 3, 5, 2, 10, 1, 8, 1, 3], [1, 3, 10, 4, 2, 5, 8, 9, 6, 3, 8, 3, 9, 10, 4, 5, 8, 1, 8, 4], [5, 1, 2, 3, 3, 6, 3, 2, 3, 3, 8, 2, 2, 8, 10, 10, 8, 3, 5, 1], [9, 2, 5, 1, 4, 7, 3, 8, 10, 3, 4, 8, 9, 7, 9, 5, 7, 8, 1, 10], [8, 6, 7, 1, 8, 4, 7, 10, 7, 1, 9, 3, 7, 8, 10, 7, 9, 5, 7, 8], [7, 5, 4, 8, 5, 5, 2, 5, 3, 8, 6, 5, 8, 5, 9, 1, 10, 9, 5, 9], [1, 8, 1, 7, 1, 6, 5, 9, 10, 9, 5, 2, 9, 2, 1, 3, 10, 10, 2, 3], [2, 7, 9, 2, 7, 7, 4, 5, 8, 9, 3, 9, 4, 6, 2, 9, 9, 10, 9, 1], [1, 7, 5, 8, 5, 4, 3, 2, 8, 2, 1, 9, 6, 6, 7, 6, 4, 6, 2, 5], [10, 3, 10, 2, 5, 9, 6, 2, 8, 2, 3, 8, 8, 10, 5, 4, 3, 4, 9, 8], [3, 9, 5, 1, 8, 10, 9, 10, 1, 10, 4, 6, 6, 2, 6, 8, 3, 8, 2, 8], [9, 5, 8, 6, 7, 7, 5, 6, 2, 5, 5, 7, 5, 8, 6, 3, 8, 9, 6, 9], [7, 7, 2, 6, 1, 7, 6, 5, 1, 8, 9, 7, 3, 9, 5, 5, 6, 7, 3, 7], [2, 7, 10, 6, 8, 4, 7, 3, 3, 3, 3, 7, 1, 9, 3, 9, 9, 1, 7, 8], [9, 5, 8, 9, 6, 3, 4, 3, 2, 9, 9, 8, 6, 6, 3, 9, 2, 3, 4, 6], [6, 8, 6, 3, 5, 7, 6, 4, 10, 2, 10, 6, 3, 9, 5, 4, 5, 5, 10, 9]]"
   ]
  },
  {
   "cell_type": "code",
   "execution_count": 33,
   "metadata": {},
   "outputs": [
    {
     "data": {
      "text/plain": [
       "{0: '<Matrix><Row><Number>10</Number><Number>4</Number><Number>6</Number><Number>1</Number><Number>1</Number><Number>1</Number><Number>1</Number><Number>6</Number><Number>4</Number><Number>7</Number><Number>9</Number><Number>9</Number><Number>3</Number><Number>5</Number><Number>2</Number><Number>10</Number><Number>1</Number><Number>8</Number><Number>1</Number><Number>3</Number></Row> \\n<Row><Number>1</Number><Number>3</Number><Number>10</Number><Number>4</Number><Number>2</Number><Number>5</Number><Number>8</Number><Number>9</Number><Number>6</Number><Number>3</Number><Number>8</Number><Number>3</Number><Number>9</Number><Number>10</Number><Number>4</Number><Number>5</Number><Number>8</Number><Number>1</Number><Number>8</Number><Number>4</Number></Row> \\n<Row><Number>5</Number><Number>1</Number><Number>2</Number><Number>3</Number><Number>3</Number><Number>6</Number><Number>3</Number><Number>2</Number><Number>3</Number><Number>3</Number><Number>8</Number><Number>2</Number><Number>2</Number><Nu',\n",
       " 1: 'mber>8</Number><Number>10</Number><Number>10</Number><Number>8</Number><Number>3</Number><Number>5</Number><Number>1</Number></Row> \\n<Row><Number>9</Number><Number>2</Number><Number>5</Number><Number>1</Number><Number>4</Number><Number>7</Number><Number>3</Number><Number>8</Number><Number>10</Number><Number>3</Number><Number>4</Number><Number>8</Number><Number>9</Number><Number>7</Number><Number>9</Number><Number>5</Number><Number>7</Number><Number>8</Number><Number>1</Number><Number>10</Number></Row> \\n<Row><Number>8</Number><Number>6</Number><Number>7</Number><Number>1</Number><Number>8</Number><Number>4</Number><Number>7</Number><Number>10</Number><Number>7</Number><Number>1</Number><Number>9</Number><Number>3</Number><Number>7</Number><Number>8</Number><Number>10</Number><Number>7</Number><Number>9</Number><Number>5</Number><Number>7</Number><Number>8</Number></Row> \\n<Row><Number>7</Number><Number>5</Number><Number>4</Number><Number>8</Number><Number>5</Number><Number>5</Number><Num',\n",
       " 2: 'ber>2</Number><Number>5</Number><Number>3</Number><Number>8</Number><Number>6</Number><Number>5</Number><Number>8</Number><Number>5</Number><Number>9</Number><Number>1</Number><Number>10</Number><Number>9</Number><Number>5</Number><Number>9</Number></Row> \\n<Row><Number>1</Number><Number>8</Number><Number>1</Number><Number>7</Number><Number>1</Number><Number>6</Number><Number>5</Number><Number>9</Number><Number>10</Number><Number>9</Number><Number>5</Number><Number>2</Number><Number>9</Number><Number>2</Number><Number>1</Number><Number>3</Number><Number>10</Number><Number>10</Number><Number>2</Number><Number>3</Number></Row> \\n<Row><Number>2</Number><Number>7</Number><Number>9</Number><Number>2</Number><Number>7</Number><Number>7</Number><Number>4</Number><Number>5</Number><Number>8</Number><Number>9</Number><Number>3</Number><Number>9</Number><Number>4</Number><Number>6</Number><Number>2</Number><Number>9</Number><Number>9</Number><Number>10</Number><Number>9</Number><Number>1</Number><',\n",
       " 3: '/Row> \\n<Row><Number>1</Number><Number>7</Number><Number>5</Number><Number>8</Number><Number>5</Number><Number>4</Number><Number>3</Number><Number>2</Number><Number>8</Number><Number>2</Number><Number>1</Number><Number>9</Number><Number>6</Number><Number>6</Number><Number>7</Number><Number>6</Number><Number>4</Number><Number>6</Number><Number>2</Number><Number>5</Number></Row> \\n<Row><Number>10</Number><Number>3</Number><Number>10</Number><Number>2</Number><Number>5</Number><Number>9</Number><Number>6</Number><Number>2</Number><Number>8</Number><Number>2</Number><Number>3</Number><Number>8</Number><Number>8</Number><Number>10</Number><Number>5</Number><Number>4</Number><Number>3</Number><Number>4</Number><Number>9</Number><Number>8</Number></Row> \\n<Row><Number>3</Number><Number>9</Number><Number>5</Number><Number>1</Number><Number>8</Number><Number>10</Number><Number>9</Number><Number>10</Number><Number>1</Number><Number>10</Number><Number>4</Number><Number>6</Number><Number>6</Number><N',\n",
       " 4: 'umber>2</Number><Number>6</Number><Number>8</Number><Number>3</Number><Number>8</Number><Number>2</Number><Number>8</Number></Row> \\n<Row><Number>9</Number><Number>5</Number><Number>8</Number><Number>6</Number><Number>7</Number><Number>7</Number><Number>5</Number><Number>6</Number><Number>2</Number><Number>5</Number><Number>5</Number><Number>7</Number><Number>5</Number><Number>8</Number><Number>6</Number><Number>3</Number><Number>8</Number><Number>9</Number><Number>6</Number><Number>9</Number></Row> \\n<Row><Number>7</Number><Number>7</Number><Number>2</Number><Number>6</Number><Number>1</Number><Number>7</Number><Number>6</Number><Number>5</Number><Number>1</Number><Number>8</Number><Number>9</Number><Number>7</Number><Number>3</Number><Number>9</Number><Number>5</Number><Number>5</Number><Number>6</Number><Number>7</Number><Number>3</Number><Number>7</Number></Row> \\n<Row><Number>2</Number><Number>7</Number><Number>10</Number><Number>6</Number><Number>8</Number><Number>4</Number><Number>',\n",
       " 5: '7</Number><Number>3</Number><Number>3</Number><Number>3</Number><Number>3</Number><Number>7</Number><Number>1</Number><Number>9</Number><Number>3</Number><Number>9</Number><Number>9</Number><Number>1</Number><Number>7</Number><Number>8</Number></Row> \\n<Row><Number>9</Number><Number>5</Number><Number>8</Number><Number>9</Number><Number>6</Number><Number>3</Number><Number>4</Number><Number>3</Number><Number>2</Number><Number>9</Number><Number>9</Number><Number>8</Number><Number>6</Number><Number>6</Number><Number>3</Number><Number>9</Number><Number>2</Number><Number>3</Number><Number>4</Number><Number>6</Number></Row> \\n<Row><Number>6</Number><Number>8</Number><Number>6</Number><Number>3</Number><Number>5</Number><Number>7</Number><Number>6</Number><Number>4</Number><Number>10</Number><Number>2</Number><Number>10</Number><Number>6</Number><Number>3</Number><Number>9</Number><Number>5</Number><Number>4</Number><Number>5</Number><Number>5</Number><Number>10</Number><Number>9</Number></Row> '}"
      ]
     },
     "execution_count": 33,
     "metadata": {},
     "output_type": "execute_result"
    }
   ],
   "source": [
    "{0: '<Matrix><Row><Number>10</Number><Number>4</Number><Number>6</Number><Number>1</Number><Number>1</Number><Number>1</Number><Number>1</Number><Number>6</Number><Number>4</Number><Number>7</Number><Number>9</Number><Number>9</Number><Number>3</Number><Number>5</Number><Number>2</Number><Number>10</Number><Number>1</Number><Number>8</Number><Number>1</Number><Number>3</Number></Row> \\n<Row><Number>1</Number><Number>3</Number><Number>10</Number><Number>4</Number><Number>2</Number><Number>5</Number><Number>8</Number><Number>9</Number><Number>6</Number><Number>3</Number><Number>8</Number><Number>3</Number><Number>9</Number><Number>10</Number><Number>4</Number><Number>5</Number><Number>8</Number><Number>1</Number><Number>8</Number><Number>4</Number></Row> \\n<Row><Number>5</Number><Number>1</Number><Number>2</Number><Number>3</Number><Number>3</Number><Number>6</Number><Number>3</Number><Number>2</Number><Number>3</Number><Number>3</Number><Number>8</Number><Number>2</Number><Number>2</Number><Nu', 1: 'mber>8</Number><Number>10</Number><Number>10</Number><Number>8</Number><Number>3</Number><Number>5</Number><Number>1</Number></Row> \\n<Row><Number>9</Number><Number>2</Number><Number>5</Number><Number>1</Number><Number>4</Number><Number>7</Number><Number>3</Number><Number>8</Number><Number>10</Number><Number>3</Number><Number>4</Number><Number>8</Number><Number>9</Number><Number>7</Number><Number>9</Number><Number>5</Number><Number>7</Number><Number>8</Number><Number>1</Number><Number>10</Number></Row> \\n<Row><Number>8</Number><Number>6</Number><Number>7</Number><Number>1</Number><Number>8</Number><Number>4</Number><Number>7</Number><Number>10</Number><Number>7</Number><Number>1</Number><Number>9</Number><Number>3</Number><Number>7</Number><Number>8</Number><Number>10</Number><Number>7</Number><Number>9</Number><Number>5</Number><Number>7</Number><Number>8</Number></Row> \\n<Row><Number>7</Number><Number>5</Number><Number>4</Number><Number>8</Number><Number>5</Number><Number>5</Number><Num', 2: 'ber>2</Number><Number>5</Number><Number>3</Number><Number>8</Number><Number>6</Number><Number>5</Number><Number>8</Number><Number>5</Number><Number>9</Number><Number>1</Number><Number>10</Number><Number>9</Number><Number>5</Number><Number>9</Number></Row> \\n<Row><Number>1</Number><Number>8</Number><Number>1</Number><Number>7</Number><Number>1</Number><Number>6</Number><Number>5</Number><Number>9</Number><Number>10</Number><Number>9</Number><Number>5</Number><Number>2</Number><Number>9</Number><Number>2</Number><Number>1</Number><Number>3</Number><Number>10</Number><Number>10</Number><Number>2</Number><Number>3</Number></Row> \\n<Row><Number>2</Number><Number>7</Number><Number>9</Number><Number>2</Number><Number>7</Number><Number>7</Number><Number>4</Number><Number>5</Number><Number>8</Number><Number>9</Number><Number>3</Number><Number>9</Number><Number>4</Number><Number>6</Number><Number>2</Number><Number>9</Number><Number>9</Number><Number>10</Number><Number>9</Number><Number>1</Number><', 3: '/Row> \\n<Row><Number>1</Number><Number>7</Number><Number>5</Number><Number>8</Number><Number>5</Number><Number>4</Number><Number>3</Number><Number>2</Number><Number>8</Number><Number>2</Number><Number>1</Number><Number>9</Number><Number>6</Number><Number>6</Number><Number>7</Number><Number>6</Number><Number>4</Number><Number>6</Number><Number>2</Number><Number>5</Number></Row> \\n<Row><Number>10</Number><Number>3</Number><Number>10</Number><Number>2</Number><Number>5</Number><Number>9</Number><Number>6</Number><Number>2</Number><Number>8</Number><Number>2</Number><Number>3</Number><Number>8</Number><Number>8</Number><Number>10</Number><Number>5</Number><Number>4</Number><Number>3</Number><Number>4</Number><Number>9</Number><Number>8</Number></Row> \\n<Row><Number>3</Number><Number>9</Number><Number>5</Number><Number>1</Number><Number>8</Number><Number>10</Number><Number>9</Number><Number>10</Number><Number>1</Number><Number>10</Number><Number>4</Number><Number>6</Number><Number>6</Number><N', 4: 'umber>2</Number><Number>6</Number><Number>8</Number><Number>3</Number><Number>8</Number><Number>2</Number><Number>8</Number></Row> \\n<Row><Number>9</Number><Number>5</Number><Number>8</Number><Number>6</Number><Number>7</Number><Number>7</Number><Number>5</Number><Number>6</Number><Number>2</Number><Number>5</Number><Number>5</Number><Number>7</Number><Number>5</Number><Number>8</Number><Number>6</Number><Number>3</Number><Number>8</Number><Number>9</Number><Number>6</Number><Number>9</Number></Row> \\n<Row><Number>7</Number><Number>7</Number><Number>2</Number><Number>6</Number><Number>1</Number><Number>7</Number><Number>6</Number><Number>5</Number><Number>1</Number><Number>8</Number><Number>9</Number><Number>7</Number><Number>3</Number><Number>9</Number><Number>5</Number><Number>5</Number><Number>6</Number><Number>7</Number><Number>3</Number><Number>7</Number></Row> \\n<Row><Number>2</Number><Number>7</Number><Number>10</Number><Number>6</Number><Number>8</Number><Number>4</Number><Number>', 5: '7</Number><Number>3</Number><Number>3</Number><Number>3</Number><Number>3</Number><Number>7</Number><Number>1</Number><Number>9</Number><Number>3</Number><Number>9</Number><Number>9</Number><Number>1</Number><Number>7</Number><Number>8</Number></Row> \\n<Row><Number>9</Number><Number>5</Number><Number>8</Number><Number>9</Number><Number>6</Number><Number>3</Number><Number>4</Number><Number>3</Number><Number>2</Number><Number>9</Number><Number>9</Number><Number>8</Number><Number>6</Number><Number>6</Number><Number>3</Number><Number>9</Number><Number>2</Number><Number>3</Number><Number>4</Number><Number>6</Number></Row> \\n<Row><Number>6</Number><Number>8</Number><Number>6</Number><Number>3</Number><Number>5</Number><Number>7</Number><Number>6</Number><Number>4</Number><Number>10</Number><Number>2</Number><Number>10</Number><Number>6</Number><Number>3</Number><Number>9</Number><Number>5</Number><Number>4</Number><Number>5</Number><Number>5</Number><Number>10</Number><Number>9</Number></Row> '}"
   ]
  },
  {
   "cell_type": "code",
   "execution_count": 37,
   "metadata": {},
   "outputs": [],
   "source": [
    "l=[[6, 1, 10, 1, 5, 1, 4, 3, 5, 4, 5, 6, 9, 1, 2, 3, 1, 4, 8, 7], [5, 10, 9, 2, 3, 6, 2, 2, 10, 4, 5, 6, 8, 9, 7, 2, 5, 3, 10, 4], [9, 10, 4, 4, 10, 3, 9, 5, 10, 1, 9, 8, 3, 3, 6, 7, 8, 8, 7, 7], [10, 10, 7, 10, 7, 1, 5, 8, 9, 9, 9, 4, 7, 3, 7, 10, 10, 7, 4, 3], [10, 4, 10, 7, 9, 5, 8, 3, 6, 3, 8, 8, 4, 2, 1, 2, 5, 6, 10, 9], [3, 4, 4, 4, 6, 2, 10, 8, 5, 8, 4, 7, 7, 1, 9, 10, 7, 8, 9, 1], [10, 3, 2, 2, 7, 6, 1, 9, 6, 7, 10, 3, 9, 10, 10, 1, 10, 8, 5, 7], [7, 9, 10, 4, 9, 10, 10, 3, 8, 6, 2, 1, 3, 4, 10, 8, 3, 7, 7, 8], [9, 7, 1, 8, 7, 9, 1, 4, 9, 1, 5, 9, 4, 8, 6, 6, 2, 3, 7, 8], [5, 3, 10, 10, 4, 9, 4, 6, 1, 8, 7, 8, 9, 4, 6, 6, 9, 3, 2, 3], [2, 5, 6, 3, 4, 3, 3, 9, 2, 1, 4, 10, 2, 2, 10, 6, 10, 5, 7, 5], [7, 1, 2, 8, 6, 3, 6, 5, 8, 7, 8, 4, 1, 9, 5, 4, 6, 7, 7, 10], [5, 9, 4, 2, 8, 2, 5, 9, 2, 4, 4, 9, 10, 7, 3, 1, 8, 1, 9, 2], [7, 8, 10, 5, 1, 4, 2, 10, 1, 10, 1, 8, 8, 3, 7, 5, 1, 7, 8, 2], [5, 2, 4, 4, 1, 1, 10, 8, 10, 9, 8, 10, 6, 4, 5, 6, 8, 7, 5, 2], [8, 5, 5, 2, 2, 3, 3, 10, 7, 3, 4, 2, 9, 2, 6, 2, 4, 3, 2, 1], [3, 7, 6, 7, 4, 4, 3, 10, 4, 4, 2, 8, 4, 1, 6, 2, 2, 6, 2, 9], [4, 3, 4, 2, 2, 6, 2, 3, 6, 7, 8, 2, 6, 2, 10, 10, 4, 7, 7, 8], [3, 1, 4, 9, 10, 3, 7, 4, 9, 3, 4, 5, 6, 10, 1, 10, 6, 8, 2, 3], [4, 9, 4, 5, 7, 5, 7, 5, 5, 10, 1, 5, 2, 3, 5, 8, 3, 2, 10, 9]]\n"
   ]
  },
  {
   "cell_type": "code",
   "execution_count": 36,
   "metadata": {},
   "outputs": [],
   "source": [
    "k=[[6, 1, 10, 1, 5, 1, 4, 3, 5, 4, 5, 6, 9, 1, 2, 3, 1, 4, 8, 7], [5, 10, 9, 2, 3, 6, 2, 2, 10, 4, 5, 6, 8, 9, 7, 2, 5, 3, 10, 4], [9, 10, 4, 4, 10, 3, 9, 5, 10, 1, 9, 8, 3, 3, 6, 7, 8, 8, 7, 7], [10, 10, 7, 10, 7, 1, 5, 8, 9, 9, 9, 4, 7, 3, 7, 10, 10, 7, 4, 3], [10, 4, 10, 7, 9, 5, 8, 3, 6, 3, 8, 8, 4, 2, 1, 2, 5, 6, 10, 9], [3, 4, 4, 4, 6, 2, 10, 8, 5, 8, 4, 7, 7, 1, 9, 10, 7, 8, 9, 1], [10, 3, 2, 2, 7, 6, 1, 9, 6, 7, 10, 3, 9, 10, 10, 1, 10, 8, 5, 7], [7, 9, 10, 4, 9, 10, 10, 3, 8, 6, 2, 1, 3, 4, 10, 8, 3, 7, 7, 8], [9, 7, 1, 8, 7, 9, 1, 4, 9, 1, 5, 9, 4, 8, 6, 6, 2, 3, 7, 8], [5, 3, 10, 10, 4, 9, 4, 6, 1, 8, 7, 8, 9, 4, 6, 6, 9, 3, 2, 3], [2, 5, 6, 3, 4, 3, 3, 9, 2, 1, 4, 10, 2, 2, 10, 6, 10, 5, 7, 5], [7, 1, 2, 8, 6, 3, 6, 5, 8, 7, 8, 4, 1, 9, 5, 4, 6, 7, 7, 10], [5, 9, 4, 2, 8, 2, 5, 9, 2, 4, 4, 9, 10, 7, 3, 1, 8, 1, 9, 2], [7, 8, 10, 5, 1, 4, 2, 10, 1, 10, 1, 8, 8, 3, 7, 5, 1, 7, 8, 2], [5, 2, 4, 4, 1, 1, 10, 8, 10, 9, 8, 10, 6, 4, 5, 6, 8, 7, 5, 2], [8, 5, 5, 2, 2, 3, 3, 10, 7, 3, 4, 2, 9, 2, 6, 2, 4, 3, 2, 1], [3, 7, 6, 7, 4, 4, 3, 10, 4, 4, 2, 8, 4, 1, 6, 2, 2, 6, 2, 9], [4, 3, 4, 2, 2, 6, 2, 3, 6, 7, 8, 2, 6, 2, 10, 10, 4, 7, 7, 8], [3, 1, 4, 9, 10, 3, 7, 4, 9, 3, 4, 5, 6, 10, 1, 10, 6, 8, 2, 3], [4, 9, 4, 5, 7, 5, 7, 5, 5, 10, 1, 5, 2, 3, 5, 8, 3, 2, 10, 9]]"
   ]
  },
  {
   "cell_type": "code",
   "execution_count": 38,
   "metadata": {},
   "outputs": [
    {
     "data": {
      "text/plain": [
       "True"
      ]
     },
     "execution_count": 38,
     "metadata": {},
     "output_type": "execute_result"
    }
   ],
   "source": [
    "l==k"
   ]
  },
  {
   "cell_type": "code",
   "execution_count": 39,
   "metadata": {},
   "outputs": [
    {
     "data": {
      "text/plain": [
       "[[6, 1, 10, 1, 5, 1, 4, 3, 5, 4, 5, 6, 9, 1, 2, 3, 1, 4, 8, 7],\n",
       " [5, 10, 9, 2, 3, 6, 2, 2, 10, 4, 5, 6, 8, 9, 7, 2, 5, 3, 10, 4],\n",
       " [9, 10, 4, 4, 10, 3, 9, 5, 10, 1, 9, 8, 3, 3, 6, 7, 8, 8, 7, 7],\n",
       " [10, 10, 7, 10, 7, 1, 5, 8, 9, 9, 9, 4, 7, 3, 7, 10, 10, 7, 4, 3],\n",
       " [10, 4, 10, 7, 9, 5, 8, 3, 6, 3, 8, 8, 4, 2, 1, 2, 5, 6, 10, 9],\n",
       " [3, 4, 4, 4, 6, 2, 10, 8, 5, 8, 4, 7, 7, 1, 9, 10, 7, 8, 9, 1],\n",
       " [10, 3, 2, 2, 7, 6, 1, 9, 6, 7, 10, 3, 9, 10, 10, 1, 10, 8, 5, 7],\n",
       " [7, 9, 10, 4, 9, 10, 10, 3, 8, 6, 2, 1, 3, 4, 10, 8, 3, 7, 7, 8],\n",
       " [9, 7, 1, 8, 7, 9, 1, 4, 9, 1, 5, 9, 4, 8, 6, 6, 2, 3, 7, 8],\n",
       " [5, 3, 10, 10, 4, 9, 4, 6, 1, 8, 7, 8, 9, 4, 6, 6, 9, 3, 2, 3],\n",
       " [2, 5, 6, 3, 4, 3, 3, 9, 2, 1, 4, 10, 2, 2, 10, 6, 10, 5, 7, 5],\n",
       " [7, 1, 2, 8, 6, 3, 6, 5, 8, 7, 8, 4, 1, 9, 5, 4, 6, 7, 7, 10],\n",
       " [5, 9, 4, 2, 8, 2, 5, 9, 2, 4, 4, 9, 10, 7, 3, 1, 8, 1, 9, 2],\n",
       " [7, 8, 10, 5, 1, 4, 2, 10, 1, 10, 1, 8, 8, 3, 7, 5, 1, 7, 8, 2],\n",
       " [5, 2, 4, 4, 1, 1, 10, 8, 10, 9, 8, 10, 6, 4, 5, 6, 8, 7, 5, 2],\n",
       " [8, 5, 5, 2, 2, 3, 3, 10, 7, 3, 4, 2, 9, 2, 6, 2, 4, 3, 2, 1],\n",
       " [3, 7, 6, 7, 4, 4, 3, 10, 4, 4, 2, 8, 4, 1, 6, 2, 2, 6, 2, 9],\n",
       " [4, 3, 4, 2, 2, 6, 2, 3, 6, 7, 8, 2, 6, 2, 10, 10, 4, 7, 7, 8],\n",
       " [3, 1, 4, 9, 10, 3, 7, 4, 9, 3, 4, 5, 6, 10, 1, 10, 6, 8, 2, 3],\n",
       " [4, 9, 4, 5, 7, 5, 7, 5, 5, 10, 1, 5, 2, 3, 5, 8, 3, 2, 10, 9]]"
      ]
     },
     "execution_count": 39,
     "metadata": {},
     "output_type": "execute_result"
    }
   ],
   "source": [
    "l"
   ]
  },
  {
   "cell_type": "code",
   "execution_count": 42,
   "metadata": {},
   "outputs": [],
   "source": [
    "def getParity(number):\n",
    "    if bin(number).count('1')==1:\n",
    "        return 1\n",
    "    else:\n",
    "        return 0"
   ]
  },
  {
   "cell_type": "code",
   "execution_count": 49,
   "metadata": {},
   "outputs": [],
   "source": [
    "def getParityMatrix(mat):\n",
    "    parMat =[]\n",
    "    for row in mat:\n",
    "        tempRow=[]\n",
    "        for number in row:\n",
    "            tempRow.append(getParity(int(number)))\n",
    "        parMat.append(tempRow)\n",
    "    return parMat\n",
    "    "
   ]
  },
  {
   "cell_type": "code",
   "execution_count": 55,
   "metadata": {},
   "outputs": [],
   "source": [
    "parL=getParityMatrix(l)"
   ]
  },
  {
   "cell_type": "code",
   "execution_count": 56,
   "metadata": {},
   "outputs": [],
   "source": [
    "parK=getParityMatrix(k)"
   ]
  },
  {
   "cell_type": "code",
   "execution_count": 53,
   "metadata": {},
   "outputs": [
    {
     "data": {
      "text/plain": [
       "True"
      ]
     },
     "execution_count": 53,
     "metadata": {},
     "output_type": "execute_result"
    }
   ],
   "source": [
    "getParityMatrix(k) == getParityMatrix(l)"
   ]
  },
  {
   "cell_type": "code",
   "execution_count": 60,
   "metadata": {},
   "outputs": [
    {
     "data": {
      "text/plain": [
       "False"
      ]
     },
     "execution_count": 60,
     "metadata": {},
     "output_type": "execute_result"
    }
   ],
   "source": [
    "parK == parL"
   ]
  },
  {
   "cell_type": "code",
   "execution_count": 59,
   "metadata": {},
   "outputs": [],
   "source": [
    "parK[5][5] =0"
   ]
  },
  {
   "cell_type": "code",
   "execution_count": 61,
   "metadata": {},
   "outputs": [
    {
     "name": "stdout",
     "output_type": "stream",
     "text": [
      "5 5\n"
     ]
    }
   ],
   "source": [
    "for i in range(len(parK)):\n",
    "    for j in range(len(parK)):\n",
    "        if(parK[i][j] != parL[i][j]):\n",
    "            print(i,j)"
   ]
  },
  {
   "cell_type": "code",
   "execution_count": 62,
   "metadata": {},
   "outputs": [],
   "source": [
    "def encapsulateParityMatrix(parMat):\n",
    "    requiredString = \"<Matrix>\"\n",
    "    for row in parMat:\n",
    "        requiredString+=\"<Row>\"\n",
    "        for digit in row:\n",
    "            requiredString+=\"<Parity>{}</Parity>\".format(digit)\n",
    "        requiredString+=\"</Row>\"\n",
    "    return requiredString"
   ]
  },
  {
   "cell_type": "code",
   "execution_count": 65,
   "metadata": {},
   "outputs": [
    {
     "data": {
      "text/plain": [
       "'<Matrix><parity>0</parity><parity>1</parity><parity>0</parity><parity>1</parity><parity>0</parity><parity>1</parity><parity>1</parity><parity>0</parity><parity>0</parity><parity>1</parity><parity>0</parity><parity>0</parity><parity>0</parity><parity>1</parity><parity>1</parity><parity>0</parity><parity>1</parity><parity>1</parity><parity>1</parity><parity>0</parity><parity>0</parity><parity>0</parity><parity>0</parity><parity>1</parity><parity>0</parity><parity>0</parity><parity>1</parity><parity>1</parity><parity>0</parity><parity>1</parity><parity>0</parity><parity>0</parity><parity>1</parity><parity>0</parity><parity>0</parity><parity>1</parity><parity>0</parity><parity>0</parity><parity>0</parity><parity>1</parity><parity>0</parity><parity>0</parity><parity>1</parity><parity>1</parity><parity>0</parity><parity>0</parity><parity>0</parity><parity>0</parity><parity>0</parity><parity>1</parity><parity>0</parity><parity>1</parity><parity>0</parity><parity>0</parity><parity>0</parity><parity>0</parity><parity>1</parity><parity>1</parity><parity>0</parity><parity>0</parity><parity>0</parity><parity>0</parity><parity>0</parity><parity>0</parity><parity>0</parity><parity>1</parity><parity>0</parity><parity>1</parity><parity>0</parity><parity>0</parity><parity>0</parity><parity>1</parity><parity>0</parity><parity>0</parity><parity>0</parity><parity>0</parity><parity>0</parity><parity>0</parity><parity>1</parity><parity>0</parity><parity>0</parity><parity>1</parity><parity>0</parity><parity>0</parity><parity>0</parity><parity>0</parity><parity>1</parity><parity>0</parity><parity>0</parity><parity>0</parity><parity>1</parity><parity>1</parity><parity>1</parity><parity>1</parity><parity>1</parity><parity>1</parity><parity>0</parity><parity>0</parity><parity>0</parity><parity>0</parity><parity>0</parity><parity>1</parity><parity>1</parity><parity>1</parity><parity>0</parity><parity>0</parity><parity>0</parity><parity>1</parity><parity>0</parity><parity>1</parity><parity>1</parity><parity>0</parity><parity>0</parity><parity>1</parity><parity>0</parity><parity>0</parity><parity>0</parity><parity>1</parity><parity>0</parity><parity>1</parity><parity>0</parity><parity>0</parity><parity>1</parity><parity>1</parity><parity>0</parity><parity>0</parity><parity>1</parity><parity>0</parity><parity>0</parity><parity>0</parity><parity>0</parity><parity>0</parity><parity>0</parity><parity>0</parity><parity>0</parity><parity>1</parity><parity>0</parity><parity>1</parity><parity>0</parity><parity>0</parity><parity>0</parity><parity>0</parity><parity>0</parity><parity>1</parity><parity>0</parity><parity>0</parity><parity>0</parity><parity>0</parity><parity>1</parity><parity>0</parity><parity>1</parity><parity>1</parity><parity>0</parity><parity>1</parity><parity>0</parity><parity>1</parity><parity>0</parity><parity>0</parity><parity>0</parity><parity>1</parity><parity>0</parity><parity>0</parity><parity>1</parity><parity>1</parity><parity>0</parity><parity>0</parity><parity>1</parity><parity>1</parity><parity>0</parity><parity>1</parity><parity>0</parity><parity>0</parity><parity>1</parity><parity>1</parity><parity>0</parity><parity>0</parity><parity>1</parity><parity>0</parity><parity>0</parity><parity>1</parity><parity>0</parity><parity>0</parity><parity>0</parity><parity>0</parity><parity>1</parity><parity>0</parity><parity>1</parity><parity>0</parity><parity>1</parity><parity>1</parity><parity>0</parity><parity>1</parity><parity>0</parity><parity>1</parity><parity>0</parity><parity>0</parity><parity>0</parity><parity>0</parity><parity>1</parity><parity>0</parity><parity>1</parity><parity>0</parity><parity>0</parity><parity>0</parity><parity>1</parity><parity>0</parity><parity>0</parity><parity>0</parity><parity>1</parity><parity>1</parity><parity>1</parity><parity>0</parity><parity>1</parity><parity>1</parity><parity>0</parity><parity>0</parity><parity>0</parity><parity>0</parity><parity>0</parity><parity>0</parity><parity>0</parity><parity>1</parity><parity>1</parity><parity>1</parity><parity>0</parity><parity>0</parity><parity>0</parity><parity>0</parity><parity>1</parity><parity>0</parity><parity>1</parity><parity>1</parity><parity>1</parity><parity>0</parity><parity>0</parity><parity>1</parity><parity>0</parity><parity>0</parity><parity>0</parity><parity>0</parity><parity>0</parity><parity>0</parity><parity>1</parity><parity>1</parity><parity>1</parity><parity>1</parity><parity>0</parity><parity>0</parity><parity>1</parity><parity>1</parity><parity>1</parity><parity>0</parity><parity>0</parity><parity>0</parity><parity>0</parity><parity>1</parity><parity>1</parity><parity>1</parity><parity>0</parity><parity>1</parity><parity>0</parity><parity>1</parity><parity>0</parity><parity>0</parity><parity>1</parity><parity>1</parity><parity>1</parity><parity>0</parity><parity>1</parity><parity>0</parity><parity>1</parity><parity>1</parity><parity>1</parity><parity>0</parity><parity>0</parity><parity>0</parity><parity>1</parity><parity>0</parity><parity>1</parity><parity>1</parity><parity>0</parity><parity>1</parity><parity>1</parity><parity>1</parity><parity>1</parity><parity>1</parity><parity>0</parity><parity>1</parity><parity>0</parity><parity>0</parity><parity>1</parity><parity>0</parity><parity>0</parity><parity>1</parity><parity>0</parity><parity>0</parity><parity>1</parity><parity>0</parity><parity>0</parity><parity>1</parity><parity>1</parity><parity>0</parity><parity>0</parity><parity>1</parity><parity>1</parity><parity>0</parity><parity>0</parity><parity>0</parity><parity>0</parity><parity>0</parity><parity>1</parity><parity>1</parity><parity>0</parity><parity>1</parity><parity>0</parity><parity>1</parity><parity>1</parity><parity>0</parity><parity>1</parity><parity>1</parity><parity>0</parity><parity>0</parity><parity>0</parity><parity>0</parity><parity>1</parity><parity>1</parity><parity>0</parity><parity>0</parity><parity>1</parity><parity>1</parity><parity>1</parity><parity>1</parity><parity>1</parity><parity>1</parity><parity>0</parity><parity>1</parity><parity>1</parity><parity>0</parity><parity>1</parity><parity>0</parity><parity>1</parity><parity>0</parity><parity>1</parity><parity>1</parity><parity>1</parity><parity>0</parity><parity>1</parity><parity>0</parity><parity>0</parity><parity>0</parity><parity>1</parity><parity>1</parity><parity>0</parity><parity>1</parity><parity>0</parity><parity>0</parity><parity>1</parity><parity>0</parity><parity>0</parity><parity>1</parity><parity>0</parity><parity>1</parity><parity>1</parity><parity>0</parity><parity>0</parity><parity>0</parity><parity>0</parity><parity>1</parity><parity>0</parity><parity>0</parity><parity>1</parity><parity>0</parity><parity>0</parity><parity>0</parity><parity>1</parity><parity>0</parity><parity>0</parity><parity>1</parity><parity>1</parity><parity>0</parity><parity>1</parity><parity>0</parity><parity>1</parity><parity>0</parity><parity>0</parity><parity>0</parity><parity>0</parity><parity>0</parity><parity>0</parity><parity>0</parity><parity>1</parity><parity>0</parity><parity>1</parity><parity>0</parity><parity>0</parity><parity>1</parity><parity>0</parity><parity>1</parity><parity>0</parity><parity>0</parity>'"
      ]
     },
     "execution_count": 65,
     "metadata": {},
     "output_type": "execute_result"
    }
   ],
   "source": [
    "encapsulateParityMatrix(parK)"
   ]
  },
  {
   "cell_type": "code",
   "execution_count": null,
   "metadata": {},
   "outputs": [],
   "source": []
  }
 ],
 "metadata": {
  "kernelspec": {
   "display_name": "Python 3",
   "language": "python",
   "name": "python3"
  },
  "language_info": {
   "codemirror_mode": {
    "name": "ipython",
    "version": 3
   },
   "file_extension": ".py",
   "mimetype": "text/x-python",
   "name": "python",
   "nbconvert_exporter": "python",
   "pygments_lexer": "ipython3",
   "version": "3.6.4"
  }
 },
 "nbformat": 4,
 "nbformat_minor": 2
}
